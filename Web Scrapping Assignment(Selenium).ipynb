{
 "cells": [
  {
   "cell_type": "markdown",
   "id": "cd21e55d",
   "metadata": {},
   "source": [
    "# QUESTION 1"
   ]
  },
  {
   "cell_type": "code",
   "execution_count": 85,
   "id": "c06096fb",
   "metadata": {},
   "outputs": [],
   "source": [
    "import selenium\n",
    "from selenium import webdriver\n",
    "from selenium.common.exceptions import NoSuchElementException\n",
    "import pandas as pd\n",
    "import warnings\n",
    "warnings.filterwarnings('ignore')"
   ]
  },
  {
   "cell_type": "code",
   "execution_count": 86,
   "id": "560eeb96",
   "metadata": {},
   "outputs": [],
   "source": [
    "driver=webdriver.Chrome('chromedriver.exe')"
   ]
  },
  {
   "cell_type": "code",
   "execution_count": 87,
   "id": "428695dd",
   "metadata": {},
   "outputs": [],
   "source": [
    "# To open the website\n",
    "url='https://www.naukri.com/'\n",
    "driver.get(url)"
   ]
  },
  {
   "cell_type": "code",
   "execution_count": 88,
   "id": "1233eca3",
   "metadata": {},
   "outputs": [
    {
     "data": {
      "text/plain": [
       "<selenium.webdriver.remote.webelement.WebElement (session=\"582e2b15a441439f12b0598cabb8be19\", element=\"cd533b27-d1b6-4c39-a657-dfeebf2f449b\")>"
      ]
     },
     "execution_count": 88,
     "metadata": {},
     "output_type": "execute_result"
    }
   ],
   "source": [
    "# To find “Skill, Designations, Companies” field\n",
    "job=driver.find_element_by_class_name('suggestor-input')\n",
    "job"
   ]
  },
  {
   "cell_type": "code",
   "execution_count": 89,
   "id": "c9c3e33d",
   "metadata": {},
   "outputs": [],
   "source": [
    "# To enter “Data Analyst” in the field\n",
    "job.send_keys('Data Analyst')"
   ]
  },
  {
   "cell_type": "code",
   "execution_count": 90,
   "id": "e91836b2",
   "metadata": {},
   "outputs": [
    {
     "data": {
      "text/plain": [
       "<selenium.webdriver.remote.webelement.WebElement (session=\"582e2b15a441439f12b0598cabb8be19\", element=\"5998ca75-bfa4-4fd5-84d5-7b2e96cf8551\")>"
      ]
     },
     "execution_count": 90,
     "metadata": {},
     "output_type": "execute_result"
    }
   ],
   "source": [
    "# To find 'Location' field\n",
    "loc=driver.find_element_by_xpath('/html/body/div/div[2]/div[3]/div/div/div[3]/div/div/div/input')\n",
    "loc"
   ]
  },
  {
   "cell_type": "code",
   "execution_count": 91,
   "id": "2849da72",
   "metadata": {},
   "outputs": [],
   "source": [
    "# To enter “Bangalore” in the field\n",
    "loc.send_keys('Bangalore')"
   ]
  },
  {
   "cell_type": "code",
   "execution_count": 92,
   "id": "cb9c4ed2",
   "metadata": {},
   "outputs": [
    {
     "data": {
      "text/plain": [
       "<selenium.webdriver.remote.webelement.WebElement (session=\"582e2b15a441439f12b0598cabb8be19\", element=\"998294af-e5a0-4c49-8093-44d4e0d8cfd6\")>"
      ]
     },
     "execution_count": 92,
     "metadata": {},
     "output_type": "execute_result"
    }
   ],
   "source": [
    "# To click on the search button\n",
    "search=driver.find_element_by_xpath('/html/body/div/div[2]/div[3]/div/div/div[6]')\n",
    "search"
   ]
  },
  {
   "cell_type": "code",
   "execution_count": 93,
   "id": "0bd0afc4",
   "metadata": {},
   "outputs": [],
   "source": [
    "search.click()"
   ]
  },
  {
   "cell_type": "code",
   "execution_count": 94,
   "id": "f751b7d7",
   "metadata": {},
   "outputs": [],
   "source": [
    "# To scrap the job title\n",
    "t=driver.find_elements_by_xpath('//a[@class=\"title fw500 ellipsis\"]')\n",
    "t=t[0:10]"
   ]
  },
  {
   "cell_type": "code",
   "execution_count": 95,
   "id": "392a8044",
   "metadata": {},
   "outputs": [
    {
     "data": {
      "text/plain": [
       "['Data Analyst I',\n",
       " 'Hiring For Data Analyst I(SQL & Python)',\n",
       " 'Senior Data Analyst',\n",
       " 'Senior Data Analyst II',\n",
       " 'Senior Data Analyst',\n",
       " 'Senior Data Analyst II',\n",
       " 'Senior Data Analyst II',\n",
       " 'Looking For Data Analyst - Remote Support',\n",
       " 'Job openings For Data Analyst - AOA',\n",
       " 'Cargill - Data Analyst - Corporate Audit Domain II']"
      ]
     },
     "execution_count": 95,
     "metadata": {},
     "output_type": "execute_result"
    }
   ],
   "source": [
    "title=[]\n",
    "for i in t:\n",
    "    title.append(i.text)\n",
    "title[0:10]"
   ]
  },
  {
   "cell_type": "code",
   "execution_count": 96,
   "id": "a3f1ce1d",
   "metadata": {},
   "outputs": [],
   "source": [
    "# To scrap the job location\n",
    "l=driver.find_elements_by_xpath('//li[@class=\"fleft grey-text br2 placeHolderLi location\"]')\n",
    "l=l[0:10]"
   ]
  },
  {
   "cell_type": "code",
   "execution_count": 97,
   "id": "2061d141",
   "metadata": {},
   "outputs": [
    {
     "data": {
      "text/plain": [
       "['Bangalore/Bengaluru',\n",
       " 'Bangalore/Bengaluru',\n",
       " 'Bangalore/Bengaluru',\n",
       " 'Bangalore/Bengaluru',\n",
       " 'Bangalore/Bengaluru',\n",
       " 'Bangalore/Bengaluru',\n",
       " 'Bangalore/Bengaluru',\n",
       " 'Hyderabad/Secunderabad, Chennai, Bangalore/Bengaluru',\n",
       " 'Bangalore/Bengaluru(4th Phase JP Nagar)',\n",
       " 'Bangalore/Bengaluru']"
      ]
     },
     "execution_count": 97,
     "metadata": {},
     "output_type": "execute_result"
    }
   ],
   "source": [
    "location=[]\n",
    "for i in l:\n",
    "    location.append(i.text)\n",
    "location[0:10]"
   ]
  },
  {
   "cell_type": "code",
   "execution_count": 98,
   "id": "cf15a2c6",
   "metadata": {},
   "outputs": [],
   "source": [
    "# To scrap the company name\n",
    "c=driver.find_elements_by_xpath('//a[@class=\"subTitle ellipsis fleft\"]')\n",
    "c=c[0:10]"
   ]
  },
  {
   "cell_type": "code",
   "execution_count": 99,
   "id": "6c9fa15e",
   "metadata": {},
   "outputs": [
    {
     "data": {
      "text/plain": [
       "['Cerner',\n",
       " 'Clario India Pvt Ltd',\n",
       " 'Capco',\n",
       " 'Flipkart',\n",
       " 'Flipkart',\n",
       " 'Flipkart',\n",
       " 'Flipkart',\n",
       " 'Locuz Enterprise Solutions Ltd',\n",
       " 'izmo ltd',\n",
       " 'Cargill Business Services India Private Limited']"
      ]
     },
     "execution_count": 99,
     "metadata": {},
     "output_type": "execute_result"
    }
   ],
   "source": [
    "company=[]\n",
    "for i in c:\n",
    "    company.append(i.text)\n",
    "company[0:10]"
   ]
  },
  {
   "cell_type": "code",
   "execution_count": 100,
   "id": "f8931293",
   "metadata": {},
   "outputs": [],
   "source": [
    "# To scrap the experience required\n",
    "e=driver.find_elements_by_xpath('//li[@class=\"fleft grey-text br2 placeHolderLi experience\"]')\n",
    "e=e[0:10]"
   ]
  },
  {
   "cell_type": "code",
   "execution_count": 101,
   "id": "67489daa",
   "metadata": {},
   "outputs": [
    {
     "data": {
      "text/plain": [
       "['5-10 Yrs',\n",
       " '0-2 Yrs',\n",
       " '4-8 Yrs',\n",
       " '3-6 Yrs',\n",
       " '3-8 Yrs',\n",
       " '2-4 Yrs',\n",
       " '2-4 Yrs',\n",
       " '5-10 Yrs',\n",
       " '2-3 Yrs',\n",
       " '6-11 Yrs']"
      ]
     },
     "execution_count": 101,
     "metadata": {},
     "output_type": "execute_result"
    }
   ],
   "source": [
    "exp=[]\n",
    "for i in e:\n",
    "    exp.append(i.text)\n",
    "exp[0:10]"
   ]
  },
  {
   "cell_type": "code",
   "execution_count": 102,
   "id": "ebbdc555",
   "metadata": {},
   "outputs": [
    {
     "name": "stdout",
     "output_type": "stream",
     "text": [
      "10 10 10 10\n"
     ]
    }
   ],
   "source": [
    "print(len(title),len(location),len(company),len(exp))"
   ]
  },
  {
   "cell_type": "code",
   "execution_count": 103,
   "id": "cd67764b",
   "metadata": {},
   "outputs": [
    {
     "data": {
      "text/html": [
       "<div>\n",
       "<style scoped>\n",
       "    .dataframe tbody tr th:only-of-type {\n",
       "        vertical-align: middle;\n",
       "    }\n",
       "\n",
       "    .dataframe tbody tr th {\n",
       "        vertical-align: top;\n",
       "    }\n",
       "\n",
       "    .dataframe thead th {\n",
       "        text-align: right;\n",
       "    }\n",
       "</style>\n",
       "<table border=\"1\" class=\"dataframe\">\n",
       "  <thead>\n",
       "    <tr style=\"text-align: right;\">\n",
       "      <th></th>\n",
       "      <th>Job Title</th>\n",
       "      <th>Job Location</th>\n",
       "      <th>Company Name</th>\n",
       "      <th>Experience</th>\n",
       "    </tr>\n",
       "  </thead>\n",
       "  <tbody>\n",
       "    <tr>\n",
       "      <th>0</th>\n",
       "      <td>Data Analyst I</td>\n",
       "      <td>Bangalore/Bengaluru</td>\n",
       "      <td>Cerner</td>\n",
       "      <td>5-10 Yrs</td>\n",
       "    </tr>\n",
       "    <tr>\n",
       "      <th>1</th>\n",
       "      <td>Hiring For Data Analyst I(SQL &amp; Python)</td>\n",
       "      <td>Bangalore/Bengaluru</td>\n",
       "      <td>Clario India Pvt Ltd</td>\n",
       "      <td>0-2 Yrs</td>\n",
       "    </tr>\n",
       "    <tr>\n",
       "      <th>2</th>\n",
       "      <td>Senior Data Analyst</td>\n",
       "      <td>Bangalore/Bengaluru</td>\n",
       "      <td>Capco</td>\n",
       "      <td>4-8 Yrs</td>\n",
       "    </tr>\n",
       "    <tr>\n",
       "      <th>3</th>\n",
       "      <td>Senior Data Analyst II</td>\n",
       "      <td>Bangalore/Bengaluru</td>\n",
       "      <td>Flipkart</td>\n",
       "      <td>3-6 Yrs</td>\n",
       "    </tr>\n",
       "    <tr>\n",
       "      <th>4</th>\n",
       "      <td>Senior Data Analyst</td>\n",
       "      <td>Bangalore/Bengaluru</td>\n",
       "      <td>Flipkart</td>\n",
       "      <td>3-8 Yrs</td>\n",
       "    </tr>\n",
       "    <tr>\n",
       "      <th>5</th>\n",
       "      <td>Senior Data Analyst II</td>\n",
       "      <td>Bangalore/Bengaluru</td>\n",
       "      <td>Flipkart</td>\n",
       "      <td>2-4 Yrs</td>\n",
       "    </tr>\n",
       "    <tr>\n",
       "      <th>6</th>\n",
       "      <td>Senior Data Analyst II</td>\n",
       "      <td>Bangalore/Bengaluru</td>\n",
       "      <td>Flipkart</td>\n",
       "      <td>2-4 Yrs</td>\n",
       "    </tr>\n",
       "    <tr>\n",
       "      <th>7</th>\n",
       "      <td>Looking For Data Analyst - Remote Support</td>\n",
       "      <td>Hyderabad/Secunderabad, Chennai, Bangalore/Ben...</td>\n",
       "      <td>Locuz Enterprise Solutions Ltd</td>\n",
       "      <td>5-10 Yrs</td>\n",
       "    </tr>\n",
       "    <tr>\n",
       "      <th>8</th>\n",
       "      <td>Job openings For Data Analyst - AOA</td>\n",
       "      <td>Bangalore/Bengaluru(4th Phase JP Nagar)</td>\n",
       "      <td>izmo ltd</td>\n",
       "      <td>2-3 Yrs</td>\n",
       "    </tr>\n",
       "    <tr>\n",
       "      <th>9</th>\n",
       "      <td>Cargill - Data Analyst - Corporate Audit Domai...</td>\n",
       "      <td>Bangalore/Bengaluru</td>\n",
       "      <td>Cargill Business Services India Private Limited</td>\n",
       "      <td>6-11 Yrs</td>\n",
       "    </tr>\n",
       "  </tbody>\n",
       "</table>\n",
       "</div>"
      ],
      "text/plain": [
       "                                           Job Title  \\\n",
       "0                                     Data Analyst I   \n",
       "1            Hiring For Data Analyst I(SQL & Python)   \n",
       "2                                Senior Data Analyst   \n",
       "3                             Senior Data Analyst II   \n",
       "4                                Senior Data Analyst   \n",
       "5                             Senior Data Analyst II   \n",
       "6                             Senior Data Analyst II   \n",
       "7          Looking For Data Analyst - Remote Support   \n",
       "8                Job openings For Data Analyst - AOA   \n",
       "9  Cargill - Data Analyst - Corporate Audit Domai...   \n",
       "\n",
       "                                        Job Location  \\\n",
       "0                                Bangalore/Bengaluru   \n",
       "1                                Bangalore/Bengaluru   \n",
       "2                                Bangalore/Bengaluru   \n",
       "3                                Bangalore/Bengaluru   \n",
       "4                                Bangalore/Bengaluru   \n",
       "5                                Bangalore/Bengaluru   \n",
       "6                                Bangalore/Bengaluru   \n",
       "7  Hyderabad/Secunderabad, Chennai, Bangalore/Ben...   \n",
       "8            Bangalore/Bengaluru(4th Phase JP Nagar)   \n",
       "9                                Bangalore/Bengaluru   \n",
       "\n",
       "                                      Company Name Experience  \n",
       "0                                           Cerner   5-10 Yrs  \n",
       "1                             Clario India Pvt Ltd    0-2 Yrs  \n",
       "2                                            Capco    4-8 Yrs  \n",
       "3                                         Flipkart    3-6 Yrs  \n",
       "4                                         Flipkart    3-8 Yrs  \n",
       "5                                         Flipkart    2-4 Yrs  \n",
       "6                                         Flipkart    2-4 Yrs  \n",
       "7                   Locuz Enterprise Solutions Ltd   5-10 Yrs  \n",
       "8                                         izmo ltd    2-3 Yrs  \n",
       "9  Cargill Business Services India Private Limited   6-11 Yrs  "
      ]
     },
     "execution_count": 103,
     "metadata": {},
     "output_type": "execute_result"
    }
   ],
   "source": [
    "df=pd.DataFrame({'Job Title':title,\n",
    "                'Job Location':location,\n",
    "                'Company Name':company,\n",
    "                'Experience':exp})\n",
    "df"
   ]
  },
  {
   "cell_type": "markdown",
   "id": "97d9c02a",
   "metadata": {},
   "source": [
    "# QUESTION 2"
   ]
  },
  {
   "cell_type": "code",
   "execution_count": 104,
   "id": "c27542a3",
   "metadata": {},
   "outputs": [],
   "source": [
    "driver=webdriver.Chrome('chromedriver.exe')"
   ]
  },
  {
   "cell_type": "code",
   "execution_count": 105,
   "id": "a1b379f8",
   "metadata": {},
   "outputs": [],
   "source": [
    "# To open the website\n",
    "url='https://www.naukri.com/'\n",
    "driver.get(url)"
   ]
  },
  {
   "cell_type": "code",
   "execution_count": 106,
   "id": "f05feab3",
   "metadata": {},
   "outputs": [
    {
     "data": {
      "text/plain": [
       "<selenium.webdriver.remote.webelement.WebElement (session=\"61cf358a51ef1121f20f3be2ab766462\", element=\"c2f46cba-18c2-4a73-8f3f-31f0a1b48c4a\")>"
      ]
     },
     "execution_count": 106,
     "metadata": {},
     "output_type": "execute_result"
    }
   ],
   "source": [
    "# To find “Skill, Designations, Companies” field\n",
    "job=driver.find_element_by_class_name('suggestor-input')\n",
    "job"
   ]
  },
  {
   "cell_type": "code",
   "execution_count": 107,
   "id": "89383d6f",
   "metadata": {},
   "outputs": [],
   "source": [
    "# To enter “Data Scientist” in the field\n",
    "job.send_keys('Data Scientist')"
   ]
  },
  {
   "cell_type": "code",
   "execution_count": 108,
   "id": "cf3eb037",
   "metadata": {},
   "outputs": [
    {
     "data": {
      "text/plain": [
       "<selenium.webdriver.remote.webelement.WebElement (session=\"61cf358a51ef1121f20f3be2ab766462\", element=\"edbd7c46-dd42-42c1-8ca4-a4bfc6092d17\")>"
      ]
     },
     "execution_count": 108,
     "metadata": {},
     "output_type": "execute_result"
    }
   ],
   "source": [
    "# To find 'Location' field\n",
    "loc=driver.find_element_by_xpath('/html/body/div/div[2]/div[3]/div/div/div[3]/div/div/div/input')\n",
    "loc"
   ]
  },
  {
   "cell_type": "code",
   "execution_count": 109,
   "id": "3213e5d5",
   "metadata": {},
   "outputs": [],
   "source": [
    "# To enter “Bangalore” in the field\n",
    "loc.send_keys('Bangalore')"
   ]
  },
  {
   "cell_type": "code",
   "execution_count": 110,
   "id": "bcb1b326",
   "metadata": {},
   "outputs": [
    {
     "data": {
      "text/plain": [
       "<selenium.webdriver.remote.webelement.WebElement (session=\"61cf358a51ef1121f20f3be2ab766462\", element=\"5f5e5140-ffd2-4672-a920-3645ffab0e1d\")>"
      ]
     },
     "execution_count": 110,
     "metadata": {},
     "output_type": "execute_result"
    }
   ],
   "source": [
    "# To click on the search button\n",
    "search=driver.find_element_by_xpath('/html/body/div/div[2]/div[3]/div/div/div[6]')\n",
    "search"
   ]
  },
  {
   "cell_type": "code",
   "execution_count": 111,
   "id": "45a1ce1f",
   "metadata": {},
   "outputs": [],
   "source": [
    "search.click()"
   ]
  },
  {
   "cell_type": "code",
   "execution_count": 112,
   "id": "1495ef58",
   "metadata": {},
   "outputs": [],
   "source": [
    "# To scrap the job title\n",
    "t=driver.find_elements_by_xpath('//a[@class=\"title fw500 ellipsis\"]')\n",
    "t=t[0:10]"
   ]
  },
  {
   "cell_type": "code",
   "execution_count": 113,
   "id": "dacadb98",
   "metadata": {},
   "outputs": [
    {
     "data": {
      "text/plain": [
       "['Sr Data Scientist',\n",
       " 'HCL Tech Opening - Lead Data Scientist',\n",
       " 'Senior Data Scientist Payments',\n",
       " 'Senior Data Scientist (R Programming)',\n",
       " 'Data Scientist/Senior Data Scientist - Python',\n",
       " 'Senior Data Scientist - Python/Machine Learning Algorithms',\n",
       " 'Sr . Data Scientist',\n",
       " 'Need Data scientists and data engineers - WFH- less than 30days notice',\n",
       " 'Data Scientist',\n",
       " 'Data Scientist']"
      ]
     },
     "execution_count": 113,
     "metadata": {},
     "output_type": "execute_result"
    }
   ],
   "source": [
    "title=[]\n",
    "for i in t:\n",
    "    title.append(i.text)\n",
    "title[0:10]"
   ]
  },
  {
   "cell_type": "code",
   "execution_count": 114,
   "id": "60f890e2",
   "metadata": {},
   "outputs": [],
   "source": [
    "# To scrap the job location\n",
    "l=driver.find_elements_by_xpath('//li[@class=\"fleft grey-text br2 placeHolderLi location\"]')\n",
    "l=l[0:10]"
   ]
  },
  {
   "cell_type": "code",
   "execution_count": 115,
   "id": "bf1f2ce4",
   "metadata": {},
   "outputs": [
    {
     "data": {
      "text/plain": [
       "['Bangalore/Bengaluru',\n",
       " 'Kolkata, Hyderabad/Secunderabad, Pune, Chennai, Bangalore/Bengaluru, Delhi / NCR',\n",
       " 'Bangalore/Bengaluru',\n",
       " 'Remote',\n",
       " 'Bangalore/Bengaluru',\n",
       " 'Mumbai, Hyderabad/Secunderabad, Pune, Bangalore/Bengaluru',\n",
       " 'Bangalore/Bengaluru',\n",
       " 'Hyderabad/Secunderabad, Bangalore/Bengaluru, Mumbai (All Areas)\\n(WFH during Covid)',\n",
       " 'Bangalore/Bengaluru',\n",
       " 'New Delhi, Gurgaon/Gurugram, Bangalore/Bengaluru, Delhi / NCR, Mumbai (All Areas)']"
      ]
     },
     "execution_count": 115,
     "metadata": {},
     "output_type": "execute_result"
    }
   ],
   "source": [
    "location=[]\n",
    "for i in l:\n",
    "    location.append(i.text)\n",
    "location[0:10]"
   ]
  },
  {
   "cell_type": "code",
   "execution_count": 116,
   "id": "66659e2b",
   "metadata": {},
   "outputs": [],
   "source": [
    "# To scrap the company name\n",
    "c=driver.find_elements_by_xpath('//a[@class=\"subTitle ellipsis fleft\"]')\n",
    "c=c[0:10]"
   ]
  },
  {
   "cell_type": "code",
   "execution_count": 117,
   "id": "d4af576b",
   "metadata": {},
   "outputs": [
    {
     "data": {
      "text/plain": [
       "['Uber',\n",
       " 'HCL',\n",
       " 'AirSeva',\n",
       " 'Ignitho',\n",
       " 'ApicalGo Consultancy',\n",
       " 'Altimax Business Solutions',\n",
       " 'Visa',\n",
       " 'Covalense Technologies Private Limited',\n",
       " 'AirSeva',\n",
       " 'Korea Trade Center']"
      ]
     },
     "execution_count": 117,
     "metadata": {},
     "output_type": "execute_result"
    }
   ],
   "source": [
    "company=[]\n",
    "for i in c:\n",
    "    company.append(i.text)\n",
    "company[0:10]"
   ]
  },
  {
   "cell_type": "code",
   "execution_count": 118,
   "id": "167b5d05",
   "metadata": {},
   "outputs": [
    {
     "name": "stdout",
     "output_type": "stream",
     "text": [
      "10 10 10\n"
     ]
    }
   ],
   "source": [
    "print(len(title),len(location),len(company))"
   ]
  },
  {
   "cell_type": "code",
   "execution_count": 119,
   "id": "bba9d4d4",
   "metadata": {},
   "outputs": [
    {
     "data": {
      "text/html": [
       "<div>\n",
       "<style scoped>\n",
       "    .dataframe tbody tr th:only-of-type {\n",
       "        vertical-align: middle;\n",
       "    }\n",
       "\n",
       "    .dataframe tbody tr th {\n",
       "        vertical-align: top;\n",
       "    }\n",
       "\n",
       "    .dataframe thead th {\n",
       "        text-align: right;\n",
       "    }\n",
       "</style>\n",
       "<table border=\"1\" class=\"dataframe\">\n",
       "  <thead>\n",
       "    <tr style=\"text-align: right;\">\n",
       "      <th></th>\n",
       "      <th>Job Title</th>\n",
       "      <th>Job Location</th>\n",
       "      <th>Company Name</th>\n",
       "    </tr>\n",
       "  </thead>\n",
       "  <tbody>\n",
       "    <tr>\n",
       "      <th>0</th>\n",
       "      <td>Sr Data Scientist</td>\n",
       "      <td>Bangalore/Bengaluru</td>\n",
       "      <td>Uber</td>\n",
       "    </tr>\n",
       "    <tr>\n",
       "      <th>1</th>\n",
       "      <td>HCL Tech Opening - Lead Data Scientist</td>\n",
       "      <td>Kolkata, Hyderabad/Secunderabad, Pune, Chennai...</td>\n",
       "      <td>HCL</td>\n",
       "    </tr>\n",
       "    <tr>\n",
       "      <th>2</th>\n",
       "      <td>Senior Data Scientist Payments</td>\n",
       "      <td>Bangalore/Bengaluru</td>\n",
       "      <td>AirSeva</td>\n",
       "    </tr>\n",
       "    <tr>\n",
       "      <th>3</th>\n",
       "      <td>Senior Data Scientist (R Programming)</td>\n",
       "      <td>Remote</td>\n",
       "      <td>Ignitho</td>\n",
       "    </tr>\n",
       "    <tr>\n",
       "      <th>4</th>\n",
       "      <td>Data Scientist/Senior Data Scientist - Python</td>\n",
       "      <td>Bangalore/Bengaluru</td>\n",
       "      <td>ApicalGo Consultancy</td>\n",
       "    </tr>\n",
       "    <tr>\n",
       "      <th>5</th>\n",
       "      <td>Senior Data Scientist - Python/Machine Learnin...</td>\n",
       "      <td>Mumbai, Hyderabad/Secunderabad, Pune, Bangalor...</td>\n",
       "      <td>Altimax Business Solutions</td>\n",
       "    </tr>\n",
       "    <tr>\n",
       "      <th>6</th>\n",
       "      <td>Sr . Data Scientist</td>\n",
       "      <td>Bangalore/Bengaluru</td>\n",
       "      <td>Visa</td>\n",
       "    </tr>\n",
       "    <tr>\n",
       "      <th>7</th>\n",
       "      <td>Need Data scientists and data engineers - WFH-...</td>\n",
       "      <td>Hyderabad/Secunderabad, Bangalore/Bengaluru, M...</td>\n",
       "      <td>Covalense Technologies Private Limited</td>\n",
       "    </tr>\n",
       "    <tr>\n",
       "      <th>8</th>\n",
       "      <td>Data Scientist</td>\n",
       "      <td>Bangalore/Bengaluru</td>\n",
       "      <td>AirSeva</td>\n",
       "    </tr>\n",
       "    <tr>\n",
       "      <th>9</th>\n",
       "      <td>Data Scientist</td>\n",
       "      <td>New Delhi, Gurgaon/Gurugram, Bangalore/Bengalu...</td>\n",
       "      <td>Korea Trade Center</td>\n",
       "    </tr>\n",
       "  </tbody>\n",
       "</table>\n",
       "</div>"
      ],
      "text/plain": [
       "                                           Job Title  \\\n",
       "0                                  Sr Data Scientist   \n",
       "1             HCL Tech Opening - Lead Data Scientist   \n",
       "2                     Senior Data Scientist Payments   \n",
       "3              Senior Data Scientist (R Programming)   \n",
       "4      Data Scientist/Senior Data Scientist - Python   \n",
       "5  Senior Data Scientist - Python/Machine Learnin...   \n",
       "6                                Sr . Data Scientist   \n",
       "7  Need Data scientists and data engineers - WFH-...   \n",
       "8                                     Data Scientist   \n",
       "9                                     Data Scientist   \n",
       "\n",
       "                                        Job Location  \\\n",
       "0                                Bangalore/Bengaluru   \n",
       "1  Kolkata, Hyderabad/Secunderabad, Pune, Chennai...   \n",
       "2                                Bangalore/Bengaluru   \n",
       "3                                             Remote   \n",
       "4                                Bangalore/Bengaluru   \n",
       "5  Mumbai, Hyderabad/Secunderabad, Pune, Bangalor...   \n",
       "6                                Bangalore/Bengaluru   \n",
       "7  Hyderabad/Secunderabad, Bangalore/Bengaluru, M...   \n",
       "8                                Bangalore/Bengaluru   \n",
       "9  New Delhi, Gurgaon/Gurugram, Bangalore/Bengalu...   \n",
       "\n",
       "                             Company Name  \n",
       "0                                    Uber  \n",
       "1                                     HCL  \n",
       "2                                 AirSeva  \n",
       "3                                 Ignitho  \n",
       "4                    ApicalGo Consultancy  \n",
       "5              Altimax Business Solutions  \n",
       "6                                    Visa  \n",
       "7  Covalense Technologies Private Limited  \n",
       "8                                 AirSeva  \n",
       "9                      Korea Trade Center  "
      ]
     },
     "execution_count": 119,
     "metadata": {},
     "output_type": "execute_result"
    }
   ],
   "source": [
    "df=pd.DataFrame({'Job Title':title,\n",
    "                'Job Location':location,\n",
    "                'Company Name':company})\n",
    "df"
   ]
  },
  {
   "cell_type": "markdown",
   "id": "0d242357",
   "metadata": {},
   "source": [
    "# QUESTION 3"
   ]
  },
  {
   "cell_type": "code",
   "execution_count": 120,
   "id": "d4f971fd",
   "metadata": {},
   "outputs": [],
   "source": [
    "driver=webdriver.Chrome('chromedriver.exe')"
   ]
  },
  {
   "cell_type": "code",
   "execution_count": 121,
   "id": "f10dec21",
   "metadata": {},
   "outputs": [],
   "source": [
    "# To open the website\n",
    "url='https://www.naukri.com/'\n",
    "driver.get(url)"
   ]
  },
  {
   "cell_type": "code",
   "execution_count": 122,
   "id": "e9fde562",
   "metadata": {},
   "outputs": [
    {
     "data": {
      "text/plain": [
       "<selenium.webdriver.remote.webelement.WebElement (session=\"2793e175c2e8a544ec0ad3c506f3a98a\", element=\"8ad4eacd-cb57-4efa-80ec-13f4f0769f10\")>"
      ]
     },
     "execution_count": 122,
     "metadata": {},
     "output_type": "execute_result"
    }
   ],
   "source": [
    "# To find “Skill, Designations, Companies” field\n",
    "job=driver.find_element_by_class_name('suggestor-input ')\n",
    "job"
   ]
  },
  {
   "cell_type": "code",
   "execution_count": 123,
   "id": "c39e1136",
   "metadata": {},
   "outputs": [],
   "source": [
    "# To enter “Data Scientist” in the field\n",
    "job.send_keys('Data Scientist')"
   ]
  },
  {
   "cell_type": "code",
   "execution_count": 124,
   "id": "7f719081",
   "metadata": {},
   "outputs": [
    {
     "data": {
      "text/plain": [
       "<selenium.webdriver.remote.webelement.WebElement (session=\"2793e175c2e8a544ec0ad3c506f3a98a\", element=\"cd3617b1-a121-41c5-862a-4260240b6a83\")>"
      ]
     },
     "execution_count": 124,
     "metadata": {},
     "output_type": "execute_result"
    }
   ],
   "source": [
    "# To click on the search button\n",
    "search=driver.find_element_by_xpath('/html/body/div/div[2]/div[3]/div/div/div[6]')\n",
    "search"
   ]
  },
  {
   "cell_type": "code",
   "execution_count": 125,
   "id": "3a547ba9",
   "metadata": {},
   "outputs": [],
   "source": [
    "search.click()"
   ]
  },
  {
   "cell_type": "code",
   "execution_count": 126,
   "id": "4c0c9c77",
   "metadata": {},
   "outputs": [
    {
     "data": {
      "text/plain": [
       "<selenium.webdriver.remote.webelement.WebElement (session=\"2793e175c2e8a544ec0ad3c506f3a98a\", element=\"dd28b1e5-32ca-4224-99fa-16892bea7dca\")>"
      ]
     },
     "execution_count": 126,
     "metadata": {},
     "output_type": "execute_result"
    }
   ],
   "source": [
    "# To click location filter\n",
    "f1=driver.find_element_by_xpath('/html/body/div[1]/div[3]/div[2]/section[1]/div[2]/div[3]/div[2]/div[3]/label/i')\n",
    "f1"
   ]
  },
  {
   "cell_type": "code",
   "execution_count": 127,
   "id": "7bc55d70",
   "metadata": {},
   "outputs": [],
   "source": [
    "f1.click()"
   ]
  },
  {
   "cell_type": "code",
   "execution_count": 128,
   "id": "e78e61b9",
   "metadata": {},
   "outputs": [
    {
     "data": {
      "text/plain": [
       "<selenium.webdriver.remote.webelement.WebElement (session=\"2793e175c2e8a544ec0ad3c506f3a98a\", element=\"d6171fab-b54e-4ad0-ad37-7ec8354209bd\")>"
      ]
     },
     "execution_count": 128,
     "metadata": {},
     "output_type": "execute_result"
    }
   ],
   "source": [
    "# To click salary filter\n",
    "f2=driver.find_element_by_xpath('/html/body/div[1]/div[3]/div[2]/section[1]/div[2]/div[4]/div[2]/div[2]/label/i')\n",
    "f2"
   ]
  },
  {
   "cell_type": "code",
   "execution_count": 129,
   "id": "7cf4ee4c",
   "metadata": {},
   "outputs": [],
   "source": [
    "f2.click()"
   ]
  },
  {
   "cell_type": "code",
   "execution_count": 140,
   "id": "34a8673a",
   "metadata": {},
   "outputs": [],
   "source": [
    "# To scrap job title\n",
    "j=driver.find_elements_by_xpath('//a[@class=\"title fw500 ellipsis\"]')\n",
    "j=j[0:10]"
   ]
  },
  {
   "cell_type": "code",
   "execution_count": 141,
   "id": "d8e94ebe",
   "metadata": {},
   "outputs": [
    {
     "data": {
      "text/plain": [
       "['Excellent Opportunity For Freshers For AI/ML, Data Scientist, BI, QA',\n",
       " 'Data Analyst / Data Scientist / Business Analytics / Fresher - MNC',\n",
       " 'Hiring For Senior Data Scientist-Noida',\n",
       " 'Data Scientist',\n",
       " 'Data scientist- Python',\n",
       " 'Data Scientist _NLP',\n",
       " 'Junior Data Analyst/ Scientist- Fresher Position',\n",
       " 'Data Scientist (freelance)',\n",
       " 'Data Scientist - MIND Infotech',\n",
       " 'Only Fresher / Python Data Scientist / Trainee / Analytics - MNC Jobs']"
      ]
     },
     "execution_count": 141,
     "metadata": {},
     "output_type": "execute_result"
    }
   ],
   "source": [
    "title=[]\n",
    "for i in j:\n",
    "    title.append(i.text)\n",
    "title[0:10]"
   ]
  },
  {
   "cell_type": "code",
   "execution_count": 132,
   "id": "93bdf217",
   "metadata": {},
   "outputs": [],
   "source": [
    "# To scrap job location\n",
    "l=driver.find_elements_by_xpath('//li[@class=\"fleft grey-text br2 placeHolderLi location\"]')\n",
    "l=l[0:10]"
   ]
  },
  {
   "cell_type": "code",
   "execution_count": 133,
   "id": "36cfbc38",
   "metadata": {},
   "outputs": [
    {
     "data": {
      "text/plain": [
       "['Noida, Kolkata, Hyderabad/Secunderabad, Pune, Chennai, Bangalore/Bengaluru, Delhi / NCR, Mumbai (All Areas)\\n(WFH during Covid)',\n",
       " 'Noida, New Delhi, Delhi / NCR',\n",
       " 'Noida, New Delhi, Greater Noida',\n",
       " 'Hyderabad/Secunderabad, Pune, Gurgaon/Gurugram, Bangalore/Bengaluru, Delhi / NCR',\n",
       " 'Gurgaon/Gurugram',\n",
       " 'Bangalore/Bengaluru, Delhi / NCR\\n(WFH during Covid)',\n",
       " 'Kolkata, Hyderabad/Secunderabad, Pune, Ahmedabad, Chennai, Bangalore/Bengaluru, Delhi / NCR, Mumbai (All Areas)\\n(WFH during Covid)',\n",
       " 'New Delhi, Delhi',\n",
       " 'Noida',\n",
       " 'Noida, New Delhi, Gurgaon/Gurugram']"
      ]
     },
     "execution_count": 133,
     "metadata": {},
     "output_type": "execute_result"
    }
   ],
   "source": [
    "location=[]\n",
    "for i in l:\n",
    "    location.append(i.text)\n",
    "location[0:10]"
   ]
  },
  {
   "cell_type": "code",
   "execution_count": 134,
   "id": "66ae9416",
   "metadata": {},
   "outputs": [],
   "source": [
    "# To scrap company name\n",
    "c=driver.find_elements_by_xpath('//a[@class=\"subTitle ellipsis fleft\"]')\n",
    "c=c[0:10]"
   ]
  },
  {
   "cell_type": "code",
   "execution_count": 135,
   "id": "437b070c",
   "metadata": {},
   "outputs": [
    {
     "data": {
      "text/plain": [
       "['NTT Data',\n",
       " 'GABA Consultancy services',\n",
       " 'Lumiq.ai',\n",
       " 'Mount Talent Consulting Private Limited',\n",
       " 'TeamPlus Staffing Solution Pvt Ltd',\n",
       " 'EXL',\n",
       " 'Sejal Consulting Hub',\n",
       " '2Coms',\n",
       " 'MOTHERSONSUMI INFOTECH & DESIGNS LIMITED',\n",
       " 'GABA Consultancy services']"
      ]
     },
     "execution_count": 135,
     "metadata": {},
     "output_type": "execute_result"
    }
   ],
   "source": [
    "company=[]\n",
    "for i in c:\n",
    "    company.append(i.text)\n",
    "company[0:10]"
   ]
  },
  {
   "cell_type": "code",
   "execution_count": 136,
   "id": "9651cd74",
   "metadata": {},
   "outputs": [],
   "source": [
    "# To scrap experience\n",
    "e=driver.find_elements_by_xpath('//li[@class=\"fleft grey-text br2 placeHolderLi experience\"]')\n",
    "e=e[0:10]"
   ]
  },
  {
   "cell_type": "code",
   "execution_count": 137,
   "id": "f96b76cc",
   "metadata": {},
   "outputs": [
    {
     "data": {
      "text/plain": [
       "['0-0 Yrs',\n",
       " '0-0 Yrs',\n",
       " '2-6 Yrs',\n",
       " '1-4 Yrs',\n",
       " '3-6 Yrs',\n",
       " '3-8 Yrs',\n",
       " '0-3 Yrs',\n",
       " '2-7 Yrs',\n",
       " '4-8 Yrs',\n",
       " '0-0 Yrs']"
      ]
     },
     "execution_count": 137,
     "metadata": {},
     "output_type": "execute_result"
    }
   ],
   "source": [
    "exp=[]\n",
    "for i in e:\n",
    "    exp.append(i.text)\n",
    "exp[0:10]"
   ]
  },
  {
   "cell_type": "code",
   "execution_count": 142,
   "id": "dcf6d5ed",
   "metadata": {},
   "outputs": [
    {
     "name": "stdout",
     "output_type": "stream",
     "text": [
      "10 10 10 10\n"
     ]
    }
   ],
   "source": [
    "print(len(title),len(location),len(company),len(exp))"
   ]
  },
  {
   "cell_type": "code",
   "execution_count": 143,
   "id": "0fa863e0",
   "metadata": {},
   "outputs": [
    {
     "data": {
      "text/html": [
       "<div>\n",
       "<style scoped>\n",
       "    .dataframe tbody tr th:only-of-type {\n",
       "        vertical-align: middle;\n",
       "    }\n",
       "\n",
       "    .dataframe tbody tr th {\n",
       "        vertical-align: top;\n",
       "    }\n",
       "\n",
       "    .dataframe thead th {\n",
       "        text-align: right;\n",
       "    }\n",
       "</style>\n",
       "<table border=\"1\" class=\"dataframe\">\n",
       "  <thead>\n",
       "    <tr style=\"text-align: right;\">\n",
       "      <th></th>\n",
       "      <th>Job Title</th>\n",
       "      <th>Job Location</th>\n",
       "      <th>Company Name</th>\n",
       "      <th>Experience</th>\n",
       "    </tr>\n",
       "  </thead>\n",
       "  <tbody>\n",
       "    <tr>\n",
       "      <th>0</th>\n",
       "      <td>Excellent Opportunity For Freshers For AI/ML, ...</td>\n",
       "      <td>Noida, Kolkata, Hyderabad/Secunderabad, Pune, ...</td>\n",
       "      <td>NTT Data</td>\n",
       "      <td>0-0 Yrs</td>\n",
       "    </tr>\n",
       "    <tr>\n",
       "      <th>1</th>\n",
       "      <td>Data Analyst / Data Scientist / Business Analy...</td>\n",
       "      <td>Noida, New Delhi, Delhi / NCR</td>\n",
       "      <td>GABA Consultancy services</td>\n",
       "      <td>0-0 Yrs</td>\n",
       "    </tr>\n",
       "    <tr>\n",
       "      <th>2</th>\n",
       "      <td>Hiring For Senior Data Scientist-Noida</td>\n",
       "      <td>Noida, New Delhi, Greater Noida</td>\n",
       "      <td>Lumiq.ai</td>\n",
       "      <td>2-6 Yrs</td>\n",
       "    </tr>\n",
       "    <tr>\n",
       "      <th>3</th>\n",
       "      <td>Data Scientist</td>\n",
       "      <td>Hyderabad/Secunderabad, Pune, Gurgaon/Gurugram...</td>\n",
       "      <td>Mount Talent Consulting Private Limited</td>\n",
       "      <td>1-4 Yrs</td>\n",
       "    </tr>\n",
       "    <tr>\n",
       "      <th>4</th>\n",
       "      <td>Data scientist- Python</td>\n",
       "      <td>Gurgaon/Gurugram</td>\n",
       "      <td>TeamPlus Staffing Solution Pvt Ltd</td>\n",
       "      <td>3-6 Yrs</td>\n",
       "    </tr>\n",
       "    <tr>\n",
       "      <th>5</th>\n",
       "      <td>Data Scientist _NLP</td>\n",
       "      <td>Bangalore/Bengaluru, Delhi / NCR\\n(WFH during ...</td>\n",
       "      <td>EXL</td>\n",
       "      <td>3-8 Yrs</td>\n",
       "    </tr>\n",
       "    <tr>\n",
       "      <th>6</th>\n",
       "      <td>Junior Data Analyst/ Scientist- Fresher Position</td>\n",
       "      <td>Kolkata, Hyderabad/Secunderabad, Pune, Ahmedab...</td>\n",
       "      <td>Sejal Consulting Hub</td>\n",
       "      <td>0-3 Yrs</td>\n",
       "    </tr>\n",
       "    <tr>\n",
       "      <th>7</th>\n",
       "      <td>Data Scientist (freelance)</td>\n",
       "      <td>New Delhi, Delhi</td>\n",
       "      <td>2Coms</td>\n",
       "      <td>2-7 Yrs</td>\n",
       "    </tr>\n",
       "    <tr>\n",
       "      <th>8</th>\n",
       "      <td>Data Scientist - MIND Infotech</td>\n",
       "      <td>Noida</td>\n",
       "      <td>MOTHERSONSUMI INFOTECH &amp; DESIGNS LIMITED</td>\n",
       "      <td>4-8 Yrs</td>\n",
       "    </tr>\n",
       "    <tr>\n",
       "      <th>9</th>\n",
       "      <td>Only Fresher / Python Data Scientist / Trainee...</td>\n",
       "      <td>Noida, New Delhi, Gurgaon/Gurugram</td>\n",
       "      <td>GABA Consultancy services</td>\n",
       "      <td>0-0 Yrs</td>\n",
       "    </tr>\n",
       "  </tbody>\n",
       "</table>\n",
       "</div>"
      ],
      "text/plain": [
       "                                           Job Title  \\\n",
       "0  Excellent Opportunity For Freshers For AI/ML, ...   \n",
       "1  Data Analyst / Data Scientist / Business Analy...   \n",
       "2             Hiring For Senior Data Scientist-Noida   \n",
       "3                                     Data Scientist   \n",
       "4                             Data scientist- Python   \n",
       "5                                Data Scientist _NLP   \n",
       "6   Junior Data Analyst/ Scientist- Fresher Position   \n",
       "7                         Data Scientist (freelance)   \n",
       "8                     Data Scientist - MIND Infotech   \n",
       "9  Only Fresher / Python Data Scientist / Trainee...   \n",
       "\n",
       "                                        Job Location  \\\n",
       "0  Noida, Kolkata, Hyderabad/Secunderabad, Pune, ...   \n",
       "1                      Noida, New Delhi, Delhi / NCR   \n",
       "2                    Noida, New Delhi, Greater Noida   \n",
       "3  Hyderabad/Secunderabad, Pune, Gurgaon/Gurugram...   \n",
       "4                                   Gurgaon/Gurugram   \n",
       "5  Bangalore/Bengaluru, Delhi / NCR\\n(WFH during ...   \n",
       "6  Kolkata, Hyderabad/Secunderabad, Pune, Ahmedab...   \n",
       "7                                   New Delhi, Delhi   \n",
       "8                                              Noida   \n",
       "9                 Noida, New Delhi, Gurgaon/Gurugram   \n",
       "\n",
       "                               Company Name Experience  \n",
       "0                                  NTT Data    0-0 Yrs  \n",
       "1                 GABA Consultancy services    0-0 Yrs  \n",
       "2                                  Lumiq.ai    2-6 Yrs  \n",
       "3   Mount Talent Consulting Private Limited    1-4 Yrs  \n",
       "4        TeamPlus Staffing Solution Pvt Ltd    3-6 Yrs  \n",
       "5                                       EXL    3-8 Yrs  \n",
       "6                      Sejal Consulting Hub    0-3 Yrs  \n",
       "7                                     2Coms    2-7 Yrs  \n",
       "8  MOTHERSONSUMI INFOTECH & DESIGNS LIMITED    4-8 Yrs  \n",
       "9                 GABA Consultancy services    0-0 Yrs  "
      ]
     },
     "execution_count": 143,
     "metadata": {},
     "output_type": "execute_result"
    }
   ],
   "source": [
    "df=pd.DataFrame({'Job Title':title,\n",
    "                'Job Location':location,\n",
    "                'Company Name':company,\n",
    "                'Experience':exp})\n",
    "df"
   ]
  },
  {
   "cell_type": "markdown",
   "id": "c7598149",
   "metadata": {},
   "source": [
    "# QUESTION 4"
   ]
  },
  {
   "cell_type": "code",
   "execution_count": 157,
   "id": "2c610b8c",
   "metadata": {},
   "outputs": [],
   "source": [
    "driver=webdriver.Chrome('chromedriver.exe')"
   ]
  },
  {
   "cell_type": "code",
   "execution_count": 158,
   "id": "a14d73b0",
   "metadata": {},
   "outputs": [],
   "source": [
    "# To open the website\n",
    "url='https://www.flipkart.com/'\n",
    "driver.get(url)"
   ]
  },
  {
   "cell_type": "code",
   "execution_count": 159,
   "id": "fcb2f5d3",
   "metadata": {},
   "outputs": [
    {
     "data": {
      "text/plain": [
       "<selenium.webdriver.remote.webelement.WebElement (session=\"d0ffc74f21551c73cc8472c5b58952ce\", element=\"0407b63c-8479-401b-b9af-98a48adf4de4\")>"
      ]
     },
     "execution_count": 159,
     "metadata": {},
     "output_type": "execute_result"
    }
   ],
   "source": [
    "# To get the search field\n",
    "box=driver.find_element_by_class_name('_3704LK')\n",
    "box"
   ]
  },
  {
   "cell_type": "code",
   "execution_count": 160,
   "id": "9a7d9cd7",
   "metadata": {},
   "outputs": [],
   "source": [
    "box.send_keys('Sunglasses')"
   ]
  },
  {
   "cell_type": "code",
   "execution_count": 161,
   "id": "ab95bbec",
   "metadata": {},
   "outputs": [
    {
     "data": {
      "text/plain": [
       "<selenium.webdriver.remote.webelement.WebElement (session=\"d0ffc74f21551c73cc8472c5b58952ce\", element=\"7a18eb28-3dd3-42ad-84a8-f3fcb8989b74\")>"
      ]
     },
     "execution_count": 161,
     "metadata": {},
     "output_type": "execute_result"
    }
   ],
   "source": [
    "# To click on the search button\n",
    "btn=driver.find_element_by_class_name('L0Z3Pu')\n",
    "btn"
   ]
  },
  {
   "cell_type": "code",
   "execution_count": 162,
   "id": "0444fa98",
   "metadata": {},
   "outputs": [],
   "source": [
    "btn.click()"
   ]
  },
  {
   "cell_type": "code",
   "execution_count": null,
   "id": "8ddbddf5",
   "metadata": {},
   "outputs": [],
   "source": [
    "# To scrap the brand name\n",
    "brand=[]\n",
    "for i in range(3):\n",
    "    print('Scraping page',i+1)\n",
    "    b=driver.find_elements_by_xpath('//div[@class=\"_2WkVRV\"]')\n",
    "    for j in b:\n",
    "        brand.append(j.text)\n",
    "    next_btn=driver.find_element_by_xpath('//a[@class=\"_1LKTO3\"]')\n",
    "    next_btn.click()"
   ]
  },
  {
   "cell_type": "code",
   "execution_count": null,
   "id": "73396d73",
   "metadata": {},
   "outputs": [],
   "source": [
    "brand=brand[0:100]\n",
    "brand"
   ]
  },
  {
   "cell_type": "code",
   "execution_count": null,
   "id": "6d93c9a6",
   "metadata": {},
   "outputs": [],
   "source": [
    "# To scrap the product description\n",
    "description=[]\n",
    "for i in range(3):\n",
    "    print('Scraping page',i+1)\n",
    "    b=driver.find_elements_by_xpath('//a[@class=\"IRpwTa\"]')\n",
    "    for j in b:\n",
    "        description.append(j.text)\n",
    "    next_btn=driver.find_element_by_xpath('//a[@class=\"_1LKTO3\"]')\n",
    "    next_btn.click()"
   ]
  },
  {
   "cell_type": "code",
   "execution_count": null,
   "id": "37318b2f",
   "metadata": {},
   "outputs": [],
   "source": [
    "description=description[0:100]\n",
    "description"
   ]
  },
  {
   "cell_type": "code",
   "execution_count": null,
   "id": "ec85c965",
   "metadata": {},
   "outputs": [],
   "source": [
    "# To scrap the price\n",
    "price=[]\n",
    "for i in range(3):\n",
    "    print('Scraping page',i+1)\n",
    "    b=driver.find_elements_by_xpath('//div[@class=\"_30jeq3\"]')\n",
    "    for j in b:\n",
    "        price.append(j.text)\n",
    "    next_btn=driver.find_element_by_xpath('//a[@class=\"_1LKTO3\"]')\n",
    "    next_btn.click()"
   ]
  },
  {
   "cell_type": "code",
   "execution_count": null,
   "id": "d8eab3ba",
   "metadata": {},
   "outputs": [],
   "source": [
    "price=price[0:100]\n",
    "price"
   ]
  },
  {
   "cell_type": "code",
   "execution_count": null,
   "id": "1ddac849",
   "metadata": {},
   "outputs": [],
   "source": [
    "# To scrap the discount\n",
    "discount=[]\n",
    "for i in range(3):\n",
    "    print('Scraping page',i+1)\n",
    "    b=driver.find_elements_by_xpath('//div[@class=\"_3Ay6Sb\"]')\n",
    "    for j in b:\n",
    "        discount.append(j.text)\n",
    "    next_btn=driver.find_element_by_xpath('//a[@class=\"_1LKTO3\"]')\n",
    "    next_btn.click()"
   ]
  },
  {
   "cell_type": "code",
   "execution_count": null,
   "id": "2915369c",
   "metadata": {},
   "outputs": [],
   "source": [
    "discount=discount[0:100]\n",
    "discount"
   ]
  },
  {
   "cell_type": "code",
   "execution_count": null,
   "id": "ff317850",
   "metadata": {},
   "outputs": [],
   "source": [
    "print(len(brand),len(description),len(price),len(discount))"
   ]
  },
  {
   "cell_type": "code",
   "execution_count": null,
   "id": "a39b34d9",
   "metadata": {},
   "outputs": [],
   "source": [
    "df=pd.DataFrame({'Brand':brand,\n",
    "                'Description':description,\n",
    "                'Price':price,\n",
    "                'Discount':discount})\n",
    "df"
   ]
  },
  {
   "cell_type": "markdown",
   "id": "5e531f22",
   "metadata": {},
   "source": [
    "# QUESTION 5"
   ]
  },
  {
   "cell_type": "code",
   "execution_count": 293,
   "id": "575fc292",
   "metadata": {},
   "outputs": [],
   "source": [
    "driver=webdriver.Chrome('chromedriver.exe')"
   ]
  },
  {
   "cell_type": "code",
   "execution_count": 294,
   "id": "a44c0ad7",
   "metadata": {},
   "outputs": [],
   "source": [
    "url='https://www.flipkart.com/apple-iphone-11-black-64-gb-includes- earpods-power- adapter/p/itm0f37c2240b217?pid=MOBFKCTSVZAXUHGR&lid=LSTMOBFKC TSVZAXUHGREPBFGI&marketplace'\n",
    "driver.get(url)"
   ]
  },
  {
   "cell_type": "code",
   "execution_count": 295,
   "id": "c2af8774",
   "metadata": {},
   "outputs": [],
   "source": [
    "# To open the rating section page\n",
    "all_rev_btn=driver.find_element_by_xpath('//div[@class=\"_3UAT2v _16PBlm\"]')"
   ]
  },
  {
   "cell_type": "code",
   "execution_count": 296,
   "id": "de1d755d",
   "metadata": {},
   "outputs": [],
   "source": [
    "all_rev_btn.click()"
   ]
  },
  {
   "cell_type": "code",
   "execution_count": 297,
   "id": "827b09fa",
   "metadata": {},
   "outputs": [
    {
     "data": {
      "text/plain": [
       "['https://www.flipkart.com/apple-iphone-11-black-64-gb-includes-earpods-power-adapter/product-reviews/itm0f37c2240b217?pid=MOBFKCTSVZAXUHGR&lid=LSTMOBFKCTSVZAXUHGR3IXQLM&marketplace=FLIPKART&page=1',\n",
       " 'https://www.flipkart.com/apple-iphone-11-black-64-gb-includes-earpods-power-adapter/product-reviews/itm0f37c2240b217?pid=MOBFKCTSVZAXUHGR&lid=LSTMOBFKCTSVZAXUHGR3IXQLM&marketplace=FLIPKART&page=2',\n",
       " 'https://www.flipkart.com/apple-iphone-11-black-64-gb-includes-earpods-power-adapter/product-reviews/itm0f37c2240b217?pid=MOBFKCTSVZAXUHGR&lid=LSTMOBFKCTSVZAXUHGR3IXQLM&marketplace=FLIPKART&page=3',\n",
       " 'https://www.flipkart.com/apple-iphone-11-black-64-gb-includes-earpods-power-adapter/product-reviews/itm0f37c2240b217?pid=MOBFKCTSVZAXUHGR&lid=LSTMOBFKCTSVZAXUHGR3IXQLM&marketplace=FLIPKART&page=4',\n",
       " 'https://www.flipkart.com/apple-iphone-11-black-64-gb-includes-earpods-power-adapter/product-reviews/itm0f37c2240b217?pid=MOBFKCTSVZAXUHGR&lid=LSTMOBFKCTSVZAXUHGR3IXQLM&marketplace=FLIPKART&page=5',\n",
       " 'https://www.flipkart.com/apple-iphone-11-black-64-gb-includes-earpods-power-adapter/product-reviews/itm0f37c2240b217?pid=MOBFKCTSVZAXUHGR&lid=LSTMOBFKCTSVZAXUHGR3IXQLM&marketplace=FLIPKART&page=6',\n",
       " 'https://www.flipkart.com/apple-iphone-11-black-64-gb-includes-earpods-power-adapter/product-reviews/itm0f37c2240b217?pid=MOBFKCTSVZAXUHGR&lid=LSTMOBFKCTSVZAXUHGR3IXQLM&marketplace=FLIPKART&page=7',\n",
       " 'https://www.flipkart.com/apple-iphone-11-black-64-gb-includes-earpods-power-adapter/product-reviews/itm0f37c2240b217?pid=MOBFKCTSVZAXUHGR&lid=LSTMOBFKCTSVZAXUHGR3IXQLM&marketplace=FLIPKART&page=8',\n",
       " 'https://www.flipkart.com/apple-iphone-11-black-64-gb-includes-earpods-power-adapter/product-reviews/itm0f37c2240b217?pid=MOBFKCTSVZAXUHGR&lid=LSTMOBFKCTSVZAXUHGR3IXQLM&marketplace=FLIPKART&page=9',\n",
       " 'https://www.flipkart.com/apple-iphone-11-black-64-gb-includes-earpods-power-adapter/product-reviews/itm0f37c2240b217?pid=MOBFKCTSVZAXUHGR&lid=LSTMOBFKCTSVZAXUHGR3IXQLM&marketplace=FLIPKART&page=10',\n",
       " 'https://www.flipkart.com/apple-iphone-11-black-64-gb-includes-earpods-power-adapter/product-reviews/itm0f37c2240b217?pid=MOBFKCTSVZAXUHGR&lid=LSTMOBFKCTSVZAXUHGR3IXQLM&marketplace=FLIPKART&page=2']"
      ]
     },
     "execution_count": 297,
     "metadata": {},
     "output_type": "execute_result"
    }
   ],
   "source": [
    "# To extract all the next pages links\n",
    "links=[]\n",
    "next_links= driver.find_elements_by_xpath('//nav[@class=\"yFHi8N\"]/a')\n",
    "for i in next_links:\n",
    "    links.append(i.get_attribute('href'))\n",
    "links"
   ]
  },
  {
   "cell_type": "code",
   "execution_count": 298,
   "id": "e45b8886",
   "metadata": {},
   "outputs": [],
   "source": [
    "# To scrap the ratings\n",
    "rating=[]\n",
    "for i in links:\n",
    "    driver.get(i)\n",
    "    r=driver.find_elements_by_xpath('//div[@class=\"_3LWZlK _1BLPMq\"]')\n",
    "    for j in r:\n",
    "        rating.append(j.text)"
   ]
  },
  {
   "cell_type": "code",
   "execution_count": 299,
   "id": "f3fd003c",
   "metadata": {},
   "outputs": [
    {
     "data": {
      "text/plain": [
       "['5',\n",
       " '5',\n",
       " '5',\n",
       " '5',\n",
       " '5',\n",
       " '5',\n",
       " '5',\n",
       " '4',\n",
       " '5',\n",
       " '5',\n",
       " '5',\n",
       " '5',\n",
       " '5',\n",
       " '5',\n",
       " '5',\n",
       " '5',\n",
       " '5',\n",
       " '5',\n",
       " '5',\n",
       " '5',\n",
       " '5',\n",
       " '4',\n",
       " '5',\n",
       " '5',\n",
       " '5',\n",
       " '4',\n",
       " '5',\n",
       " '5',\n",
       " '5',\n",
       " '5',\n",
       " '5',\n",
       " '4',\n",
       " '5',\n",
       " '5',\n",
       " '5',\n",
       " '5',\n",
       " '5',\n",
       " '5',\n",
       " '5',\n",
       " '5',\n",
       " '4',\n",
       " '5',\n",
       " '5',\n",
       " '5',\n",
       " '4',\n",
       " '5',\n",
       " '5',\n",
       " '5',\n",
       " '5',\n",
       " '5',\n",
       " '5',\n",
       " '5',\n",
       " '4',\n",
       " '5',\n",
       " '5',\n",
       " '4',\n",
       " '5',\n",
       " '5',\n",
       " '4',\n",
       " '5',\n",
       " '5',\n",
       " '5',\n",
       " '5',\n",
       " '5',\n",
       " '5',\n",
       " '5',\n",
       " '5',\n",
       " '5',\n",
       " '5',\n",
       " '5',\n",
       " '5',\n",
       " '5',\n",
       " '5',\n",
       " '5',\n",
       " '5',\n",
       " '5',\n",
       " '5',\n",
       " '5',\n",
       " '3',\n",
       " '5',\n",
       " '5',\n",
       " '5',\n",
       " '5',\n",
       " '5',\n",
       " '5',\n",
       " '5',\n",
       " '5',\n",
       " '5',\n",
       " '5',\n",
       " '5',\n",
       " '5',\n",
       " '5',\n",
       " '5',\n",
       " '4',\n",
       " '5',\n",
       " '5',\n",
       " '5',\n",
       " '5',\n",
       " '5',\n",
       " '5']"
      ]
     },
     "execution_count": 299,
     "metadata": {},
     "output_type": "execute_result"
    }
   ],
   "source": [
    "rating=rating[0:100]\n",
    "rating"
   ]
  },
  {
   "cell_type": "code",
   "execution_count": 300,
   "id": "48f1e29e",
   "metadata": {},
   "outputs": [],
   "source": [
    "# To scrap review summary\n",
    "review=[]\n",
    "for i in links:\n",
    "    driver.get(i)\n",
    "    re=driver.find_elements_by_xpath('//p[@class=\"_2-N8zT\"]')\n",
    "    for j in re:\n",
    "        review.append(j.text)"
   ]
  },
  {
   "cell_type": "code",
   "execution_count": 301,
   "id": "b0b8be4c",
   "metadata": {},
   "outputs": [
    {
     "data": {
      "text/plain": [
       "['Brilliant',\n",
       " 'Simply awesome',\n",
       " 'Best in the market!',\n",
       " 'Perfect product!',\n",
       " 'Fabulous!',\n",
       " 'Worth every penny',\n",
       " 'Great product',\n",
       " 'Good choice',\n",
       " 'Worth every penny',\n",
       " 'Highly recommended',\n",
       " 'Highly recommended',\n",
       " 'Perfect product!',\n",
       " 'Perfect product!',\n",
       " 'Highly recommended',\n",
       " 'Perfect product!',\n",
       " 'Worth every penny',\n",
       " 'Classy product',\n",
       " 'Worth every penny',\n",
       " 'Wonderful',\n",
       " 'Terrific',\n",
       " 'Worth every penny',\n",
       " 'Nice product',\n",
       " 'Perfect product!',\n",
       " 'Classy product',\n",
       " 'Brilliant',\n",
       " 'Good choice',\n",
       " 'Perfect product!',\n",
       " 'Wonderful',\n",
       " 'Terrific purchase',\n",
       " 'Terrific purchase',\n",
       " 'Simply awesome',\n",
       " 'Good quality product',\n",
       " 'Very poor',\n",
       " 'Perfect product!',\n",
       " 'Classy product',\n",
       " 'Fabulous!',\n",
       " 'Perfect product!',\n",
       " 'Must buy!',\n",
       " 'Mind-blowing purchase',\n",
       " 'Must buy!',\n",
       " 'Great product',\n",
       " 'Very Good',\n",
       " 'Wonderful',\n",
       " 'Classy product',\n",
       " 'Awesome',\n",
       " 'Pretty good',\n",
       " 'Awesome',\n",
       " 'Classy product',\n",
       " 'Awesome',\n",
       " 'Perfect product!',\n",
       " 'Highly recommended',\n",
       " 'Very poor',\n",
       " 'Fabulous!',\n",
       " 'Excellent',\n",
       " 'Value-for-money',\n",
       " 'Best in the market!',\n",
       " 'Brilliant',\n",
       " 'Good quality product',\n",
       " 'Best in the market!',\n",
       " 'Awesome',\n",
       " 'Value-for-money',\n",
       " 'Worthless',\n",
       " 'Super!',\n",
       " 'Simply awesome',\n",
       " 'Just wow!',\n",
       " 'Perfect product!',\n",
       " 'Must buy!',\n",
       " 'Brilliant',\n",
       " 'Simply awesome',\n",
       " 'Fabulous!',\n",
       " 'Just wow!',\n",
       " 'Absolute rubbish!',\n",
       " 'Great product',\n",
       " 'Excellent',\n",
       " 'Worthless',\n",
       " 'Mind-blowing purchase',\n",
       " 'Mind-blowing purchase',\n",
       " 'Super!',\n",
       " 'Excellent',\n",
       " 'Wonderful',\n",
       " 'Awesome',\n",
       " 'Perfect product!',\n",
       " 'Terrific purchase',\n",
       " 'Does the job',\n",
       " 'Just wow!',\n",
       " 'Terrific purchase',\n",
       " 'Worth every penny',\n",
       " 'Mind-blowing purchase',\n",
       " 'Excellent',\n",
       " 'Waste of money!',\n",
       " 'Terrific',\n",
       " 'Highly recommended',\n",
       " 'Must buy!',\n",
       " 'Worth every penny',\n",
       " 'Excellent',\n",
       " 'Just wow!',\n",
       " 'Perfect product!',\n",
       " 'Fabulous!',\n",
       " 'Wonderful',\n",
       " 'Nice product']"
      ]
     },
     "execution_count": 301,
     "metadata": {},
     "output_type": "execute_result"
    }
   ],
   "source": [
    "review=review[0:100]\n",
    "review"
   ]
  },
  {
   "cell_type": "code",
   "execution_count": 302,
   "id": "efde7fc6",
   "metadata": {},
   "outputs": [],
   "source": [
    "# To scrap Full review\n",
    "full=[]\n",
    "for i in links:\n",
    "    driver.get(i)\n",
    "    f=driver.find_elements_by_xpath('//div[@class=\"t-ZTKy\"]')\n",
    "    for j in f:\n",
    "        full.append(j.text)"
   ]
  },
  {
   "cell_type": "code",
   "execution_count": 303,
   "id": "048a2eed",
   "metadata": {},
   "outputs": [
    {
     "data": {
      "text/plain": [
       "['The Best Phone for the Money\\n\\nThe iPhone 11 offers superb cameras, a more durable design and excellent battery life for an affordable price.\\n\\nCompelling ultra-wide camera\\nNew Night mode is excellent\\nLong battery life',\n",
       " 'Really satisfied with the Product I received... It’s totally genuine and the packaging was also really good so if ur planning to buy just go for it.',\n",
       " 'Great iPhone very snappy experience as apple kind. Upgraded from iPhone 7.\\nPros\\n-Camera top class\\n- Battery top performed\\n-Chipset no need to say as apple kind\\n-Security as you expect from apple\\n- Display super bright industry leading colour\\naccuracy and super responsive\\n-Build quality as expect from apple sturdy\\npremium durable beautiful stylish.\\n-Os most stable os in smartphone industry\\n\\nCons\\n-No 5G\\n-Display is not based on OLED technology\\n-Charger headphones and 1 apple stic...\\nREAD MORE',\n",
       " 'Amazing phone with great cameras and better battery which gives you the best performance. I just love the camera .',\n",
       " 'This is my first iOS phone. I am very happy with this product. Very much satisfied with this. I love this phone.',\n",
       " 'Previously I was using one plus 3t it was a great phone\\nAnd then I decided to upgrade I am stuck between Samsung s10 plus or iPhone 11\\nI have seen the specs and everything were good except the display it’s somewhere between 720-1080 and it’s not even an amoled it’s an LCD display\\nBut I decided to go with iPhone because I have never used an IOS device I have Been an android user from the past 9 years I ordered IPhone 11 (128gb) product red\\nMy experience after using 3 weeks\\n1. The delivery ...\\nREAD MORE',\n",
       " 'Amazing Powerful and Durable Gadget.\\n\\nI’m am very happy with the camera picture quality, Amazing face id unlocked in dark room, Strong battery with perfect screen size as you can carry easily in pocket. This is my third iPhone.\\n\\nI shifted from android Samsung Note series to iPhone because of the strong build quality and peace of mind for next 3-4 years.\\n\\nDon’t think to much just go for it and I suggest you to go for minimum 128gb variant or more 256gb.\\n\\nI’ve attached my puppy pics and no fi...\\nREAD MORE',\n",
       " 'So far it’s been an AMAZING experience coming back to iOS after nearly a decade but it’s not as versatile as android though phone is sturdy dropped it accidentally a couple of times and nothing happened fortunately camera is awesome',\n",
       " 'i11 is worthy to buy, too much happy with the product. Thank u flipkart I received the item on time..loved it..',\n",
       " 'What a camera .....just awesome ..you can feel this iPhone just awesome . Good for gaming also ...try pubg in hd it’s just wow',\n",
       " 'iphone 11 is a very good phone to buy only if you can compromise for the display. The display on this is device is pretty good but you can get other options with better displays in this price segment.\\nIf you can survive with an HD+ LCD panel with thicker bezels and a notch up top then this is a very good phone for you.\\nCameras are awesome, battery backup excellent, great performance and a decent premium look. Good job Apple !',\n",
       " 'It’s a must buy who is looking for an upgrade from previous generation of iPhones. If you are using XR then still you can hold on for sometime and upgrade to 2020 model else this phone is a must buy . Camera quality is amazing and wide angle is something to count upon. Performance wise it’s amazing and feels premium while holding in hand. So a big YES for this device. Go for 128 GB variant as the 4K videos will occupy lots of space and the storage can get over very quickly. Try to buy it with...\\nREAD MORE',\n",
       " 'Value for money❤️❤️\\nIts awesome mobile phone in the world ...\\nDisplay was very good and bright ..\\nTrust me freinds you r never regret after Buying..\\nJust go for it....\\nI love this phone and i switch to iphone x to 11',\n",
       " \"It's my first time to use iOS phone and I am loving my upgradation 😍😍 I love the color, I love the assebility of the phone....I need to learn more about its functionality, but as far as I have seen, it's quite easy and it has a lot of functions to work on, specially if you are a content writer or a blogger you get a lot of content creation platforms and they are really amazing.\\n\\nThis phone not only for good quality photography but a lot of other task too.😍💯\",\n",
       " \"Iphone is just awesome.. battery backup is very very nice.. continuously for 10 hours we can use it.camera is just awesome.. display is just fab.i love it alot..i had to wait 15 days for it as i pre ordered it..overalll it's worth the price..these all images are clicked by my iPhone..and i love it.\",\n",
       " 'Best budget Iphone till date ❤️ go for it guys without second thought. Let me explain you guys about Camera, Display, battery, and performance.\\n\\nCamera: at this price range there is no comparison of camera, you’ll love the picture quality as well as video quality. I am a Vlogger I wanted an iPhone with 4k video by front camera and I got this phone and I am more than happy 😃\\n\\nBattery: I use this phone roughly as I am active social media person and I have a youtube channel. so the battery ba...\\nREAD MORE',\n",
       " 'Totally in love with this ❤ the camera quality is amazing just love it 😘😘😘 itsss dammnnnnnn amazing... Must buy iPhone 11 this is my best experience ever ☀👌👌🧡🧡🧡🧡🧡 thanku apple ❤',\n",
       " 'It’s been almost a month since I have been using this phone. I upgraded from an iPhone 8. The main issue with my 8 was battery and this phone is just awesome when it comes to battery. It lasts a day and a half for me with my regular use , internet connected always with 4g\\nCan’t move forward without saying this. Battery of this phone is a life saver when I am traveling or at work when I don’t get the option to charge\\nCamera is superb. Front cam selfies and back cam photos are just awesome.\\n...\\nREAD MORE',\n",
       " 'This is my first ever I phone. Before this I was using my google nexus 5. But moving from android to iOS is a great experience. It’s worth at this price. I will highly recommend it if you want to move to iOS. The best part of this phone is it’s camera and it’s battery life. This two things have won my heart. I loved it. Happy to have it in my hand. Still exploring its features. And can’t forget to mention Flipkart service. Very prompt service and fast delivery.',\n",
       " 'Really worth of money. i just love it. It is the best phone ever.',\n",
       " 'Smooth like butter, camera like fantabulous, sound is crystal clear & its red color is damn attractive, i am just loving it. Must buy if you love photography.\\n\\nLucky to get it in sale, thank you Flipkart.',\n",
       " 'Awesome Phone. Slightly high price but worth. Better than iPhone XR.\\nCamera is superb and wide angle camera is very clear.\\n12MP selfie camera is also very good.\\nA13 Chip gives a very good and smooth performance.',\n",
       " 'Battery backup is extraordinary, camera is decent & performance offered by A13 bionic is awsome. The display is good in practical usage like the visibility of display is very good in direct sun light compare to pro models. Iam extremely satisfied for the money I spent.',\n",
       " 'Superb Product !!!\\nA big and worthy upgrade from mi 3S to iphone 11 .\\nTotally loved it !',\n",
       " 'I have migrated from OP 7pro... and trust me, iPhone 11 is totally worth it.. following are the reasons:-\\n1)there is ABSOLUTELY NO ISSUE WITH THE DISPLAY... its crisp, sharp and I found it to be much much better than OP7 pro. Netflix, Prime video all run crisply... you won’t miss a thing. True Tone works flawlessly...the display brightness is perfect. OP have not calibrated their screens properly.\\n2) iPhone 11 series have really good cameras... others have spoken in depth about them.\\n3) bat...\\nREAD MORE',\n",
       " 'Looking so good 👍 😍 super 👌 stylish 😎 phone\\nClean box 📦 good 👍 delivery 👌 fast delivery\\nOriginal box Original iphone 📱 👌 😍😍😍',\n",
       " 'After 1 month use I found camera quality best compared to my previous Samsung note 10+.Display not good as note 10 also charging too slow.Apple should add fast charger like 11 plus and pro.Best phone for daily use',\n",
       " 'I just directly switch from iphone 6s to iphone 11 .The best premium smartphone I recommend to everyone. Excellent quality and colors the iphone have in 11 series.\\nCamera quality is just awesome and the major feel when we hold in our hands. The sound quality and volume is also higher then the previous models.\\nI will recommend to buy iphone 11 instead of pro models , there is nothing much difference as this model contains everything which fulfill our needs.\\n\\nOnly one thing that I dislike abo...\\nREAD MORE',\n",
       " 'Upgraded from iphone 6 to 11 best phone for iphone users battery is much better than other iphones camera is awesome love to use it.camera is so clear in night.',\n",
       " 'The built quality is not very premium.\\nThe battery back is great .\\nThe LCD panel is not so sharp but the brightness level is very High .\\nCamera is super duper awesome.\\nThe red colour which people think is bright is actually very soothing and excellent colour to choose from .\\nThe A13 Bionic chip is really a flagship processor and can beat any phone which even has 12 gb ram .\\nCamera module is very great and looks very stylish.',\n",
       " 'Really good actually this is my first apple product am using its really awesome performance wise excellent. Am really happy with this iphone11',\n",
       " 'it is very good at performance. Camera is best like before and very smooth response even in water. Don’t buy 12 mini buy iPhone 11 , it is far better than 12 mini believe me ! Have a nice day \\uf8ff ☺️',\n",
       " 'Reviewing again after 5 months. At the beginning the battery and performance was good but it degraded soon. Also I was facing heating issues. The mobile will heat up like a stove sometimes. You cannot even play Pubg even in low settings properly, performance is not a problem but heating is. Also if you play that game for 10 mins the brightness will be automatically down due to over heating even when the auto brightness is set to off. This will not be solved even if u manually increase the bri...\\nREAD MORE',\n",
       " 'In love with this iphone great performance,camera ,battery everything. Go for it have a uncompareble battery backup, no doubts in iPhone camera here You can see the picture which is shot on my iPhone In love with this iphone great performance,camera ,battery everything. Go for it have a uncompareble battery backup, no doubts in iPhone camera here You can see the picture which is shot on my iPhone In love with this iphone great performance,camera ,battery everything. Go for it have a uncompare...\\nREAD MORE',\n",
       " 'We are on apple ecosystem for almost eight years now with couple of iPads and iPhones, including Xr.\\n\\nBought iPhone 11 as a gift to my daughter who loves it. We chose for a purple coloured one. Believe me it is gorgeous and towards the lighter shade. Dazzling and brilliant!\\n\\nThe phone is great and does excellent RAM management like any other Apple device.\\n\\nThe screen, though a LCD and lesser ppi as compared to other flagship phones of competitor brands, is a delight to watch with perfect re...\\nREAD MORE',\n",
       " 'Everything is perfect pictures come out so clearly and at first I wasn’t sure when I got it then when I started to use it and get the hang of it it was amazing!! I can’t wait to see what the next future phones will be like. The screen display on this bad boy are unbelievable they are so clear and never fail me. The performance is super cool there is a lot of cool features as well I like this phone because I feel that it is easy to use and one of my favorite things about this phone is the Face...\\nREAD MORE',\n",
       " 'It is just awesome mobile for this price from Apple,\\n\\nAfter 10 days review\\n\\nBattery enough for 1 day even 24*7 Internet will be on and mostly internet usage\\n\\nCamera is just awesome cool , android 64 MP is equal to this just 12 MP\\n\\nA13 Bionic chip will give more high performance without hanging\\n\\nAudio stereo speakers will give Dolby atoms sound with crystal clear\\n\\nVideo recording is like cinematic shots of every sec can be a 4K 60fps. Just awesome this phone\\niPhone 11 loved one',\n",
       " 'Best Apple iPhone that i have bought at a very reasonable price, camera quality is next level just awesome n of superior quality android phones not even close(RIP) to that and also battery is really good but packaging by Flipkart of iPhone was very poor of such a expensive product, firstly im bit worried about the quality of product if i purchased it through online how was the product but i think now this was mine best decision to bought it through Flipkart online because i got genuine Apple...\\nREAD MORE',\n",
       " 'Best Quality Product OF iPhone Series , Sound Quality & Camera quality is very awesome, Battery Life is very Sufficient for 24 hr Backup With Full Internet Access , I love this this Product too much , It is very fast & making me Very fast in all my daily Routine\\nHighlights;\\n1.Camera: 5 STAR\\n2.Video Recording: 5 star\\n3.Night mODE sHOOTING & Camera:4 star\\n4. Audio Quality: Awesome\\n5. Battery : 5 Star\\n6. Touch:5 Star\\n7. Processor: Very Fast\\nThe M...\\nREAD MORE',\n",
       " 'I rate this product 5* as it has got amazing user experience with the best performing A13 bionic processor. The screen responds and graphics rendering is top notch. With casual gaming and internet browsing, the battery lasts for approx. 1 day. Camera is very good. You will fall in love with the portrait mode. You can call me a loyal Apple customer or whatever but I won’t stop praising the products and overall experience. That user experience matters and is worth every penny you pay.\\n\\nBelow ar...\\nREAD MORE',\n",
       " \"Again back to apple iphone after a gap of 2-3 years. It's pleasure to use iOS and the quality product by Apple. Iphone 11 still works like a beast in 2021 also. It really capable of doing day to day usage as well as hard core gaming. Battery is awesome. I'm really too much satisfied with it. Apart fto the very gorgious IPS LCD (AMOLED will be better) everything is mind boggling. Iphone💕.\",\n",
       " 'impressive super phone and best in class camera ,sound and face unlock is super fast just see and phone is unlock and fast in daily apps use',\n",
       " 'Super and marvellous phone look very cute and nice sound. I love this phone i think white is good colur.Excellent camer 5*😍😘♥️♥️',\n",
       " 'Well while switching from android to iOS the first thing you need to be careful about is that you will loose all your whatsapp chat backups as both are different operating systems. Camera clarity is awesome and though being an lcd screen clarity and resolution is good. Battery backup is also good unlike previous gen iPhone. So far the experience is good will Padre after a few months of usage.\\n\\nP.S the black is more of a dark grey shade and not jet black',\n",
       " 'Very excited to have this phone. This phone has the real power unlike the android phones having SD 855 . The battery life is very good and the camera quality is excellent as comapred to redmi and other phones except google pixel. I M enjoying every single bit of it. Would recommed only if you have the budget.',\n",
       " 'I was using Iphone 6s and also Oneplus 6t. Both mobiles were perfectly alright in Photos, gaming, and smooth interface . My 6s mobile getting battery issue. thought upgrade to 11. Really like this mobile of its Internal storage (compare to 6s) , camera and its touch feeling. Its a worth buying mobile for me.',\n",
       " 'I am using this phone for 5 days and its one of the best camera out there ❤️ the screen is not oled and i am coming from iphone xs so its little bit not up to the mark i would say\\nBut overall value for money💕😍the battery back up is far better than my iphone xs and its worth in my apple ecosystem💫❤️if u are an apple User and have the eco system then go for it❤️though i will be getting the new iphone but its pretty good💫',\n",
       " 'Best and amazing product.....phone looks so premium.... battary is also good as expected .... Wide angle camera is so addictive ...if you are a IOS lover....then this phone will be the best choice for you all!!💯🔥',\n",
       " 'Always love the apple products, upgraded from old iPhone 6S plus to this after having my first baby. I just love to click baby’s photos with it. Overall I just love this phone. Battery back up is okay, sound quality is good. Haven’t tested yet waterproof yet. Only one thing I hate is apple could have given charger & headphones in box.',\n",
       " 'Value for money\\n5 star rating\\nExcellent camera\\nBattery backup full day in single charge.\\n\\nTougher and water resistant design, glossy back.\\nThe screen has excellent brightness and contrast.\\nApple A13 Bionic is the fastest smartphone chip on the planet.\\nExcellent battery life, fast charging support.\\nStereo speakers with great quality.',\n",
       " 'Thanks Flipkart For this amazing deal! I had a dream of owning a iphone since i had known about.\\nIm very happy with my purchase & it is totally worth it.\\nAmazing experience all over !!\\n\\nAnyone who’s thinking of buying it in 2021, i would simply say go for it without any second thoughts ❤️',\n",
       " 'Please DONT buy from here,\\n\\nI purchased Apple iPhone 11. with an exchange of IPhone 7, the exchange did not go well, iPhone 7 had a small scratch out side screen which i could never identify till date, but the FLIPKART person could, so he reduced 50% from exchange rate. I decided not to trade in, but paid money.\\n\\niPhone 11 Detail Below\\n---------------------------------------------\\nIt came with no charging, then i have put for charging, it took lot of time for charging, the phone also showe...\\nREAD MORE',\n",
       " 'awesome phone to have. it has got many smart features apart from mind blowing looks, camera, display, battery and sound. have fallen in love with this phone. must buy phone if you have got enough money. thanks to flipkart and apple of course..',\n",
       " 'Its a fabulous mobile look awesome performance unbeaten camera like dslr battery good i think this is a beast of mobile',\n",
       " \"Just got this iphone 11\\nAnd it is most powerful mobile phone I have used ever\\n\\nSo,go for it if you want a phone with best specification like camera,battery backup,display, A13 bionic chip\\n\\nThat's my review about this phone but yours can be differ from me....\",\n",
       " \"The best all rounder iphone. Flipkart is doing a great job. They're delivery services are blazing fast. I got delivery on the same day. Genuine Apple Product. Working great. Talking about review There's no need of review for iphones. They're simply the best.\",\n",
       " 'Amazing phone and on great deal I received with super fast delivery by Flipkart...',\n",
       " \"I'm switching this phone to oppo reno 10x zoom\\nIt's really impressive\\nRarely I'm missing smooth display touch response like oppo reno but\\nI really loved it.\\nCamera really impressive\",\n",
       " 'Damn this phone is a blast . Upgraded from android to ios and is a duperb experience. Battery backup is top notch and display also pretty good',\n",
       " 'I dreamt about this day from a long time.... Getting an iPhone with my own money.... Super happy and worth spending every penny',\n",
       " \"I'm Really happy with the product\\nDelivery was fast as well\\n..it was a gift for my sister and she loved it so much.\",\n",
       " \"Phone is awesome no doubt. But Camera & Display is not great. Performance is mind blowing.\\nBut the phone is heating too much when charging or when you regularly used. It's experience after using 1 week. It's heating extrem when I play PUBG for 30 minutes.\\nGo for iPhone 11 pro or 12. Otherwise go for Android phone you will get much better phone in less price.\",\n",
       " 'Did an upgrade from 6s plus to iphone 11.\\nAo far the experience is well and good. Felt smoother than 6s plus. The camera quality is superb. Battery backup is descent. Not a heavy user, and gets power more than a day. Go for it if you need an alrounder iphone in a competitve price.',\n",
       " 'Excellent camera, good performance, no lag. The lcd display is also good.. but difference come when we watch movie in prime and Netflix, the colours are not vibrant.. as we see in amoled display.. and the charger in box is of 5 watts.. takes more than 3 hours to charge from 0 to 100.. so guys be prepare to buy 18 watts charger . Finally I am an android user, it was my first Iapple phone, I promise u guys the iOS is so smooth.. overall the phone is damn good.... close eyes to buy it.. thanks t...\\nREAD MORE',\n",
       " 'Camera battery and it’s overall performance is good',\n",
       " 'Awesome purchase. Amazing phone with good battery backup. It’s a top notch device. White colour looks amazing. Phone has a few extra feature than iPhone XR. Overall, this is value for money',\n",
       " 'It’s an amazing product from apple and the camera is simply superb. Phone is faster.Night shot is simply superb and detailing and colour differentiation from camera is an added advantage\\n\\nThis review I have written from iPhone 11 only and I am glad to say outside.\\n\\nCons wise if we see HD+ display only, no battery percentage indicator as in older iPhone 8.\\nNo assistive touch control button in it\\nNo oleophobic coating on back panel glass and finger prints are visible but since I bought mint gr...\\nREAD MORE',\n",
       " 'Excellent camera and display touching very nice and smooth very improvement against iPhone XR and new processor is very fast',\n",
       " \"It's very high performances devise i am like the service of flipkart delevary very fast and packing very nice perfect phone\",\n",
       " \"I can say I'm damn impressed with iPhone 11. As they says iPhone 11 have the toughest glass ever in the smartphone which you'll find on the front and back and it's totally smooth. The fit and finish is full apple quality - there's no sense that any cheaping out has happened in the construction. Without saying it's camera features this review won't complete. The iPhone 11 has a dual camera system, consisting of a wide angle len's that's pretty much same as found on the iPhone XR last year, but...\\nREAD MORE\",\n",
       " 'Best in class. Battery backup is good especially when you play games like Pubg COD. But it is sort of heavy when you hold in hands. Portrait mode is best to click pictures. Stage light effect is awesome. Try to click photos outside in nature because photos inside home or room will not give you the quality in any phone even in DSLR.',\n",
       " 'Products damage',\n",
       " 'Well you all know the specifications . One of a kind. Best iPhone till date. Many enhancements to the camera app with many options. Love the glass body with matte finish in the lens area on the back. Lovely colours to choose from. Best battery in an iPhone till date, enough to last more than a day in normal usage. I tested my iPhone 11 battery and lasted for than 24 hours after full charge still with 30% battery charge left. Watched movies for some time. Normal usage on calls, browsing, musi...\\nREAD MORE',\n",
       " 'A perfect phone and a good battery super camera and the sound is dynamic overall the phone is perfect for upgrading from lower iPhone model to iPhone 11',\n",
       " 'New Phone worked for 2 weeks. After it gone dead without any reason and unfortunately lockdown hence at repair center for last 2 weeks. There were a exchange offer for old phone but they deducted amount saying one scratch on edge of old phone, infact any phone if u use for 1 month, if u use ring on ur finger it will come. It was not at all visible. The display, battery, performance for the old phone was perfect, still they deducted. With this experience i suggest you to buy phones from author...\\nREAD MORE',\n",
       " 'First thanks to Flipkart for this amazing deal and phone is outstanding. I upgraded from iPhone 7 and this is like very big upgrade. But the packaging was very basic I expected a good packaging as they only wrapped one layer of bubble wrap which I don’t think is enough to protect this expensive phone. And I recommend this phone and seller as well.\\n\\nAnd I’m posting this review after using it for 4 days.',\n",
       " 'This will help you more. See if you are planning to buy iPhone 11. I will say. Yes. But there are some plans I just want to disclose before you buy. 1) If you are an existing iPhone X/XS/XS Max/ XR user, better you guys do not think it to buy. You guys have more or less better gadget. 2) If you are an android user and planning to buy premium phone. I will suggest them to please buy iPhone instead of buying an Android. I bet you will never go back to android after using IOS. Now I want to shar...\\nREAD MORE',\n",
       " 'This is my first ever iPhone.\\nAnd I truly don’t regret switching to IOS from my Android.\\n\\nIt is easily an alternative to a DSLR camera.\\nIf you’re obsessed with photos and videos, just don’t think twice or don’t compare to other androids(Samsung S10 lite or OnePlus 8/8T), as it’s far better from them in every field.\\nComparing will only make you confused.\\n\\nI am getting an average Screen on Time of around 10 hours with 30 percent left. I haven’t let my device discharged below 30 % as it aff...\\nREAD MORE',\n",
       " 'Amazing camera and feel super machine I am not describe my feeling but this is amazing Phone I am so lucky I have this',\n",
       " 'Superfast delivery by Flipkart. Thanks.\\n\\n1. iPhone 11 is a pretty solid phone for the money you are paying.\\n2. All the bad reviews about the display is confusing. It’s not that bad.\\n3. I switched from a Oneplus 7t. I have no complaints about the display quality of iPhone. Yes, it’s not OLED, so, we are missing on the deep blacks. But that’s it. It is a very colour accurate display. Gets adequately bright and I could not find any pixelation.\\n4. Performance is one of the best, if not best, in ...\\nREAD MORE',\n",
       " 'Can’t beat the software and hardware integration of apple.\\nPerforms like a beast. Great quality camera\\n6-7 hours screen on time which is good. Nothing much to complaint about the screen. Good connectivity speeds.\\nGreat buy and Flipkart’s delivery top notch as usual',\n",
       " 'Worth the money’ starting first from its performance it beats out all phones , second the smoothness of camera is awesome, contrast ratio is much than expected. Price will not matter if u r a quality person, if not other phones are available with better discount',\n",
       " 'Its Very awesome product working and good camera quality and all about best product and also flipkart is very great deal and offer nice price',\n",
       " \"phone is good but in display is 720p lcd in this price range we can get full hd OLED displays with higher refresh rate processor is very good camera is nice but looks kind of oldish in front of todays phone also there's no charging in box had to buy it seperately\",\n",
       " 'Great iphone.\\nI am writing this review after 2 months of usage.\\nCamera is excellent, especially the nightmode\\nDisplay perfect\\nBattery backup awesome\\nSound quality very good\\nOverall Apple gives you a perfect iphone in this range.\\nReally in love with iPhone 11',\n",
       " 'finally an iPhone with very nice battery backup. update from iPhone 7 and happy to have it. camera is not up to the mark in low light but overall a recommended phone if your budget allows 😀',\n",
       " 'iPhone is delivered on time. Display is great u won’t feel that it’s a hd panel. Quality is excellent. Sounds is great it has stereo setup. Camera is good. iOS 14.2 comes in the box. U roughly get 113 gb free if u buy 128 gb. This is my second iPhone and i love it. Value for money.',\n",
       " 'beautiful shining, battery performance is too good.\\nonly the draw back is my expectations not meeted front cam but back cam is superb.',\n",
       " '🤩🤩🤩🤩🤩🤩I loved the Phone.. Every time I pick up the phone it makes me happy... The phone is beast💪💪 and the camera is fabulous 🥰🥰🥰.. I think one of my great purchase from Flipkart.. Thank you Filpkart..',\n",
       " 'Mobile is not getting charge.Mobile cannot be stated',\n",
       " \"I got this beast today. And I must say the picture quality of its camera is awesome. Both the cameras works fine.\\n\\nAs for as the processing is concerned, it runs without any lag. You can play and do whatever you want without a glitch.\\n\\nThe battery runs for a day with medium and high workload.\\n\\nThe display is good and the speakers are working fine.\\n\\nThe earphones doesn't have any base and you can use it for calling mostly.\\n\\nThe charging time is approximately for 90 minutes for full charging...\\nREAD MORE\",\n",
       " 'Amazing camera quality as expected, battery also has very good performance. Display, body, and touch experience is the best I’ve ever had. Sound quality of speakers is more than sufficient. Apple is known for it’s customer friendly security services and I can see it how. The A13 processor is the best in its work. So I would definitely recommend it for everyone who are looking for it, just go for it without delay.\\n\\nThe most amazing thing it the delivery. Flipkart has delivered it in the span ...\\nREAD MORE',\n",
       " 'Dear friends... I want to share my experience with you about this amazing I phone 11....this is my first iPhone and special things about this mobile is it has great camera, battery backup and awesome display.... I mean everything is perfect.loved it 👍👍👍',\n",
       " 'Here is the thing\\n\\nThe only reason why you should buy this phone is for the camera, iOS, and if you have headaches looking at AMOLED display.\\n\\nI’m not an avid gamer but watch a lot of movies on smartphone. However, my migraine attacks increased considerably after using AMOLED Smartphone. That’s why I made a calculated decision to buy iPhone 11. It has the best LCD display and the blacks, though not as natural as an AMOLED, is better than some of the other smartphones.\\n\\nAdding to this the ste...\\nREAD MORE',\n",
       " \"It was amazing experience for me. Honestly i am using iPhone first time so I don't have that much past experience about that. But after using 7 days this mobile i want to give some honest feedback.\\n1- Display 9 out of 10\\n2- Camera 9.5 out of 10\\n3- Battery 7 out of 10\\n4- Performance 9.5 out of 10\\n5- Features & Functions 10 out of 10\\n6- Outer looks and colour 10 out of 10\\nRest i think i will understand after using this for few months.\\nI will highly recommend you guys if you have budget then you...\\nREAD MORE\",\n",
       " 'Not mere a phone , Its more than that for fun and enjoy life. Just grab it. Best luck',\n",
       " 'Nice 👌👌👌👌👌👌',\n",
       " 'MD sufiyan rider Owsm\\nMobile nd battery mast h v good',\n",
       " \"Ok, so after almost 3 years I am again back into Apple Ecosystem. Switching from Android to iOS has just one disadvantage imo, and that's you can't take your WhatsApp data restored to iOS. Everything starts fresh, pretty sad. I am so glad that I chose iPhone 11 over 12. With 5G nowhere in India for at least an year will have an added advantage to iPhone 11. Spending extra 25k just for A14 chipset and OLED display is not a clever choice. Anyways, a fantastic phone with everything fit perfectly...\\nREAD MORE\",\n",
       " \"If you are looking for a premium phone under 55k, this is the one for you.Got the iPhone 11 during the Republic day sale. Performance is top notch in this price range. Camera's do a perfect job in taking good quality photos and videos. Battery backup too is satisfactory. Writing this review after using for a week. Any further observations would be updated.\"]"
      ]
     },
     "execution_count": 303,
     "metadata": {},
     "output_type": "execute_result"
    }
   ],
   "source": [
    "full=full[0:100]\n",
    "full"
   ]
  },
  {
   "cell_type": "code",
   "execution_count": 304,
   "id": "a7632cf6",
   "metadata": {},
   "outputs": [
    {
     "name": "stdout",
     "output_type": "stream",
     "text": [
      "100 100 100\n"
     ]
    }
   ],
   "source": [
    "print(len(rating),len(review),len(full))"
   ]
  },
  {
   "cell_type": "code",
   "execution_count": 305,
   "id": "893c2cdc",
   "metadata": {},
   "outputs": [
    {
     "data": {
      "text/html": [
       "<div>\n",
       "<style scoped>\n",
       "    .dataframe tbody tr th:only-of-type {\n",
       "        vertical-align: middle;\n",
       "    }\n",
       "\n",
       "    .dataframe tbody tr th {\n",
       "        vertical-align: top;\n",
       "    }\n",
       "\n",
       "    .dataframe thead th {\n",
       "        text-align: right;\n",
       "    }\n",
       "</style>\n",
       "<table border=\"1\" class=\"dataframe\">\n",
       "  <thead>\n",
       "    <tr style=\"text-align: right;\">\n",
       "      <th></th>\n",
       "      <th>Ratings</th>\n",
       "      <th>Summary Review</th>\n",
       "      <th>Full Review</th>\n",
       "    </tr>\n",
       "  </thead>\n",
       "  <tbody>\n",
       "    <tr>\n",
       "      <th>0</th>\n",
       "      <td>5</td>\n",
       "      <td>Brilliant</td>\n",
       "      <td>The Best Phone for the Money\\n\\nThe iPhone 11 ...</td>\n",
       "    </tr>\n",
       "    <tr>\n",
       "      <th>1</th>\n",
       "      <td>5</td>\n",
       "      <td>Simply awesome</td>\n",
       "      <td>Really satisfied with the Product I received.....</td>\n",
       "    </tr>\n",
       "    <tr>\n",
       "      <th>2</th>\n",
       "      <td>5</td>\n",
       "      <td>Best in the market!</td>\n",
       "      <td>Great iPhone very snappy experience as apple k...</td>\n",
       "    </tr>\n",
       "    <tr>\n",
       "      <th>3</th>\n",
       "      <td>5</td>\n",
       "      <td>Perfect product!</td>\n",
       "      <td>Amazing phone with great cameras and better ba...</td>\n",
       "    </tr>\n",
       "    <tr>\n",
       "      <th>4</th>\n",
       "      <td>5</td>\n",
       "      <td>Fabulous!</td>\n",
       "      <td>This is my first iOS phone. I am very happy wi...</td>\n",
       "    </tr>\n",
       "    <tr>\n",
       "      <th>...</th>\n",
       "      <td>...</td>\n",
       "      <td>...</td>\n",
       "      <td>...</td>\n",
       "    </tr>\n",
       "    <tr>\n",
       "      <th>95</th>\n",
       "      <td>5</td>\n",
       "      <td>Just wow!</td>\n",
       "      <td>Not mere a phone , Its more than that for fun ...</td>\n",
       "    </tr>\n",
       "    <tr>\n",
       "      <th>96</th>\n",
       "      <td>5</td>\n",
       "      <td>Perfect product!</td>\n",
       "      <td>Nice 👌👌👌👌👌👌</td>\n",
       "    </tr>\n",
       "    <tr>\n",
       "      <th>97</th>\n",
       "      <td>5</td>\n",
       "      <td>Fabulous!</td>\n",
       "      <td>MD sufiyan rider Owsm\\nMobile nd battery mast ...</td>\n",
       "    </tr>\n",
       "    <tr>\n",
       "      <th>98</th>\n",
       "      <td>5</td>\n",
       "      <td>Wonderful</td>\n",
       "      <td>Ok, so after almost 3 years I am again back in...</td>\n",
       "    </tr>\n",
       "    <tr>\n",
       "      <th>99</th>\n",
       "      <td>5</td>\n",
       "      <td>Nice product</td>\n",
       "      <td>If you are looking for a premium phone under 5...</td>\n",
       "    </tr>\n",
       "  </tbody>\n",
       "</table>\n",
       "<p>100 rows × 3 columns</p>\n",
       "</div>"
      ],
      "text/plain": [
       "   Ratings       Summary Review  \\\n",
       "0        5            Brilliant   \n",
       "1        5       Simply awesome   \n",
       "2        5  Best in the market!   \n",
       "3        5     Perfect product!   \n",
       "4        5            Fabulous!   \n",
       "..     ...                  ...   \n",
       "95       5            Just wow!   \n",
       "96       5     Perfect product!   \n",
       "97       5            Fabulous!   \n",
       "98       5            Wonderful   \n",
       "99       5         Nice product   \n",
       "\n",
       "                                          Full Review  \n",
       "0   The Best Phone for the Money\\n\\nThe iPhone 11 ...  \n",
       "1   Really satisfied with the Product I received.....  \n",
       "2   Great iPhone very snappy experience as apple k...  \n",
       "3   Amazing phone with great cameras and better ba...  \n",
       "4   This is my first iOS phone. I am very happy wi...  \n",
       "..                                                ...  \n",
       "95  Not mere a phone , Its more than that for fun ...  \n",
       "96                                        Nice 👌👌👌👌👌👌  \n",
       "97  MD sufiyan rider Owsm\\nMobile nd battery mast ...  \n",
       "98  Ok, so after almost 3 years I am again back in...  \n",
       "99  If you are looking for a premium phone under 5...  \n",
       "\n",
       "[100 rows x 3 columns]"
      ]
     },
     "execution_count": 305,
     "metadata": {},
     "output_type": "execute_result"
    }
   ],
   "source": [
    "df=pd.DataFrame({'Ratings':rating,\n",
    "                'Summary Review':review,\n",
    "                'Full Review':full})\n",
    "df"
   ]
  },
  {
   "cell_type": "markdown",
   "id": "e106b129",
   "metadata": {},
   "source": [
    "# QUESTION 6"
   ]
  },
  {
   "cell_type": "code",
   "execution_count": 274,
   "id": "c565b646",
   "metadata": {},
   "outputs": [],
   "source": [
    "driver=webdriver.Chrome('chromedriver.exe')"
   ]
  },
  {
   "cell_type": "code",
   "execution_count": 275,
   "id": "077cc975",
   "metadata": {},
   "outputs": [],
   "source": [
    "url='https://www.flipkart.com/'\n",
    "driver.get(url)"
   ]
  },
  {
   "cell_type": "code",
   "execution_count": 276,
   "id": "709ee502",
   "metadata": {},
   "outputs": [
    {
     "data": {
      "text/plain": [
       "<selenium.webdriver.remote.webelement.WebElement (session=\"4ba9ba4b7b55261d45dbfeedb7efc43b\", element=\"b426b092-6746-4d08-96e7-1378ef18af6d\")>"
      ]
     },
     "execution_count": 276,
     "metadata": {},
     "output_type": "execute_result"
    }
   ],
   "source": [
    "# To get search field\n",
    "search=driver.find_element_by_class_name('_3704LK')\n",
    "search"
   ]
  },
  {
   "cell_type": "code",
   "execution_count": 277,
   "id": "c0273a0d",
   "metadata": {},
   "outputs": [],
   "source": [
    "search.send_keys('sneakers')"
   ]
  },
  {
   "cell_type": "code",
   "execution_count": 278,
   "id": "42398050",
   "metadata": {},
   "outputs": [
    {
     "data": {
      "text/plain": [
       "<selenium.webdriver.remote.webelement.WebElement (session=\"4ba9ba4b7b55261d45dbfeedb7efc43b\", element=\"006c627c-d851-4e10-97ec-f157162b0987\")>"
      ]
     },
     "execution_count": 278,
     "metadata": {},
     "output_type": "execute_result"
    }
   ],
   "source": [
    "# To get the search button\n",
    "btn=driver.find_element_by_class_name('L0Z3Pu')\n",
    "btn"
   ]
  },
  {
   "cell_type": "code",
   "execution_count": 279,
   "id": "c6ad40ae",
   "metadata": {},
   "outputs": [],
   "source": [
    "# To click on the button\n",
    "btn.click()"
   ]
  },
  {
   "cell_type": "code",
   "execution_count": 280,
   "id": "8bccebe5",
   "metadata": {},
   "outputs": [
    {
     "data": {
      "text/plain": [
       "['https://www.flipkart.com/search?q=sneakers&otracker=search&otracker1=search&marketplace=FLIPKART&as-show=on&as=off&page=1',\n",
       " 'https://www.flipkart.com/search?q=sneakers&otracker=search&otracker1=search&marketplace=FLIPKART&as-show=on&as=off&page=2',\n",
       " 'https://www.flipkart.com/search?q=sneakers&otracker=search&otracker1=search&marketplace=FLIPKART&as-show=on&as=off&page=3']"
      ]
     },
     "execution_count": 280,
     "metadata": {},
     "output_type": "execute_result"
    }
   ],
   "source": [
    "# To extract next pages link\n",
    "links=[]\n",
    "urls=driver.find_elements_by_xpath('//nav[@class=\"yFHi8N\"]//a')[:3]\n",
    "for i in urls:\n",
    "    links.append(i.get_attribute('href'))\n",
    "links"
   ]
  },
  {
   "cell_type": "code",
   "execution_count": 281,
   "id": "16cd4011",
   "metadata": {},
   "outputs": [],
   "source": [
    "# To scrap the brands\n",
    "brand=[]\n",
    "for i in links:\n",
    "    driver.get(i)\n",
    "    b=driver.find_elements_by_xpath('//div[@class=\"_2WkVRV\"]')\n",
    "    for j in b:\n",
    "        brand.append(j.text)"
   ]
  },
  {
   "cell_type": "code",
   "execution_count": 282,
   "id": "1821eefd",
   "metadata": {},
   "outputs": [
    {
     "data": {
      "text/plain": [
       "['HIGHLANDER',\n",
       " 'Ardeo',\n",
       " 'Chevit',\n",
       " 'DUNKASTON',\n",
       " 'World Wear Footwear',\n",
       " 'BRUTON',\n",
       " 'Magnolia',\n",
       " \"LEVI'S\",\n",
       " 'TR',\n",
       " 'URBANBOX',\n",
       " 'corsac',\n",
       " \"LEVI'S\",\n",
       " 'BRUTON',\n",
       " 'BRUTON',\n",
       " 'KWIK FIT',\n",
       " 'Roadster',\n",
       " 'D-SNEAKERZ',\n",
       " 'World Wear Footwear',\n",
       " 'Shoes Bank',\n",
       " 'Roadster',\n",
       " 'aadi',\n",
       " 'BRUTON',\n",
       " 'BRUTON',\n",
       " 'Ardeo',\n",
       " 'RapidBox',\n",
       " 'Labbin',\n",
       " 'Magnolia',\n",
       " \"LEVI'S\",\n",
       " 'Stefano Rads',\n",
       " 'Rzisbo',\n",
       " 'India hub',\n",
       " 'RapidBox',\n",
       " 'Kraasa',\n",
       " 'Echor',\n",
       " 'SCATCHITE',\n",
       " 'HIGHLANDER',\n",
       " 'Chevit',\n",
       " 'Kzaara',\n",
       " 'Airland',\n",
       " 'RapidBox',\n",
       " 'Kraasa',\n",
       " 'BIRDE',\n",
       " 'Stinson',\n",
       " \"LEVI'S\",\n",
       " 'Zsyto',\n",
       " 'India hub',\n",
       " 'Xtoon',\n",
       " \"LEVI'S\",\n",
       " 'Chevit',\n",
       " 'CLYMB',\n",
       " 'D-SNEAKERZ',\n",
       " 'Roadster',\n",
       " 'Ktiz',\n",
       " 'RANZAG',\n",
       " 'Numenzo',\n",
       " 'Roadster',\n",
       " 'Robbie jones',\n",
       " 'ASIAN',\n",
       " 'Robbie jones',\n",
       " \"LEVI'S\",\n",
       " 'Elevarse',\n",
       " 'Dizzler',\n",
       " 'Chevit',\n",
       " 'HIGHLANDER',\n",
       " 'Robbie jones',\n",
       " 'asics',\n",
       " 'Vellinto',\n",
       " 'RapidBox',\n",
       " 'RapidBox',\n",
       " 'DUNKASTON',\n",
       " 'LE GREEM',\n",
       " 'HIGHLANDER',\n",
       " 'Bretton',\n",
       " 'luxury fashion',\n",
       " 'KNIGHT WALKERS',\n",
       " 'RapidBox',\n",
       " 'Nilatin',\n",
       " 'COZY2FOOTWEAR',\n",
       " 'bluemaker',\n",
       " 'SWIGGY',\n",
       " 'Noztile',\n",
       " 'Arohi',\n",
       " 'WHITE WALKERS',\n",
       " 'Roadster',\n",
       " 'AMICO',\n",
       " 'COZY2FOOTWEAR',\n",
       " 'WHITE WALKERS',\n",
       " \"LEVI'S\",\n",
       " 'BIRDE',\n",
       " 'ADIDAS',\n",
       " 'T-ROCK',\n",
       " \"LEVI'S\",\n",
       " 'Jimnastic shoes',\n",
       " 'CAMPUS',\n",
       " 'Zorth',\n",
       " 'HIGHLANDER',\n",
       " 'Brainer',\n",
       " 'SEGA',\n",
       " 'PUMA',\n",
       " 'Roadster']"
      ]
     },
     "execution_count": 282,
     "metadata": {},
     "output_type": "execute_result"
    }
   ],
   "source": [
    "brand=brand[0:100]\n",
    "brand"
   ]
  },
  {
   "cell_type": "code",
   "execution_count": 283,
   "id": "c593e657",
   "metadata": {},
   "outputs": [],
   "source": [
    "# To scrap the Product Description\n",
    "desc=[]\n",
    "for i in links:\n",
    "    driver.get(i)\n",
    "    d=driver.find_elements_by_xpath('//a[@class=\"IRpwTa\"]')\n",
    "    for j in d:\n",
    "        desc.append(j.text)"
   ]
  },
  {
   "cell_type": "code",
   "execution_count": 291,
   "id": "d662aa5d",
   "metadata": {},
   "outputs": [
    {
     "data": {
      "text/plain": [
       "['Sneakers For Men',\n",
       " 'Sneakers For Men',\n",
       " 'Super Stylish & Trendy Combo Pack of 02 Pairs Sneakers ...',\n",
       " 'Sneakers For Men',\n",
       " 'Modern Trendy Sneakers Shoes Sneakers For Men',\n",
       " 'Sneakers For Men',\n",
       " 'Sneakers For Men',\n",
       " 'STYLISH MENS BLACK AND WHITE SNEAKER Sneakers For Men',\n",
       " 'Men Blue Solid Sneakers Sneakers For Men',\n",
       " 'Sneaker Sneakers For Men',\n",
       " 'Modern & Trendy Collection Combo Pack of 02 Shoes for M...',\n",
       " 'Kwik FIT casual sneaker shoes and partywear shoes Casua...',\n",
       " \"Casual , Partywear Sneakers Shoes For Men's And Boys Wh...\",\n",
       " '5011-Latest Collection Stylish Casual Loafer Sneakers S...',\n",
       " \"White Sneaker For Men's/Boy's Sneakers For Men\",\n",
       " 'Men White Solid Sneakers Sneakers For Men',\n",
       " 'Sneakers For Men',\n",
       " 'Lattest Sneakers Shoe Sneakers For Men',\n",
       " 'Modern & Trendy Collection Combo Pack of 02 Shoes for M...',\n",
       " 'Sneakers For Men',\n",
       " 'Sneakers For Men',\n",
       " 'Sneakers For Men',\n",
       " 'Luxury Fashionable casual sneaker shoes Sneakers For Me...',\n",
       " 'Casual Loafers, Sneakers Shoes for Men Pack of 5 Combo(...',\n",
       " 'Series 7 Sneakers For Men',\n",
       " \"Men's Sneakers Fashion Lightweight Running Shoes Tennis...\",\n",
       " 'Sneakers For Men',\n",
       " '516 Trendy Star Perfect Sneakers For Men',\n",
       " 'Sneakers For Men',\n",
       " 'sneaker men red 1258 - 6 Sneakers For Men',\n",
       " 'Sneakers For Men',\n",
       " 'Shark-41 Sneakers For Men',\n",
       " 'Sports Running Shoes Sneakers For Men',\n",
       " 'Sneakers For Men',\n",
       " 'casual sneaker shoes for men kardam&sons Sneakers For M...',\n",
       " \"white Casual shoes,Sneakers for men's Sneakers For Men\",\n",
       " 'Unique & Perfect Collection Combo Pack of 02 Shoes for ...',\n",
       " \"Perfect Sports Shoes for Men's Running ,Cycling & Trekk...\",\n",
       " \"Casual , Partywear Sneakers Shoes For Men's And Boys Wh...\",\n",
       " 'Men Blue Solid Sneakers Sneakers For Men',\n",
       " 'Sneakers For Men',\n",
       " 'Running Shoes Stylish Comfortable Shoes For Men Sneaker...',\n",
       " '411 Casual Sneakers For Men',\n",
       " 'Men White Solid Sneakers Sneakers For Men',\n",
       " 'Sneakers For Men',\n",
       " 'Skypy-31 Walking Shoes,Training Shoes,Sneakers,Loafers,...',\n",
       " 'Casual Sneakers White Shoes For Men Sneakers For Men',\n",
       " 'Sneakers For Men',\n",
       " 'Perfect & Affordable Combo Pack of 02 Pairs Sneakers Ou...',\n",
       " 'Sneakers For Men',\n",
       " 'fuzor B Sneakers For Men',\n",
       " 'Casual Sneakrs For Men Sneakers For Men',\n",
       " 'Sneakers For Men',\n",
       " 'Comfortable & Ultra Light Weight Sneaker Sneakers For M...',\n",
       " 'Fashionable sneaker shoes Sneakers For Men',\n",
       " 'Sneakers For Men',\n",
       " 'Sneakers For Men',\n",
       " 'Sneakers For Men',\n",
       " 'casual for men Sneakers For Men',\n",
       " 'Sneakers For Men',\n",
       " 'Stylish & Trending Outdoor Walking Comfortable Sneakers...',\n",
       " 'Sneakers For Men',\n",
       " 'Sneakers For Men',\n",
       " 'Stylish Comfortable Lightweight, Breathable Casual Walk...',\n",
       " 'Street Icon M Sneakers For Men',\n",
       " 'Stylish White Casual Sneakers shoes Men and Boys Sneake...',\n",
       " 'EXPLORE Sneakers For Men',\n",
       " 'Sneakers For Men',\n",
       " 'Men Blue Solid Sneakers Sneakers For Men',\n",
       " 'Sneakers For Men',\n",
       " 'Electron E Pro Sneakers For Men',\n",
       " 'Men White Solid Sneakers Sneakers For Men',\n",
       " 'RS-X WINTERIZED Sneakers For Men',\n",
       " 'Khalifa/Walking/Outdoor/Sneakers Sneakers For Men',\n",
       " 'all white heartbeat casual shoe Sneakers For Men',\n",
       " 'Sneakers For Men',\n",
       " 'New Fashion Outdoor Trendy Lightweight Casual,Canvas St...',\n",
       " 'Sneakers For Men',\n",
       " 'sports shoes for men | Latest Stylish Casual sneakers f...',\n",
       " 'Sneakers For Men',\n",
       " 'casual for men Sneakers For Men',\n",
       " 'SM-671 Sneakers For Men',\n",
       " 'Sneakers For Men',\n",
       " 'Sneakers For Men']"
      ]
     },
     "execution_count": 291,
     "metadata": {},
     "output_type": "execute_result"
    }
   ],
   "source": [
    "desc"
   ]
  },
  {
   "cell_type": "code",
   "execution_count": 285,
   "id": "fe404566",
   "metadata": {},
   "outputs": [],
   "source": [
    "# To scrap the price\n",
    "price=[]\n",
    "for i in links:\n",
    "    driver.get(i)\n",
    "    p=driver.find_elements_by_xpath('//div[@class=\"_30jeq3\"]')\n",
    "    for j in p:\n",
    "        price.append(j.text)"
   ]
  },
  {
   "cell_type": "code",
   "execution_count": 286,
   "id": "dd9aa23a",
   "metadata": {},
   "outputs": [
    {
     "data": {
      "text/plain": [
       "['₹796',\n",
       " '₹995',\n",
       " '₹649',\n",
       " '₹324',\n",
       " '₹199',\n",
       " '₹259',\n",
       " '₹448',\n",
       " '₹1,119',\n",
       " '₹322',\n",
       " '₹198',\n",
       " '₹449',\n",
       " '₹1,119',\n",
       " '₹299',\n",
       " '₹471',\n",
       " '₹399',\n",
       " '₹1,684',\n",
       " '₹299',\n",
       " '₹199',\n",
       " '₹298',\n",
       " '₹1,299',\n",
       " '₹339',\n",
       " '₹299',\n",
       " '₹536',\n",
       " '₹640',\n",
       " '₹680',\n",
       " '₹499',\n",
       " '₹448',\n",
       " '₹1,199',\n",
       " '₹240',\n",
       " '₹494',\n",
       " '₹425',\n",
       " '₹796',\n",
       " '₹444',\n",
       " '₹499',\n",
       " '₹398',\n",
       " '₹620',\n",
       " '₹259',\n",
       " '₹259',\n",
       " '₹198',\n",
       " '₹995',\n",
       " '₹444',\n",
       " '₹299',\n",
       " '₹259',\n",
       " '₹1,119',\n",
       " '₹311',\n",
       " '₹449',\n",
       " '₹479',\n",
       " '₹1,299',\n",
       " '₹499',\n",
       " '₹249',\n",
       " '₹384',\n",
       " '₹1,119',\n",
       " '₹474',\n",
       " '₹395',\n",
       " '₹474',\n",
       " '₹796',\n",
       " '₹499',\n",
       " '₹498',\n",
       " '₹499',\n",
       " '₹1,684',\n",
       " '₹399',\n",
       " '₹495',\n",
       " '₹549',\n",
       " '₹640',\n",
       " '₹499',\n",
       " '₹2,086',\n",
       " '₹674',\n",
       " '₹995',\n",
       " '₹680',\n",
       " '₹426',\n",
       " '₹449',\n",
       " '₹1,199',\n",
       " '₹251',\n",
       " '₹499',\n",
       " '₹648',\n",
       " '₹923',\n",
       " '₹649',\n",
       " '₹499',\n",
       " '₹499',\n",
       " '₹995',\n",
       " '₹399',\n",
       " '₹430',\n",
       " '₹599',\n",
       " '₹1,119',\n",
       " '₹499',\n",
       " '₹499',\n",
       " '₹599',\n",
       " '₹1,119',\n",
       " '₹399',\n",
       " '₹2,123',\n",
       " '₹399',\n",
       " '₹1,684',\n",
       " '₹397',\n",
       " '₹1,367',\n",
       " '₹447',\n",
       " '₹1,299',\n",
       " '₹499',\n",
       " '₹642',\n",
       " '₹2,749',\n",
       " '₹640']"
      ]
     },
     "execution_count": 286,
     "metadata": {},
     "output_type": "execute_result"
    }
   ],
   "source": [
    "price=price[0:100]\n",
    "price"
   ]
  },
  {
   "cell_type": "code",
   "execution_count": 287,
   "id": "3dd9463b",
   "metadata": {},
   "outputs": [],
   "source": [
    "# To scrap the discount\n",
    "discount=[]\n",
    "for i in links:\n",
    "    driver.get(i)\n",
    "    d=driver.find_elements_by_xpath('//div[@class=\"_3Ay6Sb\"]')\n",
    "    for j in d:\n",
    "        discount.append(j.text)"
   ]
  },
  {
   "cell_type": "code",
   "execution_count": 288,
   "id": "16f6be05",
   "metadata": {},
   "outputs": [
    {
     "data": {
      "text/plain": [
       "['50% off',\n",
       " '60% off',\n",
       " '59% off',\n",
       " '78% off',\n",
       " '60% off',\n",
       " '80% off',\n",
       " '55% off',\n",
       " '60% off',\n",
       " '68% off',\n",
       " '80% off',\n",
       " '70% off',\n",
       " '60% off',\n",
       " '77% off',\n",
       " '81% off',\n",
       " '80% off',\n",
       " '54% off',\n",
       " '55% off',\n",
       " '60% off',\n",
       " '70% off',\n",
       " '49% off',\n",
       " '66% off',\n",
       " '77% off',\n",
       " '79% off',\n",
       " '60% off',\n",
       " '32% off',\n",
       " '50% off',\n",
       " '55% off',\n",
       " '36% off',\n",
       " '66% off',\n",
       " '51% off',\n",
       " '79% off',\n",
       " '38% off',\n",
       " '56% off',\n",
       " '50% off',\n",
       " '60% off',\n",
       " '63% off',\n",
       " '68% off',\n",
       " '74% off',\n",
       " '60% off',\n",
       " '37% off',\n",
       " '56% off',\n",
       " '40% off',\n",
       " '48% off',\n",
       " '60% off',\n",
       " '76% off',\n",
       " '65% off',\n",
       " '68% off',\n",
       " '60% off',\n",
       " '67% off',\n",
       " '75% off',\n",
       " '62% off',\n",
       " '54% off',\n",
       " '53% off',\n",
       " '60% off',\n",
       " '76% off',\n",
       " '49% off',\n",
       " '50% off',\n",
       " '38% off',\n",
       " '50% off',\n",
       " '60% off',\n",
       " '60% off',\n",
       " '31% off',\n",
       " '69% off',\n",
       " '50% off',\n",
       " '50% off',\n",
       " '45% off',\n",
       " '48% off',\n",
       " '36% off',\n",
       " '32% off',\n",
       " '72% off',\n",
       " '55% off',\n",
       " '60% off',\n",
       " '87% off',\n",
       " '75% off',\n",
       " '57% off',\n",
       " '38% off',\n",
       " '78% off',\n",
       " '67% off',\n",
       " '50% off',\n",
       " '63% off',\n",
       " '80% off',\n",
       " '57% off',\n",
       " '50% off',\n",
       " '60% off',\n",
       " '67% off',\n",
       " '67% off',\n",
       " '50% off',\n",
       " '60% off',\n",
       " '60% off',\n",
       " '41% off',\n",
       " '60% off',\n",
       " '49% off',\n",
       " '28% off',\n",
       " '55% off',\n",
       " '62% off',\n",
       " '54% off',\n",
       " '36% off',\n",
       " '45% off',\n",
       " '55% off',\n",
       " '36% off']"
      ]
     },
     "execution_count": 288,
     "metadata": {},
     "output_type": "execute_result"
    }
   ],
   "source": [
    "discount=discount[0:100]\n",
    "discount"
   ]
  },
  {
   "cell_type": "code",
   "execution_count": null,
   "id": "2070c871",
   "metadata": {},
   "outputs": [],
   "source": [
    "print(len(brand),len(discount),len(desc),len(price))"
   ]
  },
  {
   "cell_type": "code",
   "execution_count": null,
   "id": "b3038623",
   "metadata": {},
   "outputs": [],
   "source": [
    "df=pd.DataFrame({'Brand':brand,\n",
    "                'Product Description':desc,\n",
    "                'Price':price,\n",
    "                'Discount':discount})\n",
    "df"
   ]
  },
  {
   "cell_type": "markdown",
   "id": "418ca972",
   "metadata": {},
   "source": [
    "# QUESTION 7"
   ]
  },
  {
   "cell_type": "code",
   "execution_count": 258,
   "id": "d2d88179",
   "metadata": {},
   "outputs": [],
   "source": [
    "driver=webdriver.Chrome('chromedriver.exe')"
   ]
  },
  {
   "cell_type": "code",
   "execution_count": 259,
   "id": "de5e8fa6",
   "metadata": {},
   "outputs": [],
   "source": [
    "url='https://www.myntra.com/shoes'\n",
    "driver.get(url)"
   ]
  },
  {
   "cell_type": "code",
   "execution_count": 260,
   "id": "53457c9f",
   "metadata": {},
   "outputs": [
    {
     "data": {
      "text/plain": [
       "<selenium.webdriver.remote.webelement.WebElement (session=\"4726b2f69616ece6d401faeefcd3c932\", element=\"c9dcd5bc-8555-4b86-a83b-ae142a9dc798\")>"
      ]
     },
     "execution_count": 260,
     "metadata": {},
     "output_type": "execute_result"
    }
   ],
   "source": [
    "# To select the price filter\n",
    "p=driver.find_element_by_xpath('/html/body/div[2]/div/div[1]/main/div[3]/div[1]/section/div/div[5]/ul/li[2]/label/div')\n",
    "p"
   ]
  },
  {
   "cell_type": "code",
   "execution_count": 261,
   "id": "a4bc0376",
   "metadata": {},
   "outputs": [],
   "source": [
    "p.click()"
   ]
  },
  {
   "cell_type": "code",
   "execution_count": 262,
   "id": "81a6f33f",
   "metadata": {},
   "outputs": [
    {
     "data": {
      "text/plain": [
       "<selenium.webdriver.remote.webelement.WebElement (session=\"4726b2f69616ece6d401faeefcd3c932\", element=\"2c3eae08-fa9b-4e07-a558-104e89d4bee5\")>"
      ]
     },
     "execution_count": 262,
     "metadata": {},
     "output_type": "execute_result"
    }
   ],
   "source": [
    "# To select the colour filter\n",
    "c=driver.find_element_by_xpath('/html/body/div[2]/div/div[1]/main/div[3]/div[1]/section/div/div[6]/ul/li[1]/label/div')\n",
    "c"
   ]
  },
  {
   "cell_type": "code",
   "execution_count": 263,
   "id": "8147537e",
   "metadata": {},
   "outputs": [],
   "source": [
    "c.click()"
   ]
  },
  {
   "cell_type": "code",
   "execution_count": 264,
   "id": "6c9c88bd",
   "metadata": {},
   "outputs": [],
   "source": [
    "# To extract next pages link\n",
    "urls=[]\n",
    "next = driver.find_elements_by_xpath('//li[@class=\"pagination-active\"]/a')\n",
    "for i in next:\n",
    "    urls.append(i.get_attribute('href'))\n",
    "    \n",
    "next_page_links = driver.find_elements_by_xpath('//li[@class=\"pagination-number\"]/a')\n",
    "for i in next_page_links:\n",
    "    urls.append(i.get_attribute('href'))\n",
    "        "
   ]
  },
  {
   "cell_type": "code",
   "execution_count": 265,
   "id": "a80e71df",
   "metadata": {},
   "outputs": [
    {
     "data": {
      "text/plain": [
       "['https://www.myntra.com/shoes?f=Color%3ABlack_36454f&rf=Price%3A7168.0_14112.0_7168.0%20TO%2014112.0',\n",
       " 'https://www.myntra.com/shoes?f=Color%3ABlack_36454f&rf=Price%3A7168.0_14112.0_7168.0%20TO%2014112.0&p=2',\n",
       " 'https://www.myntra.com/shoes?f=Color%3ABlack_36454f&rf=Price%3A7168.0_14112.0_7168.0%20TO%2014112.0&p=3']"
      ]
     },
     "execution_count": 265,
     "metadata": {},
     "output_type": "execute_result"
    }
   ],
   "source": [
    "urls=urls[0:3]\n",
    "urls"
   ]
  },
  {
   "cell_type": "code",
   "execution_count": 266,
   "id": "0f8a3e78",
   "metadata": {},
   "outputs": [],
   "source": [
    "# To scrap the brand\n",
    "brand=[]\n",
    "for i in urls:\n",
    "    driver.get(i)\n",
    "    b=driver.find_elements_by_xpath('//h3[@class=\"product-brand\"]')\n",
    "    for j in b:\n",
    "        brand.append(j.text)"
   ]
  },
  {
   "cell_type": "code",
   "execution_count": 267,
   "id": "78f68a95",
   "metadata": {},
   "outputs": [
    {
     "data": {
      "text/plain": [
       "['Nike',\n",
       " 'ALDO',\n",
       " 'ALDO',\n",
       " 'Puma',\n",
       " 'Puma',\n",
       " 'ALDO',\n",
       " 'Puma',\n",
       " 'Hush Puppies',\n",
       " 'Puma',\n",
       " 'Puma',\n",
       " 'Puma',\n",
       " 'Nike',\n",
       " 'ASICS',\n",
       " 'Bugatti',\n",
       " 'Skechers',\n",
       " 'Hush Puppies',\n",
       " 'MANGO',\n",
       " 'Hush Puppies',\n",
       " 'Hush Puppies',\n",
       " 'Tommy Hilfiger',\n",
       " 'Saint G',\n",
       " 'J.FONTINI',\n",
       " 'Sole To Soul',\n",
       " 'Saint G',\n",
       " 'Puma',\n",
       " 'TRIBAN By Decathlon',\n",
       " 'Puma',\n",
       " 'Hush Puppies',\n",
       " 'Tommy Hilfiger',\n",
       " 'Bugatti',\n",
       " 'Tommy Hilfiger',\n",
       " 'Heel & Buckle London',\n",
       " 'Geox',\n",
       " 'ALDO',\n",
       " 'J.FONTINI',\n",
       " 'ALDO',\n",
       " 'ALDO',\n",
       " 'J.FONTINI',\n",
       " 'MANGO',\n",
       " 'DAVINCHI',\n",
       " 'DAVINCHI',\n",
       " 'Sole To Soul',\n",
       " 'Sole To Soul',\n",
       " 'ROSSO BRUNELLO',\n",
       " 'Sole To Soul',\n",
       " 'Geox',\n",
       " 'Bugatti',\n",
       " 'Heel & Buckle London',\n",
       " 'DAVINCHI',\n",
       " 'ROSSO BRUNELLO',\n",
       " 'ROSSO BRUNELLO',\n",
       " 'fitflop',\n",
       " 'ROSSO BRUNELLO',\n",
       " 'Cobblerz',\n",
       " 'Saint G',\n",
       " 'New Balance',\n",
       " 'Columbia',\n",
       " 'Columbia',\n",
       " 'Columbia',\n",
       " 'Cole Haan',\n",
       " 'Xtep',\n",
       " 'J.FONTINI',\n",
       " 'Saint G',\n",
       " 'Geox',\n",
       " 'Geox',\n",
       " 'Nike',\n",
       " 'Cole Haan',\n",
       " 'Cole Haan',\n",
       " 'Geox',\n",
       " 'Geox',\n",
       " 'Cole Haan',\n",
       " 'Saint G',\n",
       " 'Saint G',\n",
       " 'Saint G',\n",
       " 'J.FONTINI',\n",
       " 'ASICS',\n",
       " 'Sole To Soul',\n",
       " 'J.FONTINI',\n",
       " 'Pavers England',\n",
       " 'Saint G',\n",
       " 'Saint G',\n",
       " 'Saint G',\n",
       " 'New Balance',\n",
       " 'DAVINCHI',\n",
       " 'J.FONTINI',\n",
       " 'DAVINCHI',\n",
       " 'Saint G',\n",
       " 'Saint G',\n",
       " 'Saint G',\n",
       " 'J.FONTINI',\n",
       " 'ASICS',\n",
       " 'Saint G',\n",
       " 'Saint G',\n",
       " 'Saint G',\n",
       " 'DAVINCHI',\n",
       " 'Saint G',\n",
       " 'Saint G',\n",
       " 'Saint G',\n",
       " 'Saint G',\n",
       " 'Saint G']"
      ]
     },
     "execution_count": 267,
     "metadata": {},
     "output_type": "execute_result"
    }
   ],
   "source": [
    "brand=brand[0:100]\n",
    "brand"
   ]
  },
  {
   "cell_type": "code",
   "execution_count": 268,
   "id": "21b0d9a2",
   "metadata": {},
   "outputs": [],
   "source": [
    "# To scrap Short Shoe description\n",
    "desc=[]\n",
    "for i in urls:\n",
    "    driver.get(i)\n",
    "    d=driver.find_elements_by_xpath('//h4[@class=\"product-product\"]')\n",
    "    for j in d:\n",
    "        desc.append(j.text)"
   ]
  },
  {
   "cell_type": "code",
   "execution_count": 269,
   "id": "56423743",
   "metadata": {},
   "outputs": [
    {
     "data": {
      "text/plain": [
       "['Men Winflo 7 Running Shoes',\n",
       " 'Men Printed Sneakers',\n",
       " 'Men Leather Driving Shoes',\n",
       " 'Men Magnify Nitro Running',\n",
       " 'Electrify Nitro Running Shoes',\n",
       " 'Men Woven Design Sneakers',\n",
       " 'Eternity Nitro Running Shoes',\n",
       " 'Men Solid Leather Formal Slip-Ons',\n",
       " 'Men Jamming 2.0 Running Shoes',\n",
       " 'Men Training or Gym Shoes',\n",
       " 'Men FUSE Training Shoes',\n",
       " 'Men Air Max Dawn Sneakers',\n",
       " 'Women Running Shoes',\n",
       " 'Men Solid Leather Formal Derbys',\n",
       " 'Men Go Run Hyper Burst Running',\n",
       " 'Men Solid Leather Formal Slip-Ons',\n",
       " 'Women Solid Sneakers',\n",
       " 'Men Formal Derbys',\n",
       " 'Men Solid Formal Slip-Ons',\n",
       " 'Men Cleated Leather Sneakers',\n",
       " 'Men Mid-Top Chelsea Boots',\n",
       " 'Men Black Leather Loafers',\n",
       " 'Women Block Heeled Boots',\n",
       " 'Women Leather Block Heels',\n",
       " 'Women Velocity NITRO Runners',\n",
       " 'Unisex Training or Gym Shoes',\n",
       " 'Women Eternity NITRO Shoes',\n",
       " 'Men Solid Leather Formal Derbys',\n",
       " 'Women CLEAT Textured Sneakers',\n",
       " 'Men Textured Leather High-Top Flat Boots',\n",
       " 'Leather Sandals',\n",
       " 'Men Suede Loafers',\n",
       " 'Men Leather Driving Shoes',\n",
       " 'Wedge Sandals',\n",
       " 'Men Textured Leather Loafers',\n",
       " 'Leather Slim Heels',\n",
       " 'Wedge Sandals',\n",
       " 'Men Textured Leather Loafers',\n",
       " 'Women Heeled Leather Loafers',\n",
       " 'Men Textured Formal Leather Loafers',\n",
       " 'Men Textured Formal Leather Loafers',\n",
       " 'High-Top Block Heeled Boots',\n",
       " 'Suede High-Top Block Heeled Boots',\n",
       " 'Printed PU Kitten Sandals',\n",
       " 'High-Top Platform Heeled Boots',\n",
       " 'Women Leather Pumps',\n",
       " 'Men Solid Formal Oxfords',\n",
       " 'Men Formal Leather Derby',\n",
       " 'Solid Slip On Shoes',\n",
       " 'PU Block Pumps with Buckles',\n",
       " 'PU Block Pumps with Buckles',\n",
       " 'Embellished Leather Flatform Sandals',\n",
       " 'Textured PU Block Pumps',\n",
       " 'Men Textured Leather Formal Derbys',\n",
       " 'Leather Party Block Mules',\n",
       " 'Women Woven Running Shoes',\n",
       " 'Women REDMOND V2 TrekkingShoe',\n",
       " 'PEAKFREAK OUTDRY Trekking Shoe',\n",
       " 'Men FACET OUTDRY Trekking Shoe',\n",
       " 'Men GENERATION ZEROGRAND STITCHLITE',\n",
       " 'Men Running Shoes',\n",
       " 'Men Solid Loafers',\n",
       " 'Women Leather Mules',\n",
       " 'Women Solid Leather Pumps',\n",
       " 'Women Solid Leather Pumps',\n",
       " 'Women WINFLO 7 Running Shoes',\n",
       " 'Women Open Toe Flats',\n",
       " 'Women Sneakers',\n",
       " 'Men Leather Loafers',\n",
       " 'Women Solid Leather Ballerinas',\n",
       " 'Women Solid Leather Ballerinas',\n",
       " 'Leather Heeled Knee High Boots',\n",
       " 'Women Leather Heeled Boots',\n",
       " 'Women Leather Knee High Boots',\n",
       " 'Men Leather Formal Loafers',\n",
       " 'Men Colourblocked PU Sneakers',\n",
       " 'Platform Peep Toes with Buckles',\n",
       " 'Men Leather Formal Loafers',\n",
       " 'Men Leather Driving Shoes',\n",
       " 'Leather Wedge Heeled Boots with Buckles',\n",
       " 'Leather High-Top Block Heeled Boots',\n",
       " 'Leather Kitten Heeled Boots',\n",
       " 'Men Fuelcell Running Shoes',\n",
       " 'Ustraa black',\n",
       " 'Men Solid Leather Formal Loafers',\n",
       " 'Men Formal Leather Slip-Ons',\n",
       " 'Printed Flatform Heeled Boots with Buckles',\n",
       " 'Leather Block Heeled Boots with Bows',\n",
       " 'Leather Platform Heeled Boots',\n",
       " 'Men Textured Leather Formal Loafers',\n",
       " 'Men Gel-Pulse 12 Running Shoe',\n",
       " 'Suede Party High-Top Block Heeled Boots',\n",
       " 'Leather High-Top Heeled Boots',\n",
       " 'Suede High-Top Flatform Heeled Boots',\n",
       " 'Men Solid Leather Formal Derbys',\n",
       " 'Leather Boots with Buckles',\n",
       " 'High-Top Block Heeled Boots',\n",
       " 'Embellished Leather Block Heeled Boots',\n",
       " 'Women High-Top Heeled Boots',\n",
       " 'Leather Block Heeled Boots with Buckles']"
      ]
     },
     "execution_count": 269,
     "metadata": {},
     "output_type": "execute_result"
    }
   ],
   "source": [
    "desc=desc[0:100]\n",
    "desc"
   ]
  },
  {
   "cell_type": "code",
   "execution_count": 270,
   "id": "b136163e",
   "metadata": {},
   "outputs": [],
   "source": [
    "# To scrap price of the shoe\n",
    "price=[]\n",
    "for i in urls:\n",
    "    driver.get(i)\n",
    "    p=driver.find_elements_by_xpath('//div[@class=\"product-price\"]/span[1]')\n",
    "    for j in p:\n",
    "        price.append(j.text)"
   ]
  },
  {
   "cell_type": "code",
   "execution_count": 271,
   "id": "d282883a",
   "metadata": {},
   "outputs": [
    {
     "data": {
      "text/plain": [
       "['Rs. 7995',\n",
       " 'Rs. 9099Rs. 12999',\n",
       " 'Rs. 12999',\n",
       " 'Rs. 9099Rs. 12999',\n",
       " 'Rs. 9999',\n",
       " 'Rs. 13999',\n",
       " 'Rs. 12999',\n",
       " 'Rs. 7649Rs. 8999',\n",
       " 'Rs. 12999',\n",
       " 'Rs. 7999',\n",
       " 'Rs. 7999',\n",
       " 'Rs. 10995',\n",
       " 'Rs. 7999',\n",
       " 'Rs. 9499',\n",
       " 'Rs. 7224Rs. 8499',\n",
       " 'Rs. 8499Rs. 9999',\n",
       " 'Rs. 8990',\n",
       " 'Rs. 8499Rs. 9999',\n",
       " 'Rs. 8499Rs. 9999',\n",
       " 'Rs. 7739Rs. 8599',\n",
       " 'Rs. 10500Rs. 10900',\n",
       " 'Rs. 8490',\n",
       " 'Rs. 8900',\n",
       " 'Rs. 9500',\n",
       " 'Rs. 8249Rs. 10999',\n",
       " 'Rs. 8579Rs. 10999',\n",
       " 'Rs. 9099Rs. 12999',\n",
       " 'Rs. 8499Rs. 9999',\n",
       " 'Rs. 7739Rs. 8599',\n",
       " 'Rs. 8399Rs. 11999',\n",
       " 'Rs. 7599',\n",
       " 'Rs. 12990',\n",
       " 'Rs. 9499',\n",
       " 'Rs. 7999',\n",
       " 'Rs. 8490',\n",
       " 'Rs. 8399Rs. 11999',\n",
       " 'Rs. 7999',\n",
       " 'Rs. 7990',\n",
       " 'Rs. 7990',\n",
       " 'Rs. 8990',\n",
       " 'Rs. 8990',\n",
       " 'Rs. 7900',\n",
       " 'Rs. 9500',\n",
       " 'Rs. 8499',\n",
       " 'Rs. 8900',\n",
       " 'Rs. 8999',\n",
       " 'Rs. 8999',\n",
       " 'Rs. 7990',\n",
       " 'Rs. 7990',\n",
       " 'Rs. 7999',\n",
       " 'Rs. 7999',\n",
       " 'Rs. 8299',\n",
       " 'Rs. 7999',\n",
       " 'Rs. 8999Rs. 9999',\n",
       " 'Rs. 7380Rs. 8200',\n",
       " 'Rs. 7799Rs. 12999',\n",
       " 'Rs. 7999',\n",
       " 'Rs. 9999',\n",
       " 'Rs. 12999',\n",
       " 'Rs. 11999',\n",
       " 'Rs. 7699',\n",
       " 'Rs. 8990',\n",
       " 'Rs. 7216Rs. 8200',\n",
       " 'Rs. 7999',\n",
       " 'Rs. 10990',\n",
       " 'Rs. 7195Rs. 7995',\n",
       " 'Rs. 11999',\n",
       " 'Rs. 12999',\n",
       " 'Rs. 9999',\n",
       " 'Rs. 8999',\n",
       " 'Rs. 13999',\n",
       " 'Rs. 12325Rs. 14500',\n",
       " 'Rs. 14025Rs. 16500',\n",
       " 'Rs. 11815Rs. 13900',\n",
       " 'Rs. 7490',\n",
       " 'Rs. 9999',\n",
       " 'Rs. 7690',\n",
       " 'Rs. 7490',\n",
       " 'Rs. 7499',\n",
       " 'Rs. 12665Rs. 14900',\n",
       " 'Rs. 14025Rs. 16500',\n",
       " 'Rs. 9900',\n",
       " 'Rs. 7799Rs. 11999',\n",
       " 'Rs. 8990',\n",
       " 'Rs. 9990',\n",
       " 'Rs. 8990',\n",
       " 'Rs. 8415Rs. 9900',\n",
       " 'Rs. 12510Rs. 13900',\n",
       " 'Rs. 9810Rs. 10900',\n",
       " 'Rs. 8990',\n",
       " 'Rs. 7199Rs. 7999',\n",
       " 'Rs. 8925Rs. 10500',\n",
       " 'Rs. 10625Rs. 12500',\n",
       " 'Rs. 11475Rs. 13500',\n",
       " 'Rs. 9990',\n",
       " 'Rs. 8925Rs. 10500',\n",
       " 'Rs. 10625Rs. 12500',\n",
       " 'Rs. 7869Rs. 12900',\n",
       " 'Rs. 12093Rs. 13900',\n",
       " 'Rs. 9810Rs. 10900']"
      ]
     },
     "execution_count": 271,
     "metadata": {},
     "output_type": "execute_result"
    }
   ],
   "source": [
    "price=price[0:100]\n",
    "price"
   ]
  },
  {
   "cell_type": "code",
   "execution_count": 272,
   "id": "c3867065",
   "metadata": {},
   "outputs": [
    {
     "name": "stdout",
     "output_type": "stream",
     "text": [
      "100 100 100\n"
     ]
    }
   ],
   "source": [
    "print(len(brand),len(desc),len(price))"
   ]
  },
  {
   "cell_type": "code",
   "execution_count": 273,
   "id": "8abe3627",
   "metadata": {},
   "outputs": [
    {
     "data": {
      "text/html": [
       "<div>\n",
       "<style scoped>\n",
       "    .dataframe tbody tr th:only-of-type {\n",
       "        vertical-align: middle;\n",
       "    }\n",
       "\n",
       "    .dataframe tbody tr th {\n",
       "        vertical-align: top;\n",
       "    }\n",
       "\n",
       "    .dataframe thead th {\n",
       "        text-align: right;\n",
       "    }\n",
       "</style>\n",
       "<table border=\"1\" class=\"dataframe\">\n",
       "  <thead>\n",
       "    <tr style=\"text-align: right;\">\n",
       "      <th></th>\n",
       "      <th>Brand</th>\n",
       "      <th>Description</th>\n",
       "      <th>Price</th>\n",
       "    </tr>\n",
       "  </thead>\n",
       "  <tbody>\n",
       "    <tr>\n",
       "      <th>0</th>\n",
       "      <td>Nike</td>\n",
       "      <td>Men Winflo 7 Running Shoes</td>\n",
       "      <td>Rs. 7995</td>\n",
       "    </tr>\n",
       "    <tr>\n",
       "      <th>1</th>\n",
       "      <td>ALDO</td>\n",
       "      <td>Men Printed Sneakers</td>\n",
       "      <td>Rs. 9099Rs. 12999</td>\n",
       "    </tr>\n",
       "    <tr>\n",
       "      <th>2</th>\n",
       "      <td>ALDO</td>\n",
       "      <td>Men Leather Driving Shoes</td>\n",
       "      <td>Rs. 12999</td>\n",
       "    </tr>\n",
       "    <tr>\n",
       "      <th>3</th>\n",
       "      <td>Puma</td>\n",
       "      <td>Men Magnify Nitro Running</td>\n",
       "      <td>Rs. 9099Rs. 12999</td>\n",
       "    </tr>\n",
       "    <tr>\n",
       "      <th>4</th>\n",
       "      <td>Puma</td>\n",
       "      <td>Electrify Nitro Running Shoes</td>\n",
       "      <td>Rs. 9999</td>\n",
       "    </tr>\n",
       "    <tr>\n",
       "      <th>...</th>\n",
       "      <td>...</td>\n",
       "      <td>...</td>\n",
       "      <td>...</td>\n",
       "    </tr>\n",
       "    <tr>\n",
       "      <th>95</th>\n",
       "      <td>Saint G</td>\n",
       "      <td>Leather Boots with Buckles</td>\n",
       "      <td>Rs. 8925Rs. 10500</td>\n",
       "    </tr>\n",
       "    <tr>\n",
       "      <th>96</th>\n",
       "      <td>Saint G</td>\n",
       "      <td>High-Top Block Heeled Boots</td>\n",
       "      <td>Rs. 10625Rs. 12500</td>\n",
       "    </tr>\n",
       "    <tr>\n",
       "      <th>97</th>\n",
       "      <td>Saint G</td>\n",
       "      <td>Embellished Leather Block Heeled Boots</td>\n",
       "      <td>Rs. 7869Rs. 12900</td>\n",
       "    </tr>\n",
       "    <tr>\n",
       "      <th>98</th>\n",
       "      <td>Saint G</td>\n",
       "      <td>Women High-Top Heeled Boots</td>\n",
       "      <td>Rs. 12093Rs. 13900</td>\n",
       "    </tr>\n",
       "    <tr>\n",
       "      <th>99</th>\n",
       "      <td>Saint G</td>\n",
       "      <td>Leather Block Heeled Boots with Buckles</td>\n",
       "      <td>Rs. 9810Rs. 10900</td>\n",
       "    </tr>\n",
       "  </tbody>\n",
       "</table>\n",
       "<p>100 rows × 3 columns</p>\n",
       "</div>"
      ],
      "text/plain": [
       "      Brand                              Description               Price\n",
       "0      Nike               Men Winflo 7 Running Shoes            Rs. 7995\n",
       "1      ALDO                     Men Printed Sneakers   Rs. 9099Rs. 12999\n",
       "2      ALDO                Men Leather Driving Shoes           Rs. 12999\n",
       "3      Puma                Men Magnify Nitro Running   Rs. 9099Rs. 12999\n",
       "4      Puma            Electrify Nitro Running Shoes            Rs. 9999\n",
       "..      ...                                      ...                 ...\n",
       "95  Saint G               Leather Boots with Buckles   Rs. 8925Rs. 10500\n",
       "96  Saint G              High-Top Block Heeled Boots  Rs. 10625Rs. 12500\n",
       "97  Saint G   Embellished Leather Block Heeled Boots   Rs. 7869Rs. 12900\n",
       "98  Saint G              Women High-Top Heeled Boots  Rs. 12093Rs. 13900\n",
       "99  Saint G  Leather Block Heeled Boots with Buckles   Rs. 9810Rs. 10900\n",
       "\n",
       "[100 rows x 3 columns]"
      ]
     },
     "execution_count": 273,
     "metadata": {},
     "output_type": "execute_result"
    }
   ],
   "source": [
    "df=pd.DataFrame({'Brand':brand,\n",
    "                'Description':desc,\n",
    "                'Price':price})\n",
    "df"
   ]
  },
  {
   "cell_type": "markdown",
   "id": "ad3bd32a",
   "metadata": {},
   "source": [
    "# QUESTION 8"
   ]
  },
  {
   "cell_type": "code",
   "execution_count": 240,
   "id": "e465a415",
   "metadata": {},
   "outputs": [],
   "source": [
    "driver=webdriver.Chrome('chromedriver.exe')"
   ]
  },
  {
   "cell_type": "code",
   "execution_count": 241,
   "id": "f97c322a",
   "metadata": {},
   "outputs": [],
   "source": [
    "url='https://www.amazon.in/'\n",
    "driver.get(url)"
   ]
  },
  {
   "cell_type": "code",
   "execution_count": 242,
   "id": "26751c13",
   "metadata": {},
   "outputs": [
    {
     "data": {
      "text/plain": [
       "<selenium.webdriver.remote.webelement.WebElement (session=\"21d21ddd18e11b3f7497172d5ffe2061\", element=\"d7b526a8-1fbb-479b-90d2-72e1f88db124\")>"
      ]
     },
     "execution_count": 242,
     "metadata": {},
     "output_type": "execute_result"
    }
   ],
   "source": [
    "# To get the search field\n",
    "s=driver.find_element_by_xpath('//*[@id=\"twotabsearchtextbox\"]')\n",
    "s"
   ]
  },
  {
   "cell_type": "code",
   "execution_count": 243,
   "id": "9b6fb47f",
   "metadata": {},
   "outputs": [],
   "source": [
    "s.send_keys('Laptop')"
   ]
  },
  {
   "cell_type": "code",
   "execution_count": 244,
   "id": "0a3a7d6c",
   "metadata": {},
   "outputs": [
    {
     "data": {
      "text/plain": [
       "<selenium.webdriver.remote.webelement.WebElement (session=\"21d21ddd18e11b3f7497172d5ffe2061\", element=\"ac1ebd3f-4064-42c7-96b0-a76f60415642\")>"
      ]
     },
     "execution_count": 244,
     "metadata": {},
     "output_type": "execute_result"
    }
   ],
   "source": [
    "# To find the search button\n",
    "btn=driver.find_element_by_xpath('//*[@id=\"nav-search-submit-button\"]')\n",
    "btn"
   ]
  },
  {
   "cell_type": "code",
   "execution_count": 245,
   "id": "f82cd14e",
   "metadata": {},
   "outputs": [],
   "source": [
    "btn.click()"
   ]
  },
  {
   "cell_type": "code",
   "execution_count": 246,
   "id": "4e130ed5",
   "metadata": {},
   "outputs": [],
   "source": [
    "# To select the intel core 7 filter\n",
    "filter1=driver.find_element_by_xpath('//*[@id=\"p_n_feature_thirteen_browse-bin/12598163031\"]/span/a/div/label/i')\n",
    "filter1.click()"
   ]
  },
  {
   "cell_type": "code",
   "execution_count": 247,
   "id": "b543c1a6",
   "metadata": {},
   "outputs": [
    {
     "data": {
      "text/plain": [
       "[<selenium.webdriver.remote.webelement.WebElement (session=\"21d21ddd18e11b3f7497172d5ffe2061\", element=\"3fcda88b-d774-469f-98a9-63da57b56a07\")>,\n",
       " <selenium.webdriver.remote.webelement.WebElement (session=\"21d21ddd18e11b3f7497172d5ffe2061\", element=\"ea4006c3-afdd-45aa-9516-5acd6ab62516\")>,\n",
       " <selenium.webdriver.remote.webelement.WebElement (session=\"21d21ddd18e11b3f7497172d5ffe2061\", element=\"60afcfe8-9e80-4c49-90c1-aa9c944575a0\")>,\n",
       " <selenium.webdriver.remote.webelement.WebElement (session=\"21d21ddd18e11b3f7497172d5ffe2061\", element=\"278c099d-b3a9-4509-82f1-82bf119a64df\")>,\n",
       " <selenium.webdriver.remote.webelement.WebElement (session=\"21d21ddd18e11b3f7497172d5ffe2061\", element=\"34ac4679-1be1-45fe-a216-57d37942928c\")>,\n",
       " <selenium.webdriver.remote.webelement.WebElement (session=\"21d21ddd18e11b3f7497172d5ffe2061\", element=\"286ce565-0890-4236-8f36-74f192a1c29a\")>,\n",
       " <selenium.webdriver.remote.webelement.WebElement (session=\"21d21ddd18e11b3f7497172d5ffe2061\", element=\"ab13d4ca-61f8-4aa7-9130-4af0ed0010a1\")>,\n",
       " <selenium.webdriver.remote.webelement.WebElement (session=\"21d21ddd18e11b3f7497172d5ffe2061\", element=\"1c5d0b36-f074-4664-bd3a-68e1a2f7c722\")>,\n",
       " <selenium.webdriver.remote.webelement.WebElement (session=\"21d21ddd18e11b3f7497172d5ffe2061\", element=\"b3e85619-e95c-4b7b-93e1-9c6a09bce89b\")>,\n",
       " <selenium.webdriver.remote.webelement.WebElement (session=\"21d21ddd18e11b3f7497172d5ffe2061\", element=\"a92c0596-b67c-4137-928b-1bb4f7ea670c\")>,\n",
       " <selenium.webdriver.remote.webelement.WebElement (session=\"21d21ddd18e11b3f7497172d5ffe2061\", element=\"95eb51cc-11ef-483f-9a0f-d47392e92153\")>,\n",
       " <selenium.webdriver.remote.webelement.WebElement (session=\"21d21ddd18e11b3f7497172d5ffe2061\", element=\"9b64c1fd-4204-47b6-bcf6-230e7d246c11\")>,\n",
       " <selenium.webdriver.remote.webelement.WebElement (session=\"21d21ddd18e11b3f7497172d5ffe2061\", element=\"f606f04a-2ceb-49de-b4f9-c28476f18ac6\")>,\n",
       " <selenium.webdriver.remote.webelement.WebElement (session=\"21d21ddd18e11b3f7497172d5ffe2061\", element=\"789f5ca6-f326-42b5-bc50-e90b2b307cb8\")>,\n",
       " <selenium.webdriver.remote.webelement.WebElement (session=\"21d21ddd18e11b3f7497172d5ffe2061\", element=\"4fa22fee-173b-40d6-b4f0-9812643bdaf2\")>,\n",
       " <selenium.webdriver.remote.webelement.WebElement (session=\"21d21ddd18e11b3f7497172d5ffe2061\", element=\"4ae0753a-4107-40cd-a78d-ee82b68d6291\")>,\n",
       " <selenium.webdriver.remote.webelement.WebElement (session=\"21d21ddd18e11b3f7497172d5ffe2061\", element=\"8e0a6700-4f6a-4de6-87bc-acde7e8377e4\")>,\n",
       " <selenium.webdriver.remote.webelement.WebElement (session=\"21d21ddd18e11b3f7497172d5ffe2061\", element=\"d67f439a-3fb6-49db-bc35-ced0b9d22144\")>,\n",
       " <selenium.webdriver.remote.webelement.WebElement (session=\"21d21ddd18e11b3f7497172d5ffe2061\", element=\"4eb3866b-e55a-4989-b07f-ce1e6f807b3b\")>,\n",
       " <selenium.webdriver.remote.webelement.WebElement (session=\"21d21ddd18e11b3f7497172d5ffe2061\", element=\"96c5a980-0514-43f6-8564-fa56d7e5b057\")>,\n",
       " <selenium.webdriver.remote.webelement.WebElement (session=\"21d21ddd18e11b3f7497172d5ffe2061\", element=\"2dc583db-bcf5-4f35-9ab3-44dafc748ef2\")>,\n",
       " <selenium.webdriver.remote.webelement.WebElement (session=\"21d21ddd18e11b3f7497172d5ffe2061\", element=\"3ced3311-3138-4374-a8e3-5fa8d0941ed5\")>,\n",
       " <selenium.webdriver.remote.webelement.WebElement (session=\"21d21ddd18e11b3f7497172d5ffe2061\", element=\"149541f7-bdfd-4982-9c1c-655931f09749\")>,\n",
       " <selenium.webdriver.remote.webelement.WebElement (session=\"21d21ddd18e11b3f7497172d5ffe2061\", element=\"48c6dd19-ee45-4cbe-896d-918bc04bc437\")>,\n",
       " <selenium.webdriver.remote.webelement.WebElement (session=\"21d21ddd18e11b3f7497172d5ffe2061\", element=\"1a19d29b-9857-43fb-b8d8-473b59012201\")>,\n",
       " <selenium.webdriver.remote.webelement.WebElement (session=\"21d21ddd18e11b3f7497172d5ffe2061\", element=\"cba58a18-22c7-4ce7-8aaa-5d171c6f93ba\")>,\n",
       " <selenium.webdriver.remote.webelement.WebElement (session=\"21d21ddd18e11b3f7497172d5ffe2061\", element=\"8f101eb9-6d9f-4ac2-928a-28f2ba5a65d2\")>,\n",
       " <selenium.webdriver.remote.webelement.WebElement (session=\"21d21ddd18e11b3f7497172d5ffe2061\", element=\"3ce80e7f-2ed2-48ba-b98e-a1f005382e05\")>,\n",
       " <selenium.webdriver.remote.webelement.WebElement (session=\"21d21ddd18e11b3f7497172d5ffe2061\", element=\"d37e52f5-41b5-4628-9597-bc9defa1eb85\")>,\n",
       " <selenium.webdriver.remote.webelement.WebElement (session=\"21d21ddd18e11b3f7497172d5ffe2061\", element=\"46d25d3e-f0a2-45d6-9319-d15f8f21471a\")>]"
      ]
     },
     "execution_count": 247,
     "metadata": {},
     "output_type": "execute_result"
    }
   ],
   "source": [
    "# To scrap the title\n",
    "t=driver.find_elements_by_xpath('//span[@class=\"a-size-medium a-color-base a-text-normal\"]')\n",
    "t"
   ]
  },
  {
   "cell_type": "code",
   "execution_count": 248,
   "id": "83bd92e2",
   "metadata": {},
   "outputs": [
    {
     "data": {
      "text/plain": [
       "['LG Gram 16 Ultra-Light Intel Evo 11th Gen Core i7 16 inches Laptop (16 GB RAM, 512 GB SSD, Windows 10 Home, Iris Xe Graphics, Thunderbolt 4, USC -C x 2 (with Power), 1.19 kg, 16Z90P, Black)',\n",
       " 'Fujitsu UH-X 11th Gen Intel Core i7 13.3” FHD IPS 400Nits Thin & Light Laptop(16GB/512GB SSD/Windows 11/Office 2021/Iris Xe Graphics/Backlit Kb/Fingerprint Reader/2Yr Warranty/Black/878gms),4ZR1F38024',\n",
       " 'ASUS VivoBook 14 (2021), 14-inch (35.56 cms) FHD, Intel Core i7-1065G7 10th Gen, Thin and Light Laptop (16GB/512GB SSD/Integrated Graphics/Office 2021/Windows 11/Silver/1.6 Kg), X415JA-EK701WS',\n",
       " 'Mi Notebook Ultra 3.2K Resolution Display Intel Core i7-11370H 11th Gen 15.6-inch(39.62 cm) Thin and Light Laptop (16GB/512GB SSD/Iris Xe Graphic/Win 10/MS Office/Backlit KB/Fingerprint Sensor/1.7Kg)',\n",
       " 'LG Gram 16 inches Intel Evo 11th Gen Core i7 Ultra-Light Laptop (16 GB RAM, 512 GB SSD, New Windows 11 Home Preload, Iris Xe Graphics, USC -C x 2 (with Power), 1.19 kg, 16Z90P-G.AH85A2, Black)',\n",
       " 'LG Gram Intel Evo 11th Gen Core i7 17 inches Ultra-Light Laptop (16 GB RAM, 512 GB SSD, New Windows 11 Home Preload, Iris Xe Graphics, USC -C x 2 (with Power), 1.35 kg, 17Z90P-G.AH85A2, Black)',\n",
       " 'Lenovo ThinkBook Yoga 14s Intel Core i7 11th Gen 14\"(35.56cm) FHD IPS 300 nits 100% sRGB Dolby Vision 2-in-1 Touchscreen Laptop (16GB RAM/512GB SSD/Windows 10/MS Office/Active Pen/1.50 kg) 20WEA01EIH',\n",
       " 'Lenovo ThinkBook 13s Intel 11th Gen Core i7 13.3\"(33.78 cm) WQXGA IPS 300 nits 100% sRGB Dolby Vision Thin and Light Laptop (16GB/512GB SSD/Windows 10/MS Office/FPR/Mineral Grey/1.26 Kg), 20V9A05FIH',\n",
       " 'HP Pavilion 11th Gen Intel Core i7 15.6 inches FHD Gaming Laptop (16GB RAM/512GB SSD/144Hz/4GB NVIDIA GeForce GTX 1650 Graphics/Windows 10 Home/MS Office/Shadow Black/2.28 Kg), 15-dk2075tx',\n",
       " 'ASUS ZenBook 13 OLED (2021) Intel Core i7-1165G7 11th Gen 13.3\" (33.78 cms) FHD Thin and Light Laptop (16GB/512GB SSD/Windows 10/Office 2019/Intel Iris Xᵉ Graphics/Pine Grey/1.14 kg), UX325EA-KG722TS',\n",
       " 'ASUS VivoBook K15 OLED (2021), 15.6-inch (39.62 cms) FHD OLED, Intel Core i7-1165G7 11th Gen, Thin and Light Laptop (16GB/512GB SSD/Iris Xe Graphics/Office 2021/Windows 11/Silver/1.8 Kg) K513EA-L712WS',\n",
       " 'Microsoft Surface Studio 14.4 inches Touchscreen Intel ® Core i7 Laptop (32GB Memory, Windows 11 Home, 2TB SSD - Platinum, 2.664Kg)',\n",
       " 'HP Pavilion 11th Gen Intel Core i7 Processor 15.6 inches FHD Gaming Laptop (16GB/512GB SSD/Windows 11/NVIDIA RTX 3050 Graphics/MS Office/ Shadow Black & Ultra Violet/2.23Kg), 15-dk2096TX',\n",
       " 'ASUS TUF Gaming F15 (2021), 15.6\" (39.62 cms) FHD 144Hz, Intel Core i7-11600H 11th Gen, 4GB RTX 3050 Graphics, Gaming Laptop (16GB/512GB SSD/Windows 10/Office 2019/Gray/2.3 Kg), FX566HCB-HN299TS',\n",
       " 'Acer Predator Helios 300 11th Gen Intel Core i9-11900H 15.6 inches FHD IPS Gaming Laptop (32GB/1TB SSD/Windows 11 Home/8GB Graphics/NVIDIA GeForce RTX 3070/300 Hz, Black, 2.3Kg) PH315-54',\n",
       " 'ASUS TUF Gaming F15 (2021), 15.6\" (39.62 cms) FHD 144Hz, Intel Core i7-11600H 11th Gen, 4GB RTX 3050 Graphics, Gaming Laptop (16GB/512GB SSD/Windows 10/Office 2019/Gray/2.3 Kg), FX566HCB-HN299TS',\n",
       " 'HP Pavilion x360 11th Gen Intel Core i7 14 inches FHD, IPS, Convertible Laptop (16 GB RAM/512GB SSD, B&O/Win 11 Home/Backlit keyboard/FPR/ Alexa-Built in/MS Office/Natural Silver/1.52 Kg) -14-dy1013TU',\n",
       " 'Lenovo ThinkBook 15 Intel 11th Gen Core i7 15.6\"(39.62 cm)FHD Thin and Light Laptop (16GB/512GB SSD/Windows 11 Home/MS Office H&S 2021/Iris® Xe Graphics/Backlit/Mineral Grey/1.7 Kg) 20VE00W4IH',\n",
       " '(Renewed) Acer Nitro 5 11th Gen Intel Core i5-11400H 15.6\" (39.62cms) FHD 144Hz Gaming Laptop (8 GB/512GB SSD/Win 10/4 GB Graphics/NVIDIA GeForce GTX 1650/Shale Black, 2.2 kg/RGB Backlit Keyboard) AN515-57',\n",
       " 'Dell 14 (2021) i7-1195G7 2in1 Touch Screen Laptop, 16GB, 512Gb SSD, Win 11 + MSO\\'21, 14\" (35.56 cms) FHD, Platinum Silver Color, FPR + Backlit KB & Active Pen (Inspiron 5410, D560629WIN9S)',\n",
       " 'Lenovo IdeaPad Flex 5 11th Gen Intel Core i7 14\" FHD 2-in-1 Convertible Laptop (16 GB/512GB SDD/Windows 11/MS Office 2021/Backlit Keyboard /Graphite Grey/1.5Kg), 82HS018XIN',\n",
       " 'Dell 15 (2021) i7-11390H, 16GB, 1TB SSD, Win 11 + MS Office\\'21, NVIDIA MX450 2GB, 15.6\" (39.62 cms) FHD Display, Silver Color, FPR + Backlit KB (Inspiron 5518, D560636WIN9S)',\n",
       " '(Renewed) HP Elitebook 840 G4 Notebook PC Intel i7-7500U, 8GB RAM, 256GB SSD, Win10 Pro-64, 14-inch Touch screen Full HD.',\n",
       " 'MSI Katana GF66 Gaming, Intel i7-11800H, 15.6\" FHD IPS-Level 144Hz Panel Laptop (16GB/512GB NVMe SSD/Windows 10 Home/Nvidia RTX3050Ti 4GB GDDR6/Black/2.25Kg), 11UD-476IN',\n",
       " 'HP Pavilion 14, 11th Gen Intel Core i7-16GB RAM/1TB SSD 14 inch(35.6 cm) Laptop/Intel Iris Xe Graphics/Backlit Keyboard/Alexa/B&O Audio/Fast Charge/FPR/Win 11/MS Office, 14-dv1029TU',\n",
       " '(Renewed) Lenovo Intel 5th Gen Core i7 14 Inch(35.56 cms) 1366 x 768 HD Laptop (16GB RAM /1TB SSD/Windows 10 Pro/MS Office/ Intel HD graphics,Black,2.0kg) Lenovo ThinkPad T450',\n",
       " 'Samsung Galaxy Book2 Pro 360 Intel 12th Gen i7 EvoTM  13.3 inch Touchscreen 2-in-1 AMOLED Thin & Light Laptop (16 GB/512 GB SSD/Windows 11/MS Office /Silver/1.04Kg), NP930QED-KB2IN',\n",
       " '(Renewed) HP 840g3 Elitebook 14 Inch Screen Laptop (6th Gen Intel Core i7 - 6600u /4 GB/180 GB SSD/Windows 10 Pro), Black',\n",
       " 'LG Gram Intel Evo 11th Gen Core i7 17 inches Ultra-Light Laptop (16 GB RAM, 512 GB SSD, New Windows 11 Home Preload, Iris Xe Graphics, USC -C x 2 (with Power), 1.35 kg, 17Z90P-G.AH85A2, Black)',\n",
       " 'Dell G15 5511 Intel i7-11800H Gaming Laptop,16GB DDR4,512GB SSD, Win 11+MSO\\'21, NVIDIA RTX 3060 6GB GDDR6,15.6\" (39.62cm) FHD AG 300 nits 165Hz, Backlit KB RGB, Black (D560670WIN9B), 2.6kg']"
      ]
     },
     "execution_count": 248,
     "metadata": {},
     "output_type": "execute_result"
    }
   ],
   "source": [
    "title=[]\n",
    "for i in t:\n",
    "    title.append(i.text)\n",
    "title"
   ]
  },
  {
   "cell_type": "code",
   "execution_count": 249,
   "id": "815c3dbc",
   "metadata": {},
   "outputs": [
    {
     "data": {
      "text/plain": [
       "['LG Gram 16 Ultra-Light Intel Evo 11th Gen Core i7 16 inches Laptop (16 GB RAM, 512 GB SSD, Windows 10 Home, Iris Xe Graphics, Thunderbolt 4, USC -C x 2 (with Power), 1.19 kg, 16Z90P, Black)',\n",
       " 'Fujitsu UH-X 11th Gen Intel Core i7 13.3” FHD IPS 400Nits Thin & Light Laptop(16GB/512GB SSD/Windows 11/Office 2021/Iris Xe Graphics/Backlit Kb/Fingerprint Reader/2Yr Warranty/Black/878gms),4ZR1F38024',\n",
       " 'ASUS VivoBook 14 (2021), 14-inch (35.56 cms) FHD, Intel Core i7-1065G7 10th Gen, Thin and Light Laptop (16GB/512GB SSD/Integrated Graphics/Office 2021/Windows 11/Silver/1.6 Kg), X415JA-EK701WS',\n",
       " 'Mi Notebook Ultra 3.2K Resolution Display Intel Core i7-11370H 11th Gen 15.6-inch(39.62 cm) Thin and Light Laptop (16GB/512GB SSD/Iris Xe Graphic/Win 10/MS Office/Backlit KB/Fingerprint Sensor/1.7Kg)',\n",
       " 'LG Gram 16 inches Intel Evo 11th Gen Core i7 Ultra-Light Laptop (16 GB RAM, 512 GB SSD, New Windows 11 Home Preload, Iris Xe Graphics, USC -C x 2 (with Power), 1.19 kg, 16Z90P-G.AH85A2, Black)',\n",
       " 'LG Gram Intel Evo 11th Gen Core i7 17 inches Ultra-Light Laptop (16 GB RAM, 512 GB SSD, New Windows 11 Home Preload, Iris Xe Graphics, USC -C x 2 (with Power), 1.35 kg, 17Z90P-G.AH85A2, Black)',\n",
       " 'Lenovo ThinkBook Yoga 14s Intel Core i7 11th Gen 14\"(35.56cm) FHD IPS 300 nits 100% sRGB Dolby Vision 2-in-1 Touchscreen Laptop (16GB RAM/512GB SSD/Windows 10/MS Office/Active Pen/1.50 kg) 20WEA01EIH',\n",
       " 'Lenovo ThinkBook 13s Intel 11th Gen Core i7 13.3\"(33.78 cm) WQXGA IPS 300 nits 100% sRGB Dolby Vision Thin and Light Laptop (16GB/512GB SSD/Windows 10/MS Office/FPR/Mineral Grey/1.26 Kg), 20V9A05FIH',\n",
       " 'HP Pavilion 11th Gen Intel Core i7 15.6 inches FHD Gaming Laptop (16GB RAM/512GB SSD/144Hz/4GB NVIDIA GeForce GTX 1650 Graphics/Windows 10 Home/MS Office/Shadow Black/2.28 Kg), 15-dk2075tx',\n",
       " 'ASUS ZenBook 13 OLED (2021) Intel Core i7-1165G7 11th Gen 13.3\" (33.78 cms) FHD Thin and Light Laptop (16GB/512GB SSD/Windows 10/Office 2019/Intel Iris Xᵉ Graphics/Pine Grey/1.14 kg), UX325EA-KG722TS']"
      ]
     },
     "execution_count": 249,
     "metadata": {},
     "output_type": "execute_result"
    }
   ],
   "source": [
    "title=title[0:10]\n",
    "title"
   ]
  },
  {
   "cell_type": "code",
   "execution_count": 250,
   "id": "78fbf5b0",
   "metadata": {},
   "outputs": [
    {
     "data": {
      "text/plain": [
       "[<selenium.webdriver.remote.webelement.WebElement (session=\"21d21ddd18e11b3f7497172d5ffe2061\", element=\"54638cbe-125b-484b-bca2-c496da646044\")>,\n",
       " <selenium.webdriver.remote.webelement.WebElement (session=\"21d21ddd18e11b3f7497172d5ffe2061\", element=\"89c86005-3f9e-47ea-a490-d2ced37a353e\")>,\n",
       " <selenium.webdriver.remote.webelement.WebElement (session=\"21d21ddd18e11b3f7497172d5ffe2061\", element=\"a588975d-c5a7-4874-848a-02a8e1b1cede\")>,\n",
       " <selenium.webdriver.remote.webelement.WebElement (session=\"21d21ddd18e11b3f7497172d5ffe2061\", element=\"3c2656da-719d-4df9-962e-20eddf6fa12a\")>,\n",
       " <selenium.webdriver.remote.webelement.WebElement (session=\"21d21ddd18e11b3f7497172d5ffe2061\", element=\"f617fde9-ec6e-4eca-8685-40a11416826b\")>,\n",
       " <selenium.webdriver.remote.webelement.WebElement (session=\"21d21ddd18e11b3f7497172d5ffe2061\", element=\"e7f4c7e3-42ce-4aec-abda-a36528e87f5f\")>,\n",
       " <selenium.webdriver.remote.webelement.WebElement (session=\"21d21ddd18e11b3f7497172d5ffe2061\", element=\"8666a256-3f9c-40db-b49a-8237fdef8817\")>,\n",
       " <selenium.webdriver.remote.webelement.WebElement (session=\"21d21ddd18e11b3f7497172d5ffe2061\", element=\"16f2120f-558f-48ff-9fc9-c4184ee2baf4\")>,\n",
       " <selenium.webdriver.remote.webelement.WebElement (session=\"21d21ddd18e11b3f7497172d5ffe2061\", element=\"515cf274-7cb7-4c0b-a080-79a3623bc50f\")>,\n",
       " <selenium.webdriver.remote.webelement.WebElement (session=\"21d21ddd18e11b3f7497172d5ffe2061\", element=\"0864a952-a0e4-40e1-9507-ccb3f0431d98\")>,\n",
       " <selenium.webdriver.remote.webelement.WebElement (session=\"21d21ddd18e11b3f7497172d5ffe2061\", element=\"5aca4df7-0d30-4e9d-8a7c-9eb1a7199a01\")>,\n",
       " <selenium.webdriver.remote.webelement.WebElement (session=\"21d21ddd18e11b3f7497172d5ffe2061\", element=\"19327be8-c8ba-4f7d-83c7-51f8aa229dfe\")>,\n",
       " <selenium.webdriver.remote.webelement.WebElement (session=\"21d21ddd18e11b3f7497172d5ffe2061\", element=\"643b5ecf-5bb6-4c3d-9cab-a009447cdbfc\")>,\n",
       " <selenium.webdriver.remote.webelement.WebElement (session=\"21d21ddd18e11b3f7497172d5ffe2061\", element=\"6d9a3bf3-a780-4389-ac76-95c48e0aca3f\")>,\n",
       " <selenium.webdriver.remote.webelement.WebElement (session=\"21d21ddd18e11b3f7497172d5ffe2061\", element=\"7199dce3-ffa9-498f-b4ec-4a8828e67224\")>,\n",
       " <selenium.webdriver.remote.webelement.WebElement (session=\"21d21ddd18e11b3f7497172d5ffe2061\", element=\"38368bcf-825f-4b92-b94b-63755c0d3aa6\")>,\n",
       " <selenium.webdriver.remote.webelement.WebElement (session=\"21d21ddd18e11b3f7497172d5ffe2061\", element=\"234163b5-38da-43b5-b5f2-278903ccb6ff\")>,\n",
       " <selenium.webdriver.remote.webelement.WebElement (session=\"21d21ddd18e11b3f7497172d5ffe2061\", element=\"2541e19c-0b4c-413e-b62e-3a4c844cfcc1\")>,\n",
       " <selenium.webdriver.remote.webelement.WebElement (session=\"21d21ddd18e11b3f7497172d5ffe2061\", element=\"e93f230a-c3e3-4d70-b451-ff5039520a1e\")>,\n",
       " <selenium.webdriver.remote.webelement.WebElement (session=\"21d21ddd18e11b3f7497172d5ffe2061\", element=\"4b10e05a-8144-49a0-83f0-ccfeaaedcfaf\")>,\n",
       " <selenium.webdriver.remote.webelement.WebElement (session=\"21d21ddd18e11b3f7497172d5ffe2061\", element=\"47a81ead-3897-4b12-b823-ffaef58e7522\")>,\n",
       " <selenium.webdriver.remote.webelement.WebElement (session=\"21d21ddd18e11b3f7497172d5ffe2061\", element=\"2a0d66a8-3d6c-4022-9c42-79e2d3daaef0\")>,\n",
       " <selenium.webdriver.remote.webelement.WebElement (session=\"21d21ddd18e11b3f7497172d5ffe2061\", element=\"f62f75d6-e670-4692-b4f0-3bed860d9a76\")>,\n",
       " <selenium.webdriver.remote.webelement.WebElement (session=\"21d21ddd18e11b3f7497172d5ffe2061\", element=\"882afe85-d017-4533-b05c-308d4d9fdaec\")>,\n",
       " <selenium.webdriver.remote.webelement.WebElement (session=\"21d21ddd18e11b3f7497172d5ffe2061\", element=\"ecf9b2a2-f60b-4290-b713-1d26aa871cbb\")>,\n",
       " <selenium.webdriver.remote.webelement.WebElement (session=\"21d21ddd18e11b3f7497172d5ffe2061\", element=\"033b6340-4d17-44c5-bccc-9570d1162155\")>,\n",
       " <selenium.webdriver.remote.webelement.WebElement (session=\"21d21ddd18e11b3f7497172d5ffe2061\", element=\"6643dfa0-1f5a-4672-8892-e6d5e04e3dbc\")>,\n",
       " <selenium.webdriver.remote.webelement.WebElement (session=\"21d21ddd18e11b3f7497172d5ffe2061\", element=\"83482234-98e2-478c-aef6-2528e5511152\")>,\n",
       " <selenium.webdriver.remote.webelement.WebElement (session=\"21d21ddd18e11b3f7497172d5ffe2061\", element=\"02867f31-88da-40b2-beee-a1b795f072e0\")>]"
      ]
     },
     "execution_count": 250,
     "metadata": {},
     "output_type": "execute_result"
    }
   ],
   "source": [
    "# To scrap the rating\n",
    "r=driver.find_elements_by_xpath('//span[@class=\"a-icon-alt\"]')\n",
    "r"
   ]
  },
  {
   "cell_type": "code",
   "execution_count": 251,
   "id": "deaf0ee5",
   "metadata": {},
   "outputs": [
    {
     "data": {
      "text/plain": [
       "['4.4 out of 5 stars',\n",
       " '4.4 out of 5 stars',\n",
       " '4.4 out of 5 stars',\n",
       " '4.3 out of 5 stars',\n",
       " '4.4 out of 5 stars',\n",
       " '4.5 out of 5 stars',\n",
       " '3.8 out of 5 stars',\n",
       " '4.0 out of 5 stars',\n",
       " '4.2 out of 5 stars',\n",
       " '4.0 out of 5 stars',\n",
       " '4.0 out of 5 stars',\n",
       " '4.2 out of 5 stars',\n",
       " '2.0 out of 5 stars',\n",
       " '5.0 out of 5 stars',\n",
       " '5.0 out of 5 stars',\n",
       " '5.0 out of 5 stars',\n",
       " '4.5 out of 5 stars',\n",
       " '4.5 out of 5 stars',\n",
       " '3.9 out of 5 stars',\n",
       " '4.2 out of 5 stars',\n",
       " '4.1 out of 5 stars',\n",
       " '3.8 out of 5 stars',\n",
       " '5.0 out of 5 stars',\n",
       " '4.1 out of 5 stars',\n",
       " '4.5 out of 5 stars',\n",
       " '4 Stars & Up',\n",
       " '3 Stars & Up',\n",
       " '2 Stars & Up',\n",
       " '1 Star & Up']"
      ]
     },
     "execution_count": 251,
     "metadata": {},
     "output_type": "execute_result"
    }
   ],
   "source": [
    "rating=[]\n",
    "for i in r:\n",
    "    rating.append(i.get_attribute('textContent'))\n",
    "rating"
   ]
  },
  {
   "cell_type": "code",
   "execution_count": 252,
   "id": "eaa0cb7a",
   "metadata": {},
   "outputs": [
    {
     "data": {
      "text/plain": [
       "['4.4 out of 5 stars',\n",
       " '4.4 out of 5 stars',\n",
       " '4.4 out of 5 stars',\n",
       " '4.3 out of 5 stars',\n",
       " '4.4 out of 5 stars',\n",
       " '4.5 out of 5 stars',\n",
       " '3.8 out of 5 stars',\n",
       " '4.0 out of 5 stars',\n",
       " '4.2 out of 5 stars',\n",
       " '4.0 out of 5 stars']"
      ]
     },
     "execution_count": 252,
     "metadata": {},
     "output_type": "execute_result"
    }
   ],
   "source": [
    "rating=rating[0:10]\n",
    "rating"
   ]
  },
  {
   "cell_type": "code",
   "execution_count": 253,
   "id": "9fe8b0ee",
   "metadata": {},
   "outputs": [
    {
     "data": {
      "text/plain": [
       "[<selenium.webdriver.remote.webelement.WebElement (session=\"21d21ddd18e11b3f7497172d5ffe2061\", element=\"82f8a745-8d2f-4777-a0dd-7f6572afe0d0\")>,\n",
       " <selenium.webdriver.remote.webelement.WebElement (session=\"21d21ddd18e11b3f7497172d5ffe2061\", element=\"73142e26-11d3-4463-a9c6-ae819ff88225\")>,\n",
       " <selenium.webdriver.remote.webelement.WebElement (session=\"21d21ddd18e11b3f7497172d5ffe2061\", element=\"50365052-2fd1-4a2e-9856-0c710608b15e\")>,\n",
       " <selenium.webdriver.remote.webelement.WebElement (session=\"21d21ddd18e11b3f7497172d5ffe2061\", element=\"39eb2766-ef9f-430c-9568-55d4cc3dd641\")>,\n",
       " <selenium.webdriver.remote.webelement.WebElement (session=\"21d21ddd18e11b3f7497172d5ffe2061\", element=\"db948fd3-f7eb-49f8-bc9e-bc18b92580df\")>,\n",
       " <selenium.webdriver.remote.webelement.WebElement (session=\"21d21ddd18e11b3f7497172d5ffe2061\", element=\"7a2b59a8-0c10-43f7-9235-200cb8c165cd\")>,\n",
       " <selenium.webdriver.remote.webelement.WebElement (session=\"21d21ddd18e11b3f7497172d5ffe2061\", element=\"e8c65496-6a97-49f2-8274-4b91bd6040fe\")>,\n",
       " <selenium.webdriver.remote.webelement.WebElement (session=\"21d21ddd18e11b3f7497172d5ffe2061\", element=\"f9adc1d9-9331-4e55-8af3-7de15cfbc7d9\")>,\n",
       " <selenium.webdriver.remote.webelement.WebElement (session=\"21d21ddd18e11b3f7497172d5ffe2061\", element=\"4be2520b-4437-4a9e-ae08-b79013c9c09c\")>,\n",
       " <selenium.webdriver.remote.webelement.WebElement (session=\"21d21ddd18e11b3f7497172d5ffe2061\", element=\"64e1b2e1-1d59-4806-a6f3-3c493ffb57a2\")>,\n",
       " <selenium.webdriver.remote.webelement.WebElement (session=\"21d21ddd18e11b3f7497172d5ffe2061\", element=\"40e5cbfd-3d15-4fda-9bec-514f3dcd923a\")>,\n",
       " <selenium.webdriver.remote.webelement.WebElement (session=\"21d21ddd18e11b3f7497172d5ffe2061\", element=\"57329916-5c03-4a1b-a5c6-b05127568f9f\")>,\n",
       " <selenium.webdriver.remote.webelement.WebElement (session=\"21d21ddd18e11b3f7497172d5ffe2061\", element=\"eeba6994-2a2b-4cda-956c-bf4185d16d3e\")>,\n",
       " <selenium.webdriver.remote.webelement.WebElement (session=\"21d21ddd18e11b3f7497172d5ffe2061\", element=\"6e95a216-e0b6-4e01-a69d-5be064e237b7\")>,\n",
       " <selenium.webdriver.remote.webelement.WebElement (session=\"21d21ddd18e11b3f7497172d5ffe2061\", element=\"823d2ca1-5f31-41c9-b05f-61fcb0a56646\")>,\n",
       " <selenium.webdriver.remote.webelement.WebElement (session=\"21d21ddd18e11b3f7497172d5ffe2061\", element=\"11a02ea8-fb0b-4c55-86df-6709140c2706\")>,\n",
       " <selenium.webdriver.remote.webelement.WebElement (session=\"21d21ddd18e11b3f7497172d5ffe2061\", element=\"685b4976-6571-4aea-bf89-60914dc1e9c3\")>,\n",
       " <selenium.webdriver.remote.webelement.WebElement (session=\"21d21ddd18e11b3f7497172d5ffe2061\", element=\"8aab4c54-813d-46da-ba5b-93efbbc87506\")>,\n",
       " <selenium.webdriver.remote.webelement.WebElement (session=\"21d21ddd18e11b3f7497172d5ffe2061\", element=\"cf98362d-1809-45e9-9bb3-f52b24c8c99c\")>,\n",
       " <selenium.webdriver.remote.webelement.WebElement (session=\"21d21ddd18e11b3f7497172d5ffe2061\", element=\"f8ef4988-7493-40c0-b1c2-13f87853d376\")>,\n",
       " <selenium.webdriver.remote.webelement.WebElement (session=\"21d21ddd18e11b3f7497172d5ffe2061\", element=\"de1b122f-e212-4626-88ac-eec68be31d19\")>,\n",
       " <selenium.webdriver.remote.webelement.WebElement (session=\"21d21ddd18e11b3f7497172d5ffe2061\", element=\"2dbb4c64-da96-4ae4-8a1e-4b1cce7e28b5\")>,\n",
       " <selenium.webdriver.remote.webelement.WebElement (session=\"21d21ddd18e11b3f7497172d5ffe2061\", element=\"31161ede-5b69-4795-b112-f20f987dea64\")>,\n",
       " <selenium.webdriver.remote.webelement.WebElement (session=\"21d21ddd18e11b3f7497172d5ffe2061\", element=\"c0cdd3a3-1876-4bb6-9758-0de4aeac0550\")>,\n",
       " <selenium.webdriver.remote.webelement.WebElement (session=\"21d21ddd18e11b3f7497172d5ffe2061\", element=\"4655da06-0e20-4c93-8e66-9848aff01a21\")>,\n",
       " <selenium.webdriver.remote.webelement.WebElement (session=\"21d21ddd18e11b3f7497172d5ffe2061\", element=\"5b631685-1822-4baa-82c8-c33b5ff9d10e\")>,\n",
       " <selenium.webdriver.remote.webelement.WebElement (session=\"21d21ddd18e11b3f7497172d5ffe2061\", element=\"09a9020f-70a7-4bb4-8bd5-d9317d2f204f\")>,\n",
       " <selenium.webdriver.remote.webelement.WebElement (session=\"21d21ddd18e11b3f7497172d5ffe2061\", element=\"64abf2fc-48ad-439b-a325-a8be9ee011c5\")>,\n",
       " <selenium.webdriver.remote.webelement.WebElement (session=\"21d21ddd18e11b3f7497172d5ffe2061\", element=\"8cc10d05-2510-4fcd-a7c1-ade8edb983c3\")>,\n",
       " <selenium.webdriver.remote.webelement.WebElement (session=\"21d21ddd18e11b3f7497172d5ffe2061\", element=\"8ae2eeac-cd13-4624-8fad-8c794efdd3d9\")>]"
      ]
     },
     "execution_count": 253,
     "metadata": {},
     "output_type": "execute_result"
    }
   ],
   "source": [
    "# To scrap the price\n",
    "p=driver.find_elements_by_xpath('//span[@class=\"a-price-whole\"]')\n",
    "p"
   ]
  },
  {
   "cell_type": "code",
   "execution_count": 254,
   "id": "5fa4b56f",
   "metadata": {},
   "outputs": [
    {
     "data": {
      "text/plain": [
       "['85,990',\n",
       " '83,990',\n",
       " '57,490',\n",
       " '77,499',\n",
       " '89,999',\n",
       " '96,999',\n",
       " '87,990',\n",
       " '89,990',\n",
       " '87,990',\n",
       " '92,990',\n",
       " '82,990',\n",
       " '3,73,999',\n",
       " '90,990',\n",
       " '89,990',\n",
       " '1,69,990',\n",
       " '89,990',\n",
       " '91,800',\n",
       " '90,990',\n",
       " '62,990',\n",
       " '97,000',\n",
       " '85,790',\n",
       " '99,700',\n",
       " '39,990',\n",
       " '99,999',\n",
       " '93,500',\n",
       " '47,299',\n",
       " '1,20,990',\n",
       " '38,290',\n",
       " '96,999',\n",
       " '1,25,510']"
      ]
     },
     "execution_count": 254,
     "metadata": {},
     "output_type": "execute_result"
    }
   ],
   "source": [
    "price=[]\n",
    "for i in p:\n",
    "    price.append(i.text)\n",
    "price"
   ]
  },
  {
   "cell_type": "code",
   "execution_count": 255,
   "id": "80db89b9",
   "metadata": {},
   "outputs": [
    {
     "data": {
      "text/plain": [
       "['85,990',\n",
       " '83,990',\n",
       " '57,490',\n",
       " '77,499',\n",
       " '89,999',\n",
       " '96,999',\n",
       " '87,990',\n",
       " '89,990',\n",
       " '87,990',\n",
       " '92,990']"
      ]
     },
     "execution_count": 255,
     "metadata": {},
     "output_type": "execute_result"
    }
   ],
   "source": [
    "price=price[0:10]\n",
    "price"
   ]
  },
  {
   "cell_type": "code",
   "execution_count": 256,
   "id": "b243c9f2",
   "metadata": {},
   "outputs": [
    {
     "name": "stdout",
     "output_type": "stream",
     "text": [
      "10 10 10\n"
     ]
    }
   ],
   "source": [
    "print(len(price),len(rating),len(title))"
   ]
  },
  {
   "cell_type": "code",
   "execution_count": 257,
   "id": "b8b8fbc2",
   "metadata": {},
   "outputs": [
    {
     "data": {
      "text/html": [
       "<div>\n",
       "<style scoped>\n",
       "    .dataframe tbody tr th:only-of-type {\n",
       "        vertical-align: middle;\n",
       "    }\n",
       "\n",
       "    .dataframe tbody tr th {\n",
       "        vertical-align: top;\n",
       "    }\n",
       "\n",
       "    .dataframe thead th {\n",
       "        text-align: right;\n",
       "    }\n",
       "</style>\n",
       "<table border=\"1\" class=\"dataframe\">\n",
       "  <thead>\n",
       "    <tr style=\"text-align: right;\">\n",
       "      <th></th>\n",
       "      <th>Title</th>\n",
       "      <th>Ratings</th>\n",
       "      <th>Price</th>\n",
       "    </tr>\n",
       "  </thead>\n",
       "  <tbody>\n",
       "    <tr>\n",
       "      <th>0</th>\n",
       "      <td>LG Gram 16 Ultra-Light Intel Evo 11th Gen Core...</td>\n",
       "      <td>4.4 out of 5 stars</td>\n",
       "      <td>85,990</td>\n",
       "    </tr>\n",
       "    <tr>\n",
       "      <th>1</th>\n",
       "      <td>Fujitsu UH-X 11th Gen Intel Core i7 13.3” FHD ...</td>\n",
       "      <td>4.4 out of 5 stars</td>\n",
       "      <td>83,990</td>\n",
       "    </tr>\n",
       "    <tr>\n",
       "      <th>2</th>\n",
       "      <td>ASUS VivoBook 14 (2021), 14-inch (35.56 cms) F...</td>\n",
       "      <td>4.4 out of 5 stars</td>\n",
       "      <td>57,490</td>\n",
       "    </tr>\n",
       "    <tr>\n",
       "      <th>3</th>\n",
       "      <td>Mi Notebook Ultra 3.2K Resolution Display Inte...</td>\n",
       "      <td>4.3 out of 5 stars</td>\n",
       "      <td>77,499</td>\n",
       "    </tr>\n",
       "    <tr>\n",
       "      <th>4</th>\n",
       "      <td>LG Gram 16 inches Intel Evo 11th Gen Core i7 U...</td>\n",
       "      <td>4.4 out of 5 stars</td>\n",
       "      <td>89,999</td>\n",
       "    </tr>\n",
       "    <tr>\n",
       "      <th>5</th>\n",
       "      <td>LG Gram Intel Evo 11th Gen Core i7 17 inches U...</td>\n",
       "      <td>4.5 out of 5 stars</td>\n",
       "      <td>96,999</td>\n",
       "    </tr>\n",
       "    <tr>\n",
       "      <th>6</th>\n",
       "      <td>Lenovo ThinkBook Yoga 14s Intel Core i7 11th G...</td>\n",
       "      <td>3.8 out of 5 stars</td>\n",
       "      <td>87,990</td>\n",
       "    </tr>\n",
       "    <tr>\n",
       "      <th>7</th>\n",
       "      <td>Lenovo ThinkBook 13s Intel 11th Gen Core i7 13...</td>\n",
       "      <td>4.0 out of 5 stars</td>\n",
       "      <td>89,990</td>\n",
       "    </tr>\n",
       "    <tr>\n",
       "      <th>8</th>\n",
       "      <td>HP Pavilion 11th Gen Intel Core i7 15.6 inches...</td>\n",
       "      <td>4.2 out of 5 stars</td>\n",
       "      <td>87,990</td>\n",
       "    </tr>\n",
       "    <tr>\n",
       "      <th>9</th>\n",
       "      <td>ASUS ZenBook 13 OLED (2021) Intel Core i7-1165...</td>\n",
       "      <td>4.0 out of 5 stars</td>\n",
       "      <td>92,990</td>\n",
       "    </tr>\n",
       "  </tbody>\n",
       "</table>\n",
       "</div>"
      ],
      "text/plain": [
       "                                               Title             Ratings  \\\n",
       "0  LG Gram 16 Ultra-Light Intel Evo 11th Gen Core...  4.4 out of 5 stars   \n",
       "1  Fujitsu UH-X 11th Gen Intel Core i7 13.3” FHD ...  4.4 out of 5 stars   \n",
       "2  ASUS VivoBook 14 (2021), 14-inch (35.56 cms) F...  4.4 out of 5 stars   \n",
       "3  Mi Notebook Ultra 3.2K Resolution Display Inte...  4.3 out of 5 stars   \n",
       "4  LG Gram 16 inches Intel Evo 11th Gen Core i7 U...  4.4 out of 5 stars   \n",
       "5  LG Gram Intel Evo 11th Gen Core i7 17 inches U...  4.5 out of 5 stars   \n",
       "6  Lenovo ThinkBook Yoga 14s Intel Core i7 11th G...  3.8 out of 5 stars   \n",
       "7  Lenovo ThinkBook 13s Intel 11th Gen Core i7 13...  4.0 out of 5 stars   \n",
       "8  HP Pavilion 11th Gen Intel Core i7 15.6 inches...  4.2 out of 5 stars   \n",
       "9  ASUS ZenBook 13 OLED (2021) Intel Core i7-1165...  4.0 out of 5 stars   \n",
       "\n",
       "    Price  \n",
       "0  85,990  \n",
       "1  83,990  \n",
       "2  57,490  \n",
       "3  77,499  \n",
       "4  89,999  \n",
       "5  96,999  \n",
       "6  87,990  \n",
       "7  89,990  \n",
       "8  87,990  \n",
       "9  92,990  "
      ]
     },
     "execution_count": 257,
     "metadata": {},
     "output_type": "execute_result"
    }
   ],
   "source": [
    "df=pd.DataFrame({'Title':title,\n",
    "                'Ratings':rating,\n",
    "                'Price':price})\n",
    "df"
   ]
  },
  {
   "cell_type": "markdown",
   "id": "55222c55",
   "metadata": {},
   "source": [
    "# QUESTION 9"
   ]
  },
  {
   "cell_type": "code",
   "execution_count": 218,
   "id": "d5bfbbe1",
   "metadata": {},
   "outputs": [],
   "source": [
    "driver=webdriver.Chrome('chromedriver.exe')"
   ]
  },
  {
   "cell_type": "code",
   "execution_count": 219,
   "id": "7200dc55",
   "metadata": {},
   "outputs": [],
   "source": [
    "url='https://www.ambitionbox.com/'\n",
    "driver.get(url)"
   ]
  },
  {
   "cell_type": "code",
   "execution_count": 220,
   "id": "172de225",
   "metadata": {},
   "outputs": [
    {
     "data": {
      "text/plain": [
       "<selenium.webdriver.remote.webelement.WebElement (session=\"973cb11ce8293892e0ce2b4aeebc0269\", element=\"3b8be509-9c9c-4617-877b-042e1cd1d448\")>"
      ]
     },
     "execution_count": 220,
     "metadata": {},
     "output_type": "execute_result"
    }
   ],
   "source": [
    "# To get the job option\n",
    "j=driver.find_element_by_xpath('/html/body/div[1]/nav/nav/a[6]')\n",
    "j"
   ]
  },
  {
   "cell_type": "code",
   "execution_count": 221,
   "id": "320bc0db",
   "metadata": {},
   "outputs": [],
   "source": [
    "j.click()"
   ]
  },
  {
   "cell_type": "code",
   "execution_count": 222,
   "id": "547fc52a",
   "metadata": {},
   "outputs": [
    {
     "data": {
      "text/plain": [
       "<selenium.webdriver.remote.webelement.WebElement (session=\"973cb11ce8293892e0ce2b4aeebc0269\", element=\"ab93bb72-ee5d-40b0-bf40-3763a355454f\")>"
      ]
     },
     "execution_count": 222,
     "metadata": {},
     "output_type": "execute_result"
    }
   ],
   "source": [
    "# To get the search bar\n",
    "s=driver.find_element_by_xpath('/html/body/div/div/div/div[2]/div[1]/div/div/div/div/span/input')\n",
    "s"
   ]
  },
  {
   "cell_type": "code",
   "execution_count": 223,
   "id": "d3c6abfa",
   "metadata": {},
   "outputs": [],
   "source": [
    "s.send_keys('Data Scientist')"
   ]
  },
  {
   "cell_type": "code",
   "execution_count": 224,
   "id": "2bd9646b",
   "metadata": {},
   "outputs": [
    {
     "data": {
      "text/plain": [
       "<selenium.webdriver.remote.webelement.WebElement (session=\"973cb11ce8293892e0ce2b4aeebc0269\", element=\"c5f02ded-6453-4082-8e0e-11ffe482c5ee\")>"
      ]
     },
     "execution_count": 224,
     "metadata": {},
     "output_type": "execute_result"
    }
   ],
   "source": [
    "# To click on the search button\n",
    "btn=driver.find_element_by_xpath('/html/body/div/div/div/div[2]/div[1]/div/div/div/button/span')\n",
    "btn"
   ]
  },
  {
   "cell_type": "code",
   "execution_count": 225,
   "id": "cd54bdd6",
   "metadata": {},
   "outputs": [],
   "source": [
    "btn.click()"
   ]
  },
  {
   "cell_type": "code",
   "execution_count": 226,
   "id": "a67d173e",
   "metadata": {},
   "outputs": [
    {
     "data": {
      "text/plain": [
       "<selenium.webdriver.remote.webelement.WebElement (session=\"973cb11ce8293892e0ce2b4aeebc0269\", element=\"201b7648-48c3-4d41-8bd2-dc7f08b1c089\")>"
      ]
     },
     "execution_count": 226,
     "metadata": {},
     "output_type": "execute_result"
    }
   ],
   "source": [
    "# To click on location option\n",
    "l=driver.find_element_by_xpath('/html/body/div/div/div/div[2]/div[2]/div[1]/div/div/div/div[2]/div[1]')\n",
    "l"
   ]
  },
  {
   "cell_type": "code",
   "execution_count": 227,
   "id": "d7adc81f",
   "metadata": {},
   "outputs": [],
   "source": [
    "l.click()"
   ]
  },
  {
   "cell_type": "code",
   "execution_count": 228,
   "id": "ffdb7e01",
   "metadata": {},
   "outputs": [
    {
     "data": {
      "text/plain": [
       "<selenium.webdriver.remote.webelement.WebElement (session=\"973cb11ce8293892e0ce2b4aeebc0269\", element=\"c6dc70d3-f9ee-480a-b044-f1398185cce8\")>"
      ]
     },
     "execution_count": 228,
     "metadata": {},
     "output_type": "execute_result"
    }
   ],
   "source": [
    "# To write in the location search box\n",
    "loc=driver.find_element_by_xpath('/html/body/div/div/div/div[2]/div[2]/div[1]/div/div/div/div[2]/div[2]/div/div[2]/input')\n",
    "loc"
   ]
  },
  {
   "cell_type": "code",
   "execution_count": 229,
   "id": "41d0bd9a",
   "metadata": {},
   "outputs": [],
   "source": [
    "loc.send_keys('Noida')"
   ]
  },
  {
   "cell_type": "code",
   "execution_count": 230,
   "id": "929c90ce",
   "metadata": {},
   "outputs": [
    {
     "data": {
      "text/plain": [
       "<selenium.webdriver.remote.webelement.WebElement (session=\"973cb11ce8293892e0ce2b4aeebc0269\", element=\"e07f3f95-8c28-4c2c-adb0-582fb0c96eab\")>"
      ]
     },
     "execution_count": 230,
     "metadata": {},
     "output_type": "execute_result"
    }
   ],
   "source": [
    "# To select noida option\n",
    "noida=driver.find_element_by_xpath('/html/body/div/div/div/div[2]/div[2]/div[1]/div/div/div/div[2]/div[2]/div/div[3]/div[1]/div[1]/div/label')\n",
    "noida"
   ]
  },
  {
   "cell_type": "code",
   "execution_count": 231,
   "id": "268d68d9",
   "metadata": {},
   "outputs": [],
   "source": [
    "noida.click()"
   ]
  },
  {
   "cell_type": "code",
   "execution_count": 232,
   "id": "ae537506",
   "metadata": {},
   "outputs": [
    {
     "data": {
      "text/plain": [
       "[<selenium.webdriver.remote.webelement.WebElement (session=\"973cb11ce8293892e0ce2b4aeebc0269\", element=\"2ec07a10-aa74-4b59-b74a-4fb8221ec302\")>,\n",
       " <selenium.webdriver.remote.webelement.WebElement (session=\"973cb11ce8293892e0ce2b4aeebc0269\", element=\"24f7eb59-309b-4f6c-ac77-26af500ab0f0\")>,\n",
       " <selenium.webdriver.remote.webelement.WebElement (session=\"973cb11ce8293892e0ce2b4aeebc0269\", element=\"8bacdd1e-ef88-4cc9-bd03-9d34d5f24471\")>,\n",
       " <selenium.webdriver.remote.webelement.WebElement (session=\"973cb11ce8293892e0ce2b4aeebc0269\", element=\"76e4605e-0f5d-484e-b18d-7be32a44f905\")>,\n",
       " <selenium.webdriver.remote.webelement.WebElement (session=\"973cb11ce8293892e0ce2b4aeebc0269\", element=\"49121933-dfd0-4e4d-8b7b-0ebf8bc373e7\")>,\n",
       " <selenium.webdriver.remote.webelement.WebElement (session=\"973cb11ce8293892e0ce2b4aeebc0269\", element=\"02a961b7-991a-41c2-a2e4-1f563f1d4f5c\")>,\n",
       " <selenium.webdriver.remote.webelement.WebElement (session=\"973cb11ce8293892e0ce2b4aeebc0269\", element=\"8bfac9ea-22af-4244-b6cb-f2146d7b8746\")>,\n",
       " <selenium.webdriver.remote.webelement.WebElement (session=\"973cb11ce8293892e0ce2b4aeebc0269\", element=\"dabfd728-17ff-4708-9144-b4d7adcab37c\")>,\n",
       " <selenium.webdriver.remote.webelement.WebElement (session=\"973cb11ce8293892e0ce2b4aeebc0269\", element=\"f40a6d38-451b-47f8-b270-28cd4d5f5473\")>,\n",
       " <selenium.webdriver.remote.webelement.WebElement (session=\"973cb11ce8293892e0ce2b4aeebc0269\", element=\"a46708e5-89ec-4dc7-83e6-2dbc9f2d8056\")>]"
      ]
     },
     "execution_count": 232,
     "metadata": {},
     "output_type": "execute_result"
    }
   ],
   "source": [
    "# To scrap the company name\n",
    "c=driver.find_elements_by_xpath('//p[@class=\"company body-medium\"]')\n",
    "c"
   ]
  },
  {
   "cell_type": "code",
   "execution_count": 233,
   "id": "33d56093",
   "metadata": {},
   "outputs": [
    {
     "data": {
      "text/plain": [
       "['NTT DATA GLOBAL DELIVERY SERVICES PRIVATE LIMITED',\n",
       " 'HCL Technologies Limited',\n",
       " 'WSP CONSULTANTS INDIA PRIVATE LIMITED',\n",
       " 'Microsoft India (R and D) Pvt Ltd',\n",
       " 'HCL Technologies Ltd',\n",
       " 'Jubilant Foodworks Limited',\n",
       " 'HCL Technologies',\n",
       " 'RATEGAIN TRAVEL TECHNOLOGIES LIMITED',\n",
       " 'Hanu Software Solutions Pvt Ltd',\n",
       " 'Tavant Technologies India Pvt. Ltd.']"
      ]
     },
     "execution_count": 233,
     "metadata": {},
     "output_type": "execute_result"
    }
   ],
   "source": [
    "company=[]\n",
    "for i in c:\n",
    "    company.append(i.text)\n",
    "company"
   ]
  },
  {
   "cell_type": "code",
   "execution_count": 234,
   "id": "c93ad951",
   "metadata": {},
   "outputs": [
    {
     "data": {
      "text/plain": [
       "[<selenium.webdriver.remote.webelement.WebElement (session=\"973cb11ce8293892e0ce2b4aeebc0269\", element=\"451524be-c65e-46c9-8062-42f4c5c94e8d\")>,\n",
       " <selenium.webdriver.remote.webelement.WebElement (session=\"973cb11ce8293892e0ce2b4aeebc0269\", element=\"a9c08f10-f9f9-4fcb-803f-1614b75c1f55\")>,\n",
       " <selenium.webdriver.remote.webelement.WebElement (session=\"973cb11ce8293892e0ce2b4aeebc0269\", element=\"dd6feac8-5350-4fcb-aa4a-67fede7ba73e\")>,\n",
       " <selenium.webdriver.remote.webelement.WebElement (session=\"973cb11ce8293892e0ce2b4aeebc0269\", element=\"b0e87da9-19be-49ef-8ad3-bfc3a70c3596\")>,\n",
       " <selenium.webdriver.remote.webelement.WebElement (session=\"973cb11ce8293892e0ce2b4aeebc0269\", element=\"0ed723f1-dae8-4210-a2fb-dc1848bb46f5\")>,\n",
       " <selenium.webdriver.remote.webelement.WebElement (session=\"973cb11ce8293892e0ce2b4aeebc0269\", element=\"b7090885-29a5-4cb6-b22a-ca8282b93337\")>,\n",
       " <selenium.webdriver.remote.webelement.WebElement (session=\"973cb11ce8293892e0ce2b4aeebc0269\", element=\"e792a7c4-fc5f-46c6-b530-ec7ce91cc0bc\")>,\n",
       " <selenium.webdriver.remote.webelement.WebElement (session=\"973cb11ce8293892e0ce2b4aeebc0269\", element=\"aff1972e-306a-42b3-9671-8a2e53b99ac3\")>,\n",
       " <selenium.webdriver.remote.webelement.WebElement (session=\"973cb11ce8293892e0ce2b4aeebc0269\", element=\"dad00b85-e3e3-4b52-a054-4b0269abfc45\")>,\n",
       " <selenium.webdriver.remote.webelement.WebElement (session=\"973cb11ce8293892e0ce2b4aeebc0269\", element=\"575e004d-4a38-4337-bc1b-7d3aac20dddb\")>]"
      ]
     },
     "execution_count": 234,
     "metadata": {},
     "output_type": "execute_result"
    }
   ],
   "source": [
    "# To scrap No. of days ago when job was posted\n",
    "d=driver.find_elements_by_xpath('//span[@class=\"body-small-l\"][1]')\n",
    "d"
   ]
  },
  {
   "cell_type": "code",
   "execution_count": 235,
   "id": "35d79dbb",
   "metadata": {},
   "outputs": [
    {
     "data": {
      "text/plain": [
       "['10d ago',\n",
       " '11d ago',\n",
       " '11d ago',\n",
       " '22d ago',\n",
       " '19d ago',\n",
       " '9d ago',\n",
       " '26d ago',\n",
       " '4d ago',\n",
       " '11d ago',\n",
       " '1mon ago']"
      ]
     },
     "execution_count": 235,
     "metadata": {},
     "output_type": "execute_result"
    }
   ],
   "source": [
    "days=[]\n",
    "for i in d:\n",
    "    days.append(i.text)\n",
    "days"
   ]
  },
  {
   "cell_type": "code",
   "execution_count": 236,
   "id": "df9238ab",
   "metadata": {},
   "outputs": [
    {
     "data": {
      "text/plain": [
       "[<selenium.webdriver.remote.webelement.WebElement (session=\"973cb11ce8293892e0ce2b4aeebc0269\", element=\"04248608-bd2b-4f65-b858-7390e9280987\")>,\n",
       " <selenium.webdriver.remote.webelement.WebElement (session=\"973cb11ce8293892e0ce2b4aeebc0269\", element=\"4b945ab4-71e8-402d-967b-01327b2df9da\")>,\n",
       " <selenium.webdriver.remote.webelement.WebElement (session=\"973cb11ce8293892e0ce2b4aeebc0269\", element=\"6d13368a-3f86-486e-8110-855e5b36673a\")>,\n",
       " <selenium.webdriver.remote.webelement.WebElement (session=\"973cb11ce8293892e0ce2b4aeebc0269\", element=\"f2c3a041-4d7e-4443-be65-a274c706f791\")>,\n",
       " <selenium.webdriver.remote.webelement.WebElement (session=\"973cb11ce8293892e0ce2b4aeebc0269\", element=\"21809804-e307-4abe-8090-182d0c4367d0\")>,\n",
       " <selenium.webdriver.remote.webelement.WebElement (session=\"973cb11ce8293892e0ce2b4aeebc0269\", element=\"acacb7b1-c0c7-4225-8275-a7c74782da80\")>,\n",
       " <selenium.webdriver.remote.webelement.WebElement (session=\"973cb11ce8293892e0ce2b4aeebc0269\", element=\"69692d73-d90c-4353-af36-cd242be96318\")>,\n",
       " <selenium.webdriver.remote.webelement.WebElement (session=\"973cb11ce8293892e0ce2b4aeebc0269\", element=\"7059dac9-bbf2-46a3-9761-822d05bba529\")>,\n",
       " <selenium.webdriver.remote.webelement.WebElement (session=\"973cb11ce8293892e0ce2b4aeebc0269\", element=\"299edb9f-04df-4bd5-a2e2-41abb77e54bf\")>,\n",
       " <selenium.webdriver.remote.webelement.WebElement (session=\"973cb11ce8293892e0ce2b4aeebc0269\", element=\"fa5c2e5d-c9cd-46af-8c96-aaa21ee7cc14\")>]"
      ]
     },
     "execution_count": 236,
     "metadata": {},
     "output_type": "execute_result"
    }
   ],
   "source": [
    "# To scrap the rating of the company\n",
    "r=driver.find_elements_by_xpath('//span[@class=\"body-small\"]')\n",
    "r"
   ]
  },
  {
   "cell_type": "code",
   "execution_count": 237,
   "id": "82b14a8f",
   "metadata": {},
   "outputs": [
    {
     "data": {
      "text/plain": [
       "['3.9', '3.8', '4.2', '4.2', '3.8', '3.9', '3.8', '3.7', '3.7', '4.0']"
      ]
     },
     "execution_count": 237,
     "metadata": {},
     "output_type": "execute_result"
    }
   ],
   "source": [
    "rating=[]\n",
    "for i in r:\n",
    "    rating.append(i.text)\n",
    "rating"
   ]
  },
  {
   "cell_type": "code",
   "execution_count": 238,
   "id": "bdbd168c",
   "metadata": {},
   "outputs": [
    {
     "name": "stdout",
     "output_type": "stream",
     "text": [
      "10 10 10\n"
     ]
    }
   ],
   "source": [
    "print(len(company),len(days),len(rating))"
   ]
  },
  {
   "cell_type": "code",
   "execution_count": 239,
   "id": "f2268f6e",
   "metadata": {},
   "outputs": [
    {
     "data": {
      "text/html": [
       "<div>\n",
       "<style scoped>\n",
       "    .dataframe tbody tr th:only-of-type {\n",
       "        vertical-align: middle;\n",
       "    }\n",
       "\n",
       "    .dataframe tbody tr th {\n",
       "        vertical-align: top;\n",
       "    }\n",
       "\n",
       "    .dataframe thead th {\n",
       "        text-align: right;\n",
       "    }\n",
       "</style>\n",
       "<table border=\"1\" class=\"dataframe\">\n",
       "  <thead>\n",
       "    <tr style=\"text-align: right;\">\n",
       "      <th></th>\n",
       "      <th>Company Name</th>\n",
       "      <th>Posted since</th>\n",
       "      <th>Ratings</th>\n",
       "    </tr>\n",
       "  </thead>\n",
       "  <tbody>\n",
       "    <tr>\n",
       "      <th>0</th>\n",
       "      <td>NTT DATA GLOBAL DELIVERY SERVICES PRIVATE LIMITED</td>\n",
       "      <td>10d ago</td>\n",
       "      <td>3.9</td>\n",
       "    </tr>\n",
       "    <tr>\n",
       "      <th>1</th>\n",
       "      <td>HCL Technologies Limited</td>\n",
       "      <td>11d ago</td>\n",
       "      <td>3.8</td>\n",
       "    </tr>\n",
       "    <tr>\n",
       "      <th>2</th>\n",
       "      <td>WSP CONSULTANTS INDIA PRIVATE LIMITED</td>\n",
       "      <td>11d ago</td>\n",
       "      <td>4.2</td>\n",
       "    </tr>\n",
       "    <tr>\n",
       "      <th>3</th>\n",
       "      <td>Microsoft India (R and D) Pvt Ltd</td>\n",
       "      <td>22d ago</td>\n",
       "      <td>4.2</td>\n",
       "    </tr>\n",
       "    <tr>\n",
       "      <th>4</th>\n",
       "      <td>HCL Technologies Ltd</td>\n",
       "      <td>19d ago</td>\n",
       "      <td>3.8</td>\n",
       "    </tr>\n",
       "    <tr>\n",
       "      <th>5</th>\n",
       "      <td>Jubilant Foodworks Limited</td>\n",
       "      <td>9d ago</td>\n",
       "      <td>3.9</td>\n",
       "    </tr>\n",
       "    <tr>\n",
       "      <th>6</th>\n",
       "      <td>HCL Technologies</td>\n",
       "      <td>26d ago</td>\n",
       "      <td>3.8</td>\n",
       "    </tr>\n",
       "    <tr>\n",
       "      <th>7</th>\n",
       "      <td>RATEGAIN TRAVEL TECHNOLOGIES LIMITED</td>\n",
       "      <td>4d ago</td>\n",
       "      <td>3.7</td>\n",
       "    </tr>\n",
       "    <tr>\n",
       "      <th>8</th>\n",
       "      <td>Hanu Software Solutions Pvt Ltd</td>\n",
       "      <td>11d ago</td>\n",
       "      <td>3.7</td>\n",
       "    </tr>\n",
       "    <tr>\n",
       "      <th>9</th>\n",
       "      <td>Tavant Technologies India Pvt. Ltd.</td>\n",
       "      <td>1mon ago</td>\n",
       "      <td>4.0</td>\n",
       "    </tr>\n",
       "  </tbody>\n",
       "</table>\n",
       "</div>"
      ],
      "text/plain": [
       "                                        Company Name Posted since Ratings\n",
       "0  NTT DATA GLOBAL DELIVERY SERVICES PRIVATE LIMITED      10d ago     3.9\n",
       "1                           HCL Technologies Limited      11d ago     3.8\n",
       "2              WSP CONSULTANTS INDIA PRIVATE LIMITED      11d ago     4.2\n",
       "3                  Microsoft India (R and D) Pvt Ltd      22d ago     4.2\n",
       "4                               HCL Technologies Ltd      19d ago     3.8\n",
       "5                         Jubilant Foodworks Limited       9d ago     3.9\n",
       "6                                   HCL Technologies      26d ago     3.8\n",
       "7               RATEGAIN TRAVEL TECHNOLOGIES LIMITED       4d ago     3.7\n",
       "8                    Hanu Software Solutions Pvt Ltd      11d ago     3.7\n",
       "9                Tavant Technologies India Pvt. Ltd.     1mon ago     4.0"
      ]
     },
     "execution_count": 239,
     "metadata": {},
     "output_type": "execute_result"
    }
   ],
   "source": [
    "df=pd.DataFrame({'Company Name':company,\n",
    "                'Posted since':days,\n",
    "                'Ratings':rating})\n",
    "df"
   ]
  },
  {
   "cell_type": "markdown",
   "id": "55ec2387",
   "metadata": {},
   "source": [
    "# QUESTION 10"
   ]
  },
  {
   "cell_type": "code",
   "execution_count": 164,
   "id": "86889745",
   "metadata": {},
   "outputs": [],
   "source": [
    "driver=webdriver.Chrome('chromedriver.exe')"
   ]
  },
  {
   "cell_type": "code",
   "execution_count": 165,
   "id": "2dc004af",
   "metadata": {},
   "outputs": [],
   "source": [
    "url='https://www.ambitionbox.com/'\n",
    "driver.get(url)"
   ]
  },
  {
   "cell_type": "code",
   "execution_count": 166,
   "id": "328bd325",
   "metadata": {},
   "outputs": [
    {
     "data": {
      "text/plain": [
       "<selenium.webdriver.remote.webelement.WebElement (session=\"fd9260024fa2acb27b6c6a98f825df17\", element=\"73c12ff6-5de6-4b10-9634-c7c8ae45cf10\")>"
      ]
     },
     "execution_count": 166,
     "metadata": {},
     "output_type": "execute_result"
    }
   ],
   "source": [
    "# To click on the salaries option\n",
    "s=driver.find_element_by_xpath('/html/body/div[1]/nav/nav/a[4]')\n",
    "s"
   ]
  },
  {
   "cell_type": "code",
   "execution_count": 167,
   "id": "37468f6d",
   "metadata": {},
   "outputs": [],
   "source": [
    "s.click()"
   ]
  },
  {
   "cell_type": "code",
   "execution_count": 172,
   "id": "98124c07",
   "metadata": {},
   "outputs": [
    {
     "data": {
      "text/plain": [
       "<selenium.webdriver.remote.webelement.WebElement (session=\"fd9260024fa2acb27b6c6a98f825df17\", element=\"deb196d2-5f90-4e89-a0db-acbf9d24ec45\")>"
      ]
     },
     "execution_count": 172,
     "metadata": {},
     "output_type": "execute_result"
    }
   ],
   "source": [
    "# To get the search box and send 'Data Scientist' keys\n",
    "src=driver.find_element_by_xpath('/html/body/div/div/div/main/section[1]/div[2]/div[1]/span/input')\n",
    "src"
   ]
  },
  {
   "cell_type": "code",
   "execution_count": 173,
   "id": "ba41757d",
   "metadata": {},
   "outputs": [],
   "source": [
    "src.send_keys('Data Scientist')"
   ]
  },
  {
   "cell_type": "code",
   "execution_count": 180,
   "id": "53356368",
   "metadata": {},
   "outputs": [
    {
     "data": {
      "text/plain": [
       "<selenium.webdriver.remote.webelement.WebElement (session=\"fd9260024fa2acb27b6c6a98f825df17\", element=\"f194019e-5af1-4971-a978-e3691893167e\")>"
      ]
     },
     "execution_count": 180,
     "metadata": {},
     "output_type": "execute_result"
    }
   ],
   "source": [
    "# To click on search tab using xpath\n",
    "search_tab=driver.find_element_by_xpath('/html/body/div/div/div/main/section[1]/div[2]/div[1]/span/div')\n",
    "search_tab"
   ]
  },
  {
   "cell_type": "code",
   "execution_count": 195,
   "id": "ed93c9f8",
   "metadata": {},
   "outputs": [
    {
     "data": {
      "text/plain": [
       "[<selenium.webdriver.remote.webelement.WebElement (session=\"fd9260024fa2acb27b6c6a98f825df17\", element=\"fb145d35-6a55-4078-8bb1-c3aefd42cd4b\")>,\n",
       " <selenium.webdriver.remote.webelement.WebElement (session=\"fd9260024fa2acb27b6c6a98f825df17\", element=\"419431dc-8e58-4e87-a59a-ef79e2a1146e\")>,\n",
       " <selenium.webdriver.remote.webelement.WebElement (session=\"fd9260024fa2acb27b6c6a98f825df17\", element=\"0faf335d-d9ec-4ffa-971e-92668afc07bf\")>,\n",
       " <selenium.webdriver.remote.webelement.WebElement (session=\"fd9260024fa2acb27b6c6a98f825df17\", element=\"3c13605c-34d5-4d69-b046-9220f6ded301\")>,\n",
       " <selenium.webdriver.remote.webelement.WebElement (session=\"fd9260024fa2acb27b6c6a98f825df17\", element=\"7441521b-fe03-422a-9170-e88499a99734\")>,\n",
       " <selenium.webdriver.remote.webelement.WebElement (session=\"fd9260024fa2acb27b6c6a98f825df17\", element=\"44df21eb-b0ea-4d27-a0e5-7bf71b63badc\")>,\n",
       " <selenium.webdriver.remote.webelement.WebElement (session=\"fd9260024fa2acb27b6c6a98f825df17\", element=\"53678306-66f6-46e7-9eff-4d863bc7ca93\")>,\n",
       " <selenium.webdriver.remote.webelement.WebElement (session=\"fd9260024fa2acb27b6c6a98f825df17\", element=\"bebecce7-5721-400c-9019-c7f86df93b62\")>,\n",
       " <selenium.webdriver.remote.webelement.WebElement (session=\"fd9260024fa2acb27b6c6a98f825df17\", element=\"b7b67d82-c606-4a14-853a-a9df07623497\")>,\n",
       " <selenium.webdriver.remote.webelement.WebElement (session=\"fd9260024fa2acb27b6c6a98f825df17\", element=\"8156ec48-c7b0-42c1-b28b-0cd17626377d\")>]"
      ]
     },
     "execution_count": 195,
     "metadata": {},
     "output_type": "execute_result"
    }
   ],
   "source": [
    "# To scrap the company names\n",
    "c=driver.find_elements_by_xpath('//div[@class=\"name\"]//a')\n",
    "c"
   ]
  },
  {
   "cell_type": "code",
   "execution_count": 196,
   "id": "3aa8de48",
   "metadata": {},
   "outputs": [
    {
     "data": {
      "text/plain": [
       "['Ab Inbev',\n",
       " 'ZS',\n",
       " 'Optum',\n",
       " 'Fractal Analytics',\n",
       " 'Tiger Analytics',\n",
       " 'UnitedHealth',\n",
       " 'Verizon',\n",
       " 'Ganit Business Solutions',\n",
       " 'Ericsson',\n",
       " 'Deloitte']"
      ]
     },
     "execution_count": 196,
     "metadata": {},
     "output_type": "execute_result"
    }
   ],
   "source": [
    "company=[]\n",
    "for i in c:\n",
    "    company.append(i.text)\n",
    "company"
   ]
  },
  {
   "cell_type": "code",
   "execution_count": 197,
   "id": "51911932",
   "metadata": {},
   "outputs": [
    {
     "data": {
      "text/plain": [
       "[<selenium.webdriver.remote.webelement.WebElement (session=\"fd9260024fa2acb27b6c6a98f825df17\", element=\"3d1b63ab-0a8e-459a-b768-9963f28991b5\")>,\n",
       " <selenium.webdriver.remote.webelement.WebElement (session=\"fd9260024fa2acb27b6c6a98f825df17\", element=\"6ca5a73f-1b1c-4e82-adfe-44c7be6b510b\")>,\n",
       " <selenium.webdriver.remote.webelement.WebElement (session=\"fd9260024fa2acb27b6c6a98f825df17\", element=\"f46aad2d-506c-4461-a60f-4a5a5f63a072\")>,\n",
       " <selenium.webdriver.remote.webelement.WebElement (session=\"fd9260024fa2acb27b6c6a98f825df17\", element=\"598ef16d-2cb3-4fe2-9629-6c569d06cca9\")>,\n",
       " <selenium.webdriver.remote.webelement.WebElement (session=\"fd9260024fa2acb27b6c6a98f825df17\", element=\"96baf590-161b-4fcb-a0b8-e6f0ec785a42\")>,\n",
       " <selenium.webdriver.remote.webelement.WebElement (session=\"fd9260024fa2acb27b6c6a98f825df17\", element=\"12cf0283-b321-4c1e-ba0c-5e9a1247c996\")>,\n",
       " <selenium.webdriver.remote.webelement.WebElement (session=\"fd9260024fa2acb27b6c6a98f825df17\", element=\"f9fc6092-1af5-4909-9d22-40c914e2581f\")>,\n",
       " <selenium.webdriver.remote.webelement.WebElement (session=\"fd9260024fa2acb27b6c6a98f825df17\", element=\"ac954236-f14c-4891-bb98-74d226efe5bd\")>,\n",
       " <selenium.webdriver.remote.webelement.WebElement (session=\"fd9260024fa2acb27b6c6a98f825df17\", element=\"56c22d02-f995-4335-8987-89d7ba9193ab\")>,\n",
       " <selenium.webdriver.remote.webelement.WebElement (session=\"fd9260024fa2acb27b6c6a98f825df17\", element=\"e6c1ad69-2d94-4255-aefc-9ddef144138e\")>]"
      ]
     },
     "execution_count": 197,
     "metadata": {},
     "output_type": "execute_result"
    }
   ],
   "source": [
    "# To scrap the total salary record\n",
    "tsr=driver.find_elements_by_xpath('//div[@class=\"name\"]/span')\n",
    "tsr"
   ]
  },
  {
   "cell_type": "code",
   "execution_count": 198,
   "id": "12df3160",
   "metadata": {},
   "outputs": [
    {
     "data": {
      "text/plain": [
       "['based on 28 salaries',\n",
       " 'based on 15 salaries',\n",
       " 'based on 25 salaries',\n",
       " 'based on 77 salaries',\n",
       " 'based on 33 salaries',\n",
       " 'based on 52 salaries',\n",
       " 'based on 14 salaries',\n",
       " 'based on 13 salaries',\n",
       " 'based on 43 salaries',\n",
       " 'based on 57 salaries']"
      ]
     },
     "execution_count": 198,
     "metadata": {},
     "output_type": "execute_result"
    }
   ],
   "source": [
    "total=[]\n",
    "for i in tsr:\n",
    "    total.append(i.text)\n",
    "total"
   ]
  },
  {
   "cell_type": "code",
   "execution_count": 200,
   "id": "ae416dbd",
   "metadata": {},
   "outputs": [
    {
     "data": {
      "text/plain": [
       "[<selenium.webdriver.remote.webelement.WebElement (session=\"fd9260024fa2acb27b6c6a98f825df17\", element=\"a2ba51bd-192d-4476-8dd6-656845c3552b\")>,\n",
       " <selenium.webdriver.remote.webelement.WebElement (session=\"fd9260024fa2acb27b6c6a98f825df17\", element=\"ad785b7d-a0f3-4f82-8ec5-14fe3ca47206\")>,\n",
       " <selenium.webdriver.remote.webelement.WebElement (session=\"fd9260024fa2acb27b6c6a98f825df17\", element=\"9a63893f-b846-4b36-94fe-7a34d8ff0cae\")>,\n",
       " <selenium.webdriver.remote.webelement.WebElement (session=\"fd9260024fa2acb27b6c6a98f825df17\", element=\"5fd5414d-380f-43d5-a796-23d60aabf3ce\")>,\n",
       " <selenium.webdriver.remote.webelement.WebElement (session=\"fd9260024fa2acb27b6c6a98f825df17\", element=\"95edcb78-d38b-4377-959b-c9e7347d569d\")>,\n",
       " <selenium.webdriver.remote.webelement.WebElement (session=\"fd9260024fa2acb27b6c6a98f825df17\", element=\"89e588b5-7dd7-4a72-b6b3-b6dae2990803\")>,\n",
       " <selenium.webdriver.remote.webelement.WebElement (session=\"fd9260024fa2acb27b6c6a98f825df17\", element=\"86f0a637-9356-491a-89c5-55f7abdf98b2\")>,\n",
       " <selenium.webdriver.remote.webelement.WebElement (session=\"fd9260024fa2acb27b6c6a98f825df17\", element=\"70534025-42f9-4f67-bc6b-66a01cb49143\")>,\n",
       " <selenium.webdriver.remote.webelement.WebElement (session=\"fd9260024fa2acb27b6c6a98f825df17\", element=\"f6593e55-e3c4-45d3-83f5-71041fe72998\")>,\n",
       " <selenium.webdriver.remote.webelement.WebElement (session=\"fd9260024fa2acb27b6c6a98f825df17\", element=\"5f461ac3-a253-4d4a-8f1c-8ab0e2902b6e\")>]"
      ]
     },
     "execution_count": 200,
     "metadata": {},
     "output_type": "execute_result"
    }
   ],
   "source": [
    "# To scrap the average salary\n",
    "a=driver.find_elements_by_xpath('//p[@class=\"averageCtc\"]')\n",
    "a"
   ]
  },
  {
   "cell_type": "code",
   "execution_count": 201,
   "id": "6b6efc08",
   "metadata": {},
   "outputs": [
    {
     "data": {
      "text/plain": [
       "['₹ 20.3L',\n",
       " '₹ 15.3L',\n",
       " '₹ 15.1L',\n",
       " '₹ 15.1L',\n",
       " '₹ 14.4L',\n",
       " '₹ 13.9L',\n",
       " '₹ 12.7L',\n",
       " '₹ 12.4L',\n",
       " '₹ 11.9L',\n",
       " '₹ 11.7L']"
      ]
     },
     "execution_count": 201,
     "metadata": {},
     "output_type": "execute_result"
    }
   ],
   "source": [
    "average=[]\n",
    "for i in a:\n",
    "    average.append(i.text)\n",
    "average"
   ]
  },
  {
   "cell_type": "code",
   "execution_count": 207,
   "id": "be32fd59",
   "metadata": {},
   "outputs": [
    {
     "data": {
      "text/plain": [
       "[<selenium.webdriver.remote.webelement.WebElement (session=\"fd9260024fa2acb27b6c6a98f825df17\", element=\"8a261b34-b79b-4583-b7bf-9e6ae41513fd\")>,\n",
       " <selenium.webdriver.remote.webelement.WebElement (session=\"fd9260024fa2acb27b6c6a98f825df17\", element=\"35150204-e037-46fa-9e5d-bfa84cfa0274\")>,\n",
       " <selenium.webdriver.remote.webelement.WebElement (session=\"fd9260024fa2acb27b6c6a98f825df17\", element=\"034aace4-13e8-44c4-86e0-238c68c95e10\")>,\n",
       " <selenium.webdriver.remote.webelement.WebElement (session=\"fd9260024fa2acb27b6c6a98f825df17\", element=\"bee9f471-4063-4f45-8cb4-a3e71762a84a\")>,\n",
       " <selenium.webdriver.remote.webelement.WebElement (session=\"fd9260024fa2acb27b6c6a98f825df17\", element=\"1a3a640f-0df8-47ce-aff0-516d96ef8aa2\")>,\n",
       " <selenium.webdriver.remote.webelement.WebElement (session=\"fd9260024fa2acb27b6c6a98f825df17\", element=\"7d54d4f4-2732-4301-bf88-1a9eeb58e7e2\")>,\n",
       " <selenium.webdriver.remote.webelement.WebElement (session=\"fd9260024fa2acb27b6c6a98f825df17\", element=\"a5421c35-54fc-4d35-86a4-2df18d72894c\")>,\n",
       " <selenium.webdriver.remote.webelement.WebElement (session=\"fd9260024fa2acb27b6c6a98f825df17\", element=\"2021f6eb-0964-430c-b396-b5e60baba8a3\")>,\n",
       " <selenium.webdriver.remote.webelement.WebElement (session=\"fd9260024fa2acb27b6c6a98f825df17\", element=\"8a22ee02-2a9b-49c7-9e20-5f4f17631f25\")>,\n",
       " <selenium.webdriver.remote.webelement.WebElement (session=\"fd9260024fa2acb27b6c6a98f825df17\", element=\"0884a7b6-f4db-4869-8817-4293b1516942\")>]"
      ]
     },
     "execution_count": 207,
     "metadata": {},
     "output_type": "execute_result"
    }
   ],
   "source": [
    "# To scrap the minimum salary\n",
    "m=driver.find_elements_by_xpath('//div[@class=\"value body-medium\"][1]')\n",
    "m"
   ]
  },
  {
   "cell_type": "code",
   "execution_count": 208,
   "id": "2b4ce69f",
   "metadata": {},
   "outputs": [
    {
     "data": {
      "text/plain": [
       "['₹ 15.0L',\n",
       " '₹ 9.5L',\n",
       " '₹ 11.0L',\n",
       " '₹ 9.5L',\n",
       " '₹ 8.3L',\n",
       " '₹ 8.3L',\n",
       " '₹ 10.0L',\n",
       " '₹ 8.5L',\n",
       " '₹ 5.8L',\n",
       " '₹ 6.9L']"
      ]
     },
     "execution_count": 208,
     "metadata": {},
     "output_type": "execute_result"
    }
   ],
   "source": [
    "min=[]\n",
    "for i in m:\n",
    "    min.append(i.text)\n",
    "min"
   ]
  },
  {
   "cell_type": "code",
   "execution_count": 210,
   "id": "fb0fd023",
   "metadata": {},
   "outputs": [
    {
     "data": {
      "text/plain": [
       "[<selenium.webdriver.remote.webelement.WebElement (session=\"fd9260024fa2acb27b6c6a98f825df17\", element=\"288b221f-d638-4ce2-a7c2-9543710e252a\")>,\n",
       " <selenium.webdriver.remote.webelement.WebElement (session=\"fd9260024fa2acb27b6c6a98f825df17\", element=\"91a8b8b3-e9ec-44cf-bcee-fdf21d4f140c\")>,\n",
       " <selenium.webdriver.remote.webelement.WebElement (session=\"fd9260024fa2acb27b6c6a98f825df17\", element=\"dd482131-e83d-4824-8123-2e7f3b4de44c\")>,\n",
       " <selenium.webdriver.remote.webelement.WebElement (session=\"fd9260024fa2acb27b6c6a98f825df17\", element=\"7d34c84c-1866-4da5-8092-3e7a8abad850\")>,\n",
       " <selenium.webdriver.remote.webelement.WebElement (session=\"fd9260024fa2acb27b6c6a98f825df17\", element=\"2e282c1c-aa3c-4549-b946-fd5575976198\")>,\n",
       " <selenium.webdriver.remote.webelement.WebElement (session=\"fd9260024fa2acb27b6c6a98f825df17\", element=\"9a730dc4-b18c-417e-a241-cf33bf8aecf1\")>,\n",
       " <selenium.webdriver.remote.webelement.WebElement (session=\"fd9260024fa2acb27b6c6a98f825df17\", element=\"2f458d71-1a72-4d5b-9098-623da54b9dd1\")>,\n",
       " <selenium.webdriver.remote.webelement.WebElement (session=\"fd9260024fa2acb27b6c6a98f825df17\", element=\"5a5cbc30-0ccc-48c2-a593-b3dd8f096ef9\")>,\n",
       " <selenium.webdriver.remote.webelement.WebElement (session=\"fd9260024fa2acb27b6c6a98f825df17\", element=\"be5aef7f-a8b3-4281-a972-1986108a5df6\")>,\n",
       " <selenium.webdriver.remote.webelement.WebElement (session=\"fd9260024fa2acb27b6c6a98f825df17\", element=\"77ab44e2-c6b2-4985-b612-fe547a9ad03e\")>]"
      ]
     },
     "execution_count": 210,
     "metadata": {},
     "output_type": "execute_result"
    }
   ],
   "source": [
    "# To scrap the maximum salary\n",
    "ma=driver.find_elements_by_xpath('//div[@class=\"value body-medium\"][2]')\n",
    "ma"
   ]
  },
  {
   "cell_type": "code",
   "execution_count": 211,
   "id": "3f0c3e64",
   "metadata": {},
   "outputs": [
    {
     "data": {
      "text/plain": [
       "['₹ 25.5L',\n",
       " '₹ 20.0L',\n",
       " '₹ 21.3L',\n",
       " '₹ 22.0L',\n",
       " '₹ 20.0L',\n",
       " '₹ 20.5L',\n",
       " '₹ 21.0L',\n",
       " '₹ 15.0L',\n",
       " '₹ 24.0L',\n",
       " '₹ 23.4L']"
      ]
     },
     "execution_count": 211,
     "metadata": {},
     "output_type": "execute_result"
    }
   ],
   "source": [
    "max=[]\n",
    "for i in ma:\n",
    "    max.append(i.text)\n",
    "max"
   ]
  },
  {
   "cell_type": "code",
   "execution_count": 212,
   "id": "b98945ff",
   "metadata": {},
   "outputs": [
    {
     "data": {
      "text/plain": [
       "[<selenium.webdriver.remote.webelement.WebElement (session=\"fd9260024fa2acb27b6c6a98f825df17\", element=\"8c911735-bd3f-453e-a11f-f2f024910d29\")>,\n",
       " <selenium.webdriver.remote.webelement.WebElement (session=\"fd9260024fa2acb27b6c6a98f825df17\", element=\"bff724d7-7cde-42fd-ad3c-7fd60792f29b\")>,\n",
       " <selenium.webdriver.remote.webelement.WebElement (session=\"fd9260024fa2acb27b6c6a98f825df17\", element=\"923bc369-d4ca-4473-9efb-a7656a2030af\")>,\n",
       " <selenium.webdriver.remote.webelement.WebElement (session=\"fd9260024fa2acb27b6c6a98f825df17\", element=\"eec089a4-0a90-4d16-9332-dfe6fb6d1ff7\")>,\n",
       " <selenium.webdriver.remote.webelement.WebElement (session=\"fd9260024fa2acb27b6c6a98f825df17\", element=\"c6355ee7-c79a-404e-a796-52167b5727e8\")>,\n",
       " <selenium.webdriver.remote.webelement.WebElement (session=\"fd9260024fa2acb27b6c6a98f825df17\", element=\"f189f1e8-00ee-4bd0-a769-5cfdc1a9c846\")>,\n",
       " <selenium.webdriver.remote.webelement.WebElement (session=\"fd9260024fa2acb27b6c6a98f825df17\", element=\"b1933f6a-76f1-48b3-ba3c-cf11ea58f159\")>,\n",
       " <selenium.webdriver.remote.webelement.WebElement (session=\"fd9260024fa2acb27b6c6a98f825df17\", element=\"eef0717e-4c6b-46e9-a74c-791343249e9f\")>,\n",
       " <selenium.webdriver.remote.webelement.WebElement (session=\"fd9260024fa2acb27b6c6a98f825df17\", element=\"98566fa3-cb78-4f75-aadf-a3413a29f39a\")>,\n",
       " <selenium.webdriver.remote.webelement.WebElement (session=\"fd9260024fa2acb27b6c6a98f825df17\", element=\"d3da61f3-4ad5-44d7-8809-bd220b23db89\")>]"
      ]
     },
     "execution_count": 212,
     "metadata": {},
     "output_type": "execute_result"
    }
   ],
   "source": [
    "# To scrap the required experience\n",
    "e=driver.find_elements_by_xpath('//div[@class=\"salaries sbold-list-header\"]')\n",
    "e"
   ]
  },
  {
   "cell_type": "code",
   "execution_count": 213,
   "id": "c39865fc",
   "metadata": {},
   "outputs": [
    {
     "data": {
      "text/plain": [
       "[['3-4', 'yrs', 'exp'],\n",
       " ['2', 'yrs', 'exp'],\n",
       " ['3-4', 'yrs', 'exp'],\n",
       " ['2-4', 'yrs', 'exp'],\n",
       " ['3-4', 'yrs', 'exp'],\n",
       " ['2-4', 'yrs', 'exp'],\n",
       " ['4', 'yrs', 'exp'],\n",
       " ['4', 'yrs', 'exp'],\n",
       " ['3-4', 'yrs', 'exp'],\n",
       " ['2-4', 'yrs', 'exp']]"
      ]
     },
     "execution_count": 213,
     "metadata": {},
     "output_type": "execute_result"
    }
   ],
   "source": [
    "exp=[]\n",
    "for i in e:\n",
    "    exp.append(i.text.split()[3:])\n",
    "exp"
   ]
  },
  {
   "cell_type": "code",
   "execution_count": 214,
   "id": "fbbd36cf",
   "metadata": {},
   "outputs": [
    {
     "name": "stdout",
     "output_type": "stream",
     "text": [
      "10 10 10 10 10 10\n"
     ]
    }
   ],
   "source": [
    "print(len(company),len(total),len(average),len(min),len(max),len(exp))"
   ]
  },
  {
   "cell_type": "code",
   "execution_count": 216,
   "id": "6e4feaca",
   "metadata": {},
   "outputs": [],
   "source": [
    "df=pd.DataFrame()\n",
    "df['Company']=company\n",
    "df['Total Salary']=total\n",
    "df['Average Salary']=average\n",
    "df['Minimum Salary']=min\n",
    "df['Maximum Salary']=max\n",
    "df['Experience Required']=exp"
   ]
  },
  {
   "cell_type": "code",
   "execution_count": 217,
   "id": "b9a76540",
   "metadata": {},
   "outputs": [
    {
     "data": {
      "text/html": [
       "<div>\n",
       "<style scoped>\n",
       "    .dataframe tbody tr th:only-of-type {\n",
       "        vertical-align: middle;\n",
       "    }\n",
       "\n",
       "    .dataframe tbody tr th {\n",
       "        vertical-align: top;\n",
       "    }\n",
       "\n",
       "    .dataframe thead th {\n",
       "        text-align: right;\n",
       "    }\n",
       "</style>\n",
       "<table border=\"1\" class=\"dataframe\">\n",
       "  <thead>\n",
       "    <tr style=\"text-align: right;\">\n",
       "      <th></th>\n",
       "      <th>Company</th>\n",
       "      <th>Total Salary</th>\n",
       "      <th>Average Salary</th>\n",
       "      <th>Minimum Salary</th>\n",
       "      <th>Maximum Salary</th>\n",
       "      <th>Experience Required</th>\n",
       "    </tr>\n",
       "  </thead>\n",
       "  <tbody>\n",
       "    <tr>\n",
       "      <th>0</th>\n",
       "      <td>Ab Inbev</td>\n",
       "      <td>based on 28 salaries</td>\n",
       "      <td>₹ 20.3L</td>\n",
       "      <td>₹ 15.0L</td>\n",
       "      <td>₹ 25.5L</td>\n",
       "      <td>[3-4, yrs, exp]</td>\n",
       "    </tr>\n",
       "    <tr>\n",
       "      <th>1</th>\n",
       "      <td>ZS</td>\n",
       "      <td>based on 15 salaries</td>\n",
       "      <td>₹ 15.3L</td>\n",
       "      <td>₹ 9.5L</td>\n",
       "      <td>₹ 20.0L</td>\n",
       "      <td>[2, yrs, exp]</td>\n",
       "    </tr>\n",
       "    <tr>\n",
       "      <th>2</th>\n",
       "      <td>Optum</td>\n",
       "      <td>based on 25 salaries</td>\n",
       "      <td>₹ 15.1L</td>\n",
       "      <td>₹ 11.0L</td>\n",
       "      <td>₹ 21.3L</td>\n",
       "      <td>[3-4, yrs, exp]</td>\n",
       "    </tr>\n",
       "    <tr>\n",
       "      <th>3</th>\n",
       "      <td>Fractal Analytics</td>\n",
       "      <td>based on 77 salaries</td>\n",
       "      <td>₹ 15.1L</td>\n",
       "      <td>₹ 9.5L</td>\n",
       "      <td>₹ 22.0L</td>\n",
       "      <td>[2-4, yrs, exp]</td>\n",
       "    </tr>\n",
       "    <tr>\n",
       "      <th>4</th>\n",
       "      <td>Tiger Analytics</td>\n",
       "      <td>based on 33 salaries</td>\n",
       "      <td>₹ 14.4L</td>\n",
       "      <td>₹ 8.3L</td>\n",
       "      <td>₹ 20.0L</td>\n",
       "      <td>[3-4, yrs, exp]</td>\n",
       "    </tr>\n",
       "    <tr>\n",
       "      <th>5</th>\n",
       "      <td>UnitedHealth</td>\n",
       "      <td>based on 52 salaries</td>\n",
       "      <td>₹ 13.9L</td>\n",
       "      <td>₹ 8.3L</td>\n",
       "      <td>₹ 20.5L</td>\n",
       "      <td>[2-4, yrs, exp]</td>\n",
       "    </tr>\n",
       "    <tr>\n",
       "      <th>6</th>\n",
       "      <td>Verizon</td>\n",
       "      <td>based on 14 salaries</td>\n",
       "      <td>₹ 12.7L</td>\n",
       "      <td>₹ 10.0L</td>\n",
       "      <td>₹ 21.0L</td>\n",
       "      <td>[4, yrs, exp]</td>\n",
       "    </tr>\n",
       "    <tr>\n",
       "      <th>7</th>\n",
       "      <td>Ganit Business Solutions</td>\n",
       "      <td>based on 13 salaries</td>\n",
       "      <td>₹ 12.4L</td>\n",
       "      <td>₹ 8.5L</td>\n",
       "      <td>₹ 15.0L</td>\n",
       "      <td>[4, yrs, exp]</td>\n",
       "    </tr>\n",
       "    <tr>\n",
       "      <th>8</th>\n",
       "      <td>Ericsson</td>\n",
       "      <td>based on 43 salaries</td>\n",
       "      <td>₹ 11.9L</td>\n",
       "      <td>₹ 5.8L</td>\n",
       "      <td>₹ 24.0L</td>\n",
       "      <td>[3-4, yrs, exp]</td>\n",
       "    </tr>\n",
       "    <tr>\n",
       "      <th>9</th>\n",
       "      <td>Deloitte</td>\n",
       "      <td>based on 57 salaries</td>\n",
       "      <td>₹ 11.7L</td>\n",
       "      <td>₹ 6.9L</td>\n",
       "      <td>₹ 23.4L</td>\n",
       "      <td>[2-4, yrs, exp]</td>\n",
       "    </tr>\n",
       "  </tbody>\n",
       "</table>\n",
       "</div>"
      ],
      "text/plain": [
       "                    Company          Total Salary Average Salary  \\\n",
       "0                  Ab Inbev  based on 28 salaries        ₹ 20.3L   \n",
       "1                        ZS  based on 15 salaries        ₹ 15.3L   \n",
       "2                     Optum  based on 25 salaries        ₹ 15.1L   \n",
       "3         Fractal Analytics  based on 77 salaries        ₹ 15.1L   \n",
       "4           Tiger Analytics  based on 33 salaries        ₹ 14.4L   \n",
       "5              UnitedHealth  based on 52 salaries        ₹ 13.9L   \n",
       "6                   Verizon  based on 14 salaries        ₹ 12.7L   \n",
       "7  Ganit Business Solutions  based on 13 salaries        ₹ 12.4L   \n",
       "8                  Ericsson  based on 43 salaries        ₹ 11.9L   \n",
       "9                  Deloitte  based on 57 salaries        ₹ 11.7L   \n",
       "\n",
       "  Minimum Salary Maximum Salary Experience Required  \n",
       "0        ₹ 15.0L        ₹ 25.5L     [3-4, yrs, exp]  \n",
       "1         ₹ 9.5L        ₹ 20.0L       [2, yrs, exp]  \n",
       "2        ₹ 11.0L        ₹ 21.3L     [3-4, yrs, exp]  \n",
       "3         ₹ 9.5L        ₹ 22.0L     [2-4, yrs, exp]  \n",
       "4         ₹ 8.3L        ₹ 20.0L     [3-4, yrs, exp]  \n",
       "5         ₹ 8.3L        ₹ 20.5L     [2-4, yrs, exp]  \n",
       "6        ₹ 10.0L        ₹ 21.0L       [4, yrs, exp]  \n",
       "7         ₹ 8.5L        ₹ 15.0L       [4, yrs, exp]  \n",
       "8         ₹ 5.8L        ₹ 24.0L     [3-4, yrs, exp]  \n",
       "9         ₹ 6.9L        ₹ 23.4L     [2-4, yrs, exp]  "
      ]
     },
     "execution_count": 217,
     "metadata": {},
     "output_type": "execute_result"
    }
   ],
   "source": [
    "df"
   ]
  }
 ],
 "metadata": {
  "kernelspec": {
   "display_name": "Python 3",
   "language": "python",
   "name": "python3"
  },
  "language_info": {
   "codemirror_mode": {
    "name": "ipython",
    "version": 3
   },
   "file_extension": ".py",
   "mimetype": "text/x-python",
   "name": "python",
   "nbconvert_exporter": "python",
   "pygments_lexer": "ipython3",
   "version": "3.8.8"
  }
 },
 "nbformat": 4,
 "nbformat_minor": 5
}
