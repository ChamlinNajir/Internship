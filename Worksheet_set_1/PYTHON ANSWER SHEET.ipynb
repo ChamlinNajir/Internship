{
 "cells": [
  {
   "cell_type": "markdown",
   "id": "12e7e5dd",
   "metadata": {},
   "source": [
    "# QUESTION 11"
   ]
  },
  {
   "cell_type": "code",
   "execution_count": 1,
   "id": "b277b645",
   "metadata": {},
   "outputs": [],
   "source": [
    "import math"
   ]
  },
  {
   "cell_type": "code",
   "execution_count": 2,
   "id": "3de41d16",
   "metadata": {},
   "outputs": [
    {
     "name": "stdout",
     "output_type": "stream",
     "text": [
      "Enter any number : 5\n",
      "The factorial of the number is : 120\n"
     ]
    }
   ],
   "source": [
    "n=int(input(\"Enter any number : \"))\n",
    "print('The factorial of the number is :', math.factorial(n))"
   ]
  },
  {
   "cell_type": "markdown",
   "id": "551ffa28",
   "metadata": {},
   "source": [
    "# QUESTION 12"
   ]
  },
  {
   "cell_type": "code",
   "execution_count": 2,
   "id": "eb486621",
   "metadata": {},
   "outputs": [
    {
     "name": "stdout",
     "output_type": "stream",
     "text": [
      "Enter any number : 6\n",
      "Given number is a composite number\n"
     ]
    }
   ],
   "source": [
    "number=int(input('Enter any number : '))\n",
    "count=0\n",
    "i=1\n",
    "while(i<=number):\n",
    "    if number%i==0: #to check for factors of the enterred number\n",
    "        count=count+1\n",
    "    i=i+1\n",
    "if count==2:\n",
    "    print('Given number is prime')\n",
    "elif count>2:\n",
    "    print('Given number is a composite number')\n",
    "else:\n",
    "    print('The number is neither prime nor composite')"
   ]
  },
  {
   "cell_type": "markdown",
   "id": "e4621141",
   "metadata": {},
   "source": [
    "# QUESTION 13"
   ]
  },
  {
   "cell_type": "code",
   "execution_count": 3,
   "id": "83e1cb08",
   "metadata": {},
   "outputs": [
    {
     "name": "stdout",
     "output_type": "stream",
     "text": [
      "Enter any string : python\n",
      "Given string is not palindrome\n"
     ]
    }
   ],
   "source": [
    "string=input('Enter any string : ')\n",
    "pal=string[-1::-1]\n",
    "if(string==pal):\n",
    "    print('Given string is palindrome')\n",
    "else:\n",
    "    print('Given string is not palindrome')"
   ]
  },
  {
   "cell_type": "markdown",
   "id": "5b80cfde",
   "metadata": {},
   "source": [
    "# QUESTION 14"
   ]
  },
  {
   "cell_type": "code",
   "execution_count": 4,
   "id": "ff88d7d7",
   "metadata": {},
   "outputs": [],
   "source": [
    "from math import sqrt"
   ]
  },
  {
   "cell_type": "code",
   "execution_count": 5,
   "id": "53fcd9a8",
   "metadata": {},
   "outputs": [
    {
     "name": "stdout",
     "output_type": "stream",
     "text": [
      "Enter length of first side : 12\n",
      "Enter length of second side : 13\n",
      "The third side of the triangle is :  17.69180601295413\n"
     ]
    }
   ],
   "source": [
    "# First get the two sides of the triangle\n",
    "\n",
    "x=float(input('Enter length of first side : '))\n",
    "y=float(input('Enter length of second side : '))\n",
    "z=sqrt(x**2 + y**2)\n",
    "print('The third side of the triangle is : ',z)"
   ]
  },
  {
   "cell_type": "markdown",
   "id": "b0462cfc",
   "metadata": {},
   "source": [
    "# QUESTION 15"
   ]
  },
  {
   "cell_type": "code",
   "execution_count": 8,
   "id": "44c49351",
   "metadata": {},
   "outputs": [
    {
     "name": "stdout",
     "output_type": "stream",
     "text": [
      "Enter any string : anaconda\n"
     ]
    }
   ],
   "source": [
    "string=input('Enter any string : ')\n",
    "count={}\n",
    "for i in string:\n",
    "    if i in count.keys():\n",
    "        count[i]+=1\n",
    "    else:\n",
    "        count[i]=1"
   ]
  },
  {
   "cell_type": "code",
   "execution_count": 9,
   "id": "fb4bc388",
   "metadata": {},
   "outputs": [
    {
     "data": {
      "text/plain": [
       "{'a': 3, 'n': 2, 'c': 1, 'o': 1, 'd': 1}"
      ]
     },
     "execution_count": 9,
     "metadata": {},
     "output_type": "execute_result"
    }
   ],
   "source": [
    "count"
   ]
  }
 ],
 "metadata": {
  "kernelspec": {
   "display_name": "Python 3",
   "language": "python",
   "name": "python3"
  },
  "language_info": {
   "codemirror_mode": {
    "name": "ipython",
    "version": 3
   },
   "file_extension": ".py",
   "mimetype": "text/x-python",
   "name": "python",
   "nbconvert_exporter": "python",
   "pygments_lexer": "ipython3",
   "version": "3.8.8"
  }
 },
 "nbformat": 4,
 "nbformat_minor": 5
}
